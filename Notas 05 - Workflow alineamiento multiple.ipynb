{
 "cells": [
  {
   "cell_type": "markdown",
   "metadata": {},
   "source": [
    "## Observa cómo descargamos un archivo FASTA que contiene varias secuencias"
   ]
  },
  {
   "cell_type": "code",
   "execution_count": 3,
   "metadata": {
    "collapsed": false
   },
   "outputs": [
    {
     "name": "stdout",
     "output_type": "stream",
     "text": [
      "--2015-11-09 11:31:26--  http://biopython.org/DIST/docs/tutorial/examples/opuntia.fasta\n",
      "Resolving biopython.org... 54.243.166.98\n",
      "Connecting to biopython.org|54.243.166.98|:80... connected.\n",
      "HTTP request sent, awaiting response... 200 OK\n",
      "Length: 7292 (7.1K)\n",
      "Saving to: “data/opuntia.fasta”\n",
      "\n",
      "100%[======================================>] 7,292       --.-K/s   in 0s      \n",
      "\n",
      "2015-11-09 11:31:27 (510 MB/s) - “data/opuntia.fasta” saved [7292/7292]\n",
      "\n"
     ]
    }
   ],
   "source": [
    "!wget http://biopython.org/DIST/docs/tutorial/examples/opuntia.fasta -O data/opuntia.fasta"
   ]
  },
  {
   "cell_type": "code",
   "execution_count": 4,
   "metadata": {
    "collapsed": false
   },
   "outputs": [
    {
     "name": "stdout",
     "output_type": "stream",
     "text": [
      "facturas.csv  opuntia.fasta  sampledata.csv\r\n"
     ]
    }
   ],
   "source": [
    "!ls data"
   ]
  },
  {
   "cell_type": "markdown",
   "metadata": {},
   "source": [
    "## Usamos CLUSTAL para el alineamiento múltiple de las secuencias y crear los árboles filogenéticos \n",
    "\n",
    "Observa que no usamos los _wrappers_ de **Biopython** sino que llamamos direcamente a CLUSTAL usando magics de Python"
   ]
  },
  {
   "cell_type": "code",
   "execution_count": 5,
   "metadata": {
    "collapsed": false
   },
   "outputs": [
    {
     "name": "stdout",
     "output_type": "stream",
     "text": [
      "\n",
      "\n",
      "\n",
      " CLUSTAL 2.1 Multiple Sequence Alignments\n",
      "\n",
      "\n",
      "Sequence format is Pearson\n",
      "Sequence 1: gi|6273291|gb|AF191665.1|AF191665   902 bp\n",
      "Sequence 2: gi|6273290|gb|AF191664.1|AF191664   899 bp\n",
      "Sequence 3: gi|6273289|gb|AF191663.1|AF191663   899 bp\n",
      "Sequence 4: gi|6273287|gb|AF191661.1|AF191661   895 bp\n",
      "Sequence 5: gi|6273286|gb|AF191660.1|AF191660   893 bp\n",
      "Sequence 6: gi|6273285|gb|AF191659.1|AF191659   894 bp\n",
      "Sequence 7: gi|6273284|gb|AF191658.1|AF191658   896 bp\n",
      "Start of Pairwise alignments\n",
      "Aligning...\n",
      "\n",
      "Sequences (1:2) Aligned. Score:  99\n",
      "Sequences (1:3) Aligned. Score:  99\n",
      "Sequences (1:4) Aligned. Score:  98\n",
      "Sequences (1:5) Aligned. Score:  98\n",
      "Sequences (1:6) Aligned. Score:  98\n",
      "Sequences (1:7) Aligned. Score:  98\n",
      "Sequences (2:3) Aligned. Score:  99\n",
      "Sequences (2:4) Aligned. Score:  98\n",
      "Sequences (2:5) Aligned. Score:  98\n",
      "Sequences (2:6) Aligned. Score:  98\n",
      "Sequences (2:7) Aligned. Score:  98\n",
      "Sequences (3:4) Aligned. Score:  98\n",
      "Sequences (3:5) Aligned. Score:  98\n",
      "Sequences (3:6) Aligned. Score:  98\n",
      "Sequences (3:7) Aligned. Score:  98\n",
      "Sequences (4:5) Aligned. Score:  99\n",
      "Sequences (4:6) Aligned. Score:  99\n",
      "Sequences (4:7) Aligned. Score:  99\n",
      "Sequences (5:6) Aligned. Score:  99\n",
      "Sequences (5:7) Aligned. Score:  99\n",
      "Sequences (6:7) Aligned. Score:  99\n",
      "Guide tree file created:   [data/opuntia.dnd]\n",
      "\n",
      "There are 6 groups\n",
      "Start of Multiple Alignment\n",
      "\n",
      "Aligning...\n",
      "Group 1: Sequences:   2      Score:16933\n",
      "Group 2: Sequences:   2      Score:16703\n",
      "Group 3: Sequences:   4      Score:16812\n",
      "Group 4: Sequences:   2      Score:17071\n",
      "Group 5: Sequences:   3      Score:16845\n",
      "Group 6: Sequences:   7      Score:16678\n",
      "Alignment Score 114256\n",
      "\n",
      "PHYLIP-Alignment file created   [data/opuntia-clustal.phy]\n",
      "\n"
     ]
    }
   ],
   "source": [
    "!clustalw2 -INFILE=data/opuntia.fasta -outfile=data/opuntia-clustal.phy -ALIGN -OUTPUT=PHYLIP"
   ]
  },
  {
   "cell_type": "code",
   "execution_count": 2,
   "metadata": {
    "collapsed": false
   },
   "outputs": [],
   "source": [
    "from Bio import Phylo, AlignIO\n",
    "%matplotlib inline\n",
    "tree = Phylo.read('data/opuntia.dnd', 'newick')"
   ]
  },
  {
   "cell_type": "code",
   "execution_count": 3,
   "metadata": {
    "collapsed": false
   },
   "outputs": [
    {
     "data": {
      "image/png": "[encoded data removed]",
      "text/plain": [
       "<matplotlib.figure.Figure at 0x7f1c32193f50>"
      ]
     },
     "metadata": {},
     "output_type": "display_data"
    }
   ],
   "source": [
    "Phylo.draw(tree)"
   ]
  },
  {
   "cell_type": "code",
   "execution_count": 4,
   "metadata": {
    "collapsed": false
   },
   "outputs": [
    {
     "data": {
      "image/png": "[encoded data removed]",
      "text/plain": [
       "<matplotlib.figure.Figure at 0x7f1c2577fb10>"
      ]
     },
     "metadata": {},
     "output_type": "display_data"
    }
   ],
   "source": [
    "Phylo.draw_graphviz(tree)"
   ]
  },
  {
   "cell_type": "code",
   "execution_count": 18,
   "metadata": {
    "collapsed": false
   },
   "outputs": [
    {
     "name": "stdout",
     "output_type": "stream",
     "text": [
      "id           sequence (first 60 symbols)                                       length\n",
      "gi|6273285 - TATACATTAAAGAAGGGGGATGCGGATAAATGGAAAGGCGAAAGAAAGAAAAAAATGAAT... - 906\n",
      "gi|6273284 - TATACATTAAAGAAGGGGGATGCGGATAAATGGAAAGGCGAAAGAAAGAAAAAAATGAAT... - 906\n",
      "gi|6273287 - TATACATTAAAGAAGGGGGATGCGGATAAATGGAAAGGCGAAAGAAAGAAAAAAATGAAT... - 906\n",
      "gi|6273286 - TATACATAAAAGAAGGGGGATGCGGATAAATGGAAAGGCGAAAGAAAGAAAAAAATGAAT... - 906\n",
      "gi|6273290 - TATACATTAAAGGAGGGGGATGCGGATAAATGGAAAGGCGAAAGAAAGAAAAAAATGAAT... - 906\n",
      "gi|6273289 - TATACATTAAAGGAGGGGGATGCGGATAAATGGAAAGGCGAAAGAAAGAAAAAAATGAAT... - 906\n",
      "gi|6273291 - TATACATTAAAGGAGGGGGATGCGGATAAATGGAAAGGCGAAAGAAAGAAAAAAATGAAT... - 906\n"
     ]
    }
   ],
   "source": [
    "align_c = AlignIO.read(open(\"data/opuntia-clustal.phy\", \"rU\"), \"phylip\")\n",
    "print \"id           sequence (first 60 symbols)                                       length\"\n",
    "for record in align_c:\n",
    "    print \"%s - %s... - %d\" % (record.id, record.seq[:60], len(record.seq))    "
   ]
  },
  {
   "cell_type": "markdown",
   "metadata": {},
   "source": [
    "## Usamos MUSCLE para la misma tarea de alineamiento múltiple"
   ]
  },
  {
   "cell_type": "code",
   "execution_count": 6,
   "metadata": {
    "collapsed": false
   },
   "outputs": [
    {
     "name": "stdout",
     "output_type": "stream",
     "text": [
      "\n",
      "MUSCLE v3.8.31 by Robert C. Edgar\n",
      "\n",
      "http://www.drive5.com/muscle\n",
      "This software is donated to the public domain.\n",
      "Please cite: Edgar, R.C. Nucleic Acids Res 32(5), 1792-97.\n",
      "\n",
      "opuntia 7 seqs, max length 902, avg  length 896\n",
      "00:00:00     10 MB(1%)  Iter   1  100.00%  K-mer dist pass 1\n",
      "00:00:00     10 MB(1%)  Iter   1  100.00%  K-mer dist pass 2\n",
      "00:00:00     17 MB(2%)  Iter   1  100.00%  Align node\n",
      "00:00:00     17 MB(2%)  Iter   1  100.00%  Root alignment\n",
      "00:00:00     17 MB(2%)  Iter   2  100.00%  Refine tree\n",
      "00:00:00     17 MB(2%)  Iter   2  100.00%  Root alignment\n",
      "00:00:00     17 MB(2%)  Iter   2  100.00%  Root alignment\n",
      "00:00:00     17 MB(2%)  Iter   3  100.00%  Refine biparts\n",
      "00:00:00     17 MB(2%)  Iter   4  100.00%  Refine biparts\n"
     ]
    }
   ],
   "source": [
    "!muscle -in data/opuntia.fasta -phyiout data/opuntia-muscle.phy "
   ]
  },
  {
   "cell_type": "code",
   "execution_count": 19,
   "metadata": {
    "collapsed": false,
    "scrolled": true
   },
   "outputs": [
    {
     "name": "stdout",
     "output_type": "stream",
     "text": [
      "id           sequence (first 60 symbols)                                       length\n",
      "gi|6273289 - TATACATTAAAGGAGGGGGATGCGGATAAATGGAAAGGCGAAAGAAAGAAAAAAATGAAT... - 906\n",
      "gi|6273291 - TATACATTAAAGGAGGGGGATGCGGATAAATGGAAAGGCGAAAGAAAGAAAAAAATGAAT... - 906\n",
      "gi|6273290 - TATACATTAAAGGAGGGGGATGCGGATAAATGGAAAGGCGAAAGAAAGAAAAAAATGAAT... - 906\n",
      "gi|6273287 - TATACATTAAAGAAGGGGGATGCGGATAAATGGAAAGGCGAAAGAAAGAAAAAAATGAAT... - 906\n",
      "gi|6273286 - TATACATAAAAGAAGGGGGATGCGGATAAATGGAAAGGCGAAAGAAAGAAAAAAATGAAT... - 906\n",
      "gi|6273285 - TATACATTAAAGAAGGGGGATGCGGATAAATGGAAAGGCGAAAGAAAGAAAAAAATGAAT... - 906\n",
      "gi|6273284 - TATACATTAAAGAAGGGGGATGCGGATAAATGGAAAGGCGAAAGAAAGAAAAAAATGAAT... - 906\n"
     ]
    }
   ],
   "source": [
    "align_m = AlignIO.read(open(\"data/opuntia-muscle.phy\", \"rU\"), \"phylip\")\n",
    "print \"id           sequence (first 60 symbols)                                       length\"\n",
    "for record in align_m:\n",
    "    print \"%s - %s... - %d\" % (record.id, record.seq[:60], len(record.seq)) "
   ]
  },
  {
   "cell_type": "markdown",
   "metadata": {},
   "source": [
    "## Comparamos los resultados. Observa que ambos algoritmos de alineamiento no producen exactamente los mismos resultados"
   ]
  },
  {
   "cell_type": "code",
   "execution_count": 20,
   "metadata": {
    "collapsed": false,
    "scrolled": false
   },
   "outputs": [
    {
     "name": "stdout",
     "output_type": "stream",
     "text": [
      "--- alignment for gi|6273289---\n",
      "muscle [   0:  80]:TATACATTAAAGGAGGGGGATGCGGATAAATGGAAAGGCGAAAGAAAGAAAAAAATGAATCTAAATGATATAGGATTCCA\n",
      "clustal[   0:  80]:TATACATTAAAGGAGGGGGATGCGGATAAATGGAAAGGCGAAAGAAAGAAAAAAATGAATCTAAATGATATAGGATTCCA\n",
      "\n",
      "muscle [  80: 160]:CTATGTAAGGTCTTTGAATCATATCATAAAAGACAATGTAATAAAGCATGAATACAGATTCACACATAATTATCTGATAT\n",
      "clustal[  80: 160]:CTATGTAAGGTCTTTGAATCATATCATAAAAGACAATGTAATAAAGCATGAATACAGATTCACACATAATTATCTGATAT\n",
      "\n",
      "muscle [ 160: 240]:GAATCTATTCATAGAAAAAAGAAAAAAGTAAGAGCCTCCGGCCAATAAAGACTAAGAGGGTTGGCTCAAGAACAAAGTTC\n",
      "clustal[ 160: 240]:GAATCTATTCATAGAAAAAAGAAAAAAGTAAGAGCCTCCGGCCAATAAAGACTAAGAGGGTTGGCTCAAGAACAAAGTTC\n",
      "\n",
      "muscle [ 240: 320]:ATTAAGAGCTCCATTGTAGAATTCAGACCTAATCATTAATCAAGAAGCGATGGGAACGATGTAATCCATGAATACAGAAG\n",
      "clustal[ 240: 320]:ATTAAGAGCTCCATTGTAGAATTCAGACCTAATCATTAATCAAGAAGCGATGGGAACGATGTAATCCATGAATACAGAAG\n",
      "\n",
      "muscle [ 320: 400]:ATTCAATTGAAAAAGATCCTAATGATTCATTGGGAAGGATGGCGGAACGAACCAGAGACCAATTCATCTATTCTGAAAAG\n",
      "clustal[ 320: 400]:ATTCAATTGAAAAAGATCCTAATGATTCATTGGGAAGGATGGCGGAACGAACCAGAGACCAATTCATCTATTCTGAAAAG\n",
      "\n",
      "muscle [ 400: 480]:TGATAAACTAATCCTATAAAACTAAAATAGATATTGAAAGAGTAAATATTCGCCCGCGAAAATTCC-TTTTTTATTAAAT\n",
      "clustal[ 400: 480]:TGATAAACTAATCCTATAAAACTAAAATAGATATTGAAAGAGTAAATATTCGCCCGCGAAAATTCCTTTTTTATT-AAAT\n",
      "\n",
      "muscle [ 480: 560]:TGCTCATATTTTCTTTTAGCAATGCAATCTAATAAAATATATCTATACAAAAAAACATAGACAAAC------TATATATA\n",
      "clustal[ 480: 560]:TGCTCATATTTTCTTTTAGCAATGCAATCTAATAAAATATATCTATACAAAAAAACATAGACAAACTATATATATATATA\n",
      "\n",
      "muscle [ 560: 640]:TATATAATATATTTCAAATTCCCTTATATATCCAAATATAAAAATATCTAATAAATTAGATGAATATCAAAGAATCTATT\n",
      "clustal[ 560: 640]:------ATATATTTCAAATTCCCTTATATATCCAAATATAAAAATATCTAATAAATTAGATGAATATCAAAGAATCTATT\n",
      "\n",
      "muscle [ 640: 720]:GATTTAGTATATTATTAAATGTATATATTAATTCAATATTATTATTCTATTCATTTTTATTCATTTTCAAATTTATAATA\n",
      "clustal[ 640: 720]:GATTTAGTATATTATTAAATGTATATATTAATTCAATATTATTATTCTATTCATTTTTATTCATTTTCAAATTTATAATA\n",
      "\n",
      "muscle [ 720: 800]:TATTAATCTATATATTAATTTAGAATTCTATTCTAATTCGAATTCAATTTTTAAATATTCATATTCAATTAAAATTGAAA\n",
      "clustal[ 720: 800]:TATTAATCTATATATTAATTTAGAATTCTATTCTAATTCGAATTCAATTTTTAAATATTCATATTCAATTAAAATTGAAA\n",
      "\n",
      "muscle [ 800: 880]:TTTTTTCATTCGCGAGGAGCCGGATGAGAAGAAACTCTCATGTCCGGTTCTGTAGTAGAGATGGAATTAAGAAAAAACCA\n",
      "clustal[ 800: 880]:TTTTTTCATTCGCGAGGAGCCGGATGAGAAGAAACTCTCATGTCCGGTTCTGTAGTAGAGATGGAATTAAGAAAAAACCA\n",
      "\n",
      "muscle [ 880: 960]:TCAACTATAACCCCAAAAGAACCAGA\n",
      "clustal[ 880: 960]:TCAACTATAACCCCAAAAGAACCAGA\n",
      "\n",
      "-------------------------------\n",
      "--- alignment for gi|6273291---\n",
      "muscle [   0:  80]:TATACATTAAAGGAGGGGGATGCGGATAAATGGAAAGGCGAAAGAAAGAAAAAAATGAATCTAAATGATATAGGATTCCA\n",
      "clustal[   0:  80]:TATACATTAAAGGAGGGGGATGCGGATAAATGGAAAGGCGAAAGAAAGAAAAAAATGAATCTAAATGATATAGGATTCCA\n",
      "\n",
      "muscle [  80: 160]:CTATGTAAGGTCTTTGAATCATATCATAAAAGACAATGTAATAAAGCATGAATACAGATTCACACATAATTATCTGATAT\n",
      "clustal[  80: 160]:CTATGTAAGGTCTTTGAATCATATCATAAAAGACAATGTAATAAAGCATGAATACAGATTCACACATAATTATCTGATAT\n",
      "\n",
      "muscle [ 160: 240]:GAATCTATTCATAGAAAAAAGAAAAAAGTAAGAGCCTCCGGCCAATAAAGACTAAGAGGGTTGGCTCAAGAACAAAGTTC\n",
      "clustal[ 160: 240]:GAATCTATTCATAGAAAAAAGAAAAAAGTAAGAGCCTCCGGCCAATAAAGACTAAGAGGGTTGGCTCAAGAACAAAGTTC\n",
      "\n",
      "muscle [ 240: 320]:ATTAAGAGCTCCATTGTAGAATTCAGACCTAATCATTAATCAAGAAGCGATGGGAACGATGTAATCCATGAATACAGAAG\n",
      "clustal[ 240: 320]:ATTAAGAGCTCCATTGTAGAATTCAGACCTAATCATTAATCAAGAAGCGATGGGAACGATGTAATCCATGAATACAGAAG\n",
      "\n",
      "muscle [ 320: 400]:ATTCAATTGAAAAAGATCCTA-TGNT-CATT-GGAAGGATGGCGGAACGAACCAGAGACCAATTCATCTATTCTGAAAAG\n",
      "clustal[ 320: 400]:ATTCAATTGAAAAAGATCCTA--TGNTCATTGG-AAGGATGGCGGAACGAACCAGAGACCAATTCATCTATTCTGAAAAG\n",
      "\n",
      "muscle [ 400: 480]:TGATAAACTAATCCTATAAAACTAAAATAGATATTGAAAGAGTAAATATTCGCCCGCGAAAATTCC-TTTTTTATTAAAT\n",
      "clustal[ 400: 480]:TGATAAACTAATCCTATAAAACTAAAATAGATATTGAAAGAGTAAATATTCGCCCGCGAAAATTCCTTTTTTATT-AAAT\n",
      "\n",
      "muscle [ 480: 560]:TGCTCATATTTTCTTTTAGCAATGCAATCTAATAAAATATATCTATACAAAAAAACATAGACAAACTATATATATATATA\n",
      "clustal[ 480: 560]:TGCTCATATTTTCTTTTAGCAATGCAATCTAATAAAATATATCTATACAAAAAAACATAGACAAACTATATATATATATA\n",
      "\n",
      "muscle [ 560: 640]:TATATAATATATTTCAAATTCCCTTATATATCCAAATATAAAAATATCTAATAAATTAGATGAATATCAAAGAATCTATT\n",
      "clustal[ 560: 640]:TATATAATATATTTCAAATTCCCTTATATATCCAAATATAAAAATATCTAATAAATTAGATGAATATCAAAGAATCTATT\n",
      "\n",
      "muscle [ 640: 720]:GATTTAGTGTATTATTAAATGTATATATTAATTCAATATTATTATTCTATTCATTTTTATTCATTTTCAAATTTATAATA\n",
      "clustal[ 640: 720]:GATTTAGTGTATTATTAAATGTATATATTAATTCAATATTATTATTCTATTCATTTTTATTCATTTTCAAATTTATAATA\n",
      "\n",
      "muscle [ 720: 800]:TATTAATCTATATATTAATTTAGAATTCTATTCTAATTCGAATTCAATTTTTAAATATTCATATTCAATTAAAATTGAAA\n",
      "clustal[ 720: 800]:TATTAATCTATATATTAATTTAGAATTCTATTCTAATTCGAATTCAATTTTTAAATATTCATATTCAATTAAAATTGAAA\n",
      "\n",
      "muscle [ 800: 880]:TTTTTTCATTCGCGAGGAGCCGGATGAGAAGAAACTCTCATGTCCGGTTCTGTAGTAGAGATGGAATTAAGAAAAAACCA\n",
      "clustal[ 800: 880]:TTTTTTCATTCGCGAGGAGCCGGATGAGAAGAAACTCTCATGTCCGGTTCTGTAGTAGAGATGGAATTAAGAAAAAACCA\n",
      "\n",
      "muscle [ 880: 960]:TCAACTATAACCCCAAAAGAACCAGA\n",
      "clustal[ 880: 960]:TCAACTATAACCCCAAAAGAACCAGA\n",
      "\n",
      "-------------------------------\n",
      "--- alignment for gi|6273290---\n",
      "muscle [   0:  80]:TATACATTAAAGGAGGGGGATGCGGATAAATGGAAAGGCGAAAGAAAGAAAAAAATGAATCTAAATGATATAGGATTCCA\n",
      "clustal[   0:  80]:TATACATTAAAGGAGGGGGATGCGGATAAATGGAAAGGCGAAAGAAAGAAAAAAATGAATCTAAATGATATAGGATTCCA\n",
      "\n",
      "muscle [  80: 160]:CTATGTAAGGTCTTTGAATCATATCATAAAAGACAATGTAATAAAGCATGAATACAGATTCACACATAATTATCTGATAT\n",
      "clustal[  80: 160]:CTATGTAAGGTCTTTGAATCATATCATAAAAGACAATGTAATAAAGCATGAATACAGATTCACACATAATTATCTGATAT\n",
      "\n",
      "muscle [ 160: 240]:GAATCTATTCATAGAAAAAAGAAAAAAGTAAGAGCCTCCGGCCAATAAAGACTAAGAGGGTTGGCTCAAGAACAAAGTTC\n",
      "clustal[ 160: 240]:GAATCTATTCATAGAAAAAAGAAAAAAGTAAGAGCCTCCGGCCAATAAAGACTAAGAGGGTTGGCTCAAGAACAAAGTTC\n",
      "\n",
      "muscle [ 240: 320]:ATTAAGAGCTCCATTGTAGAATTCAGACCTAATCATTAATCAAGAAGCGATGGGAACGATGTAATCCATGAATACAGAAG\n",
      "clustal[ 240: 320]:ATTAAGAGCTCCATTGTAGAATTCAGACCTAATCATTAATCAAGAAGCGATGGGAACGATGTAATCCATGAATACAGAAG\n",
      "\n",
      "muscle [ 320: 400]:ATTCAATTGAAAAAGATCCTAATGNTNCATTGGGAAGGATGGCGGAACGAACCAGAGACCAATTCATCTATTCTGAAAAG\n",
      "clustal[ 320: 400]:ATTCAATTGAAAAAGATCCTAATGNTNCATTGGGAAGGATGGCGGAACGAACCAGAGACCAATTCATCTATTCTGAAAAG\n",
      "\n",
      "muscle [ 400: 480]:TGATAAACTAATCCTATAAAACTAAAATAGATATTGAAAGAGTAAATATTCGCCCGCGAAAATTCC-TTTTTTATTAAAT\n",
      "clustal[ 400: 480]:TGATAAACTAATCCTATAAAACTAAAATAGATATTGAAAGAGTAAATATTCGCCCGCGAAAATTCCTTTTTTATT-AAAT\n",
      "\n",
      "muscle [ 480: 560]:TGCTCATATTTTCTTTTAGCAATGCAATCTAATAAAATATATCTATACAAAAAAACATAGACAAAC------TATATATA\n",
      "clustal[ 480: 560]:TGCTCATATTTTCTTTTAGCAATGCAATCTAATAAAATATATCTATACAAAAAAACATAGACAAACTATATATATATATA\n",
      "\n",
      "muscle [ 560: 640]:TATATAATATATTTCAAATTCCCTTATATATCCAAATATAAAAATATCTAATAAATTAGATGAATATCAAAGAATCTATT\n",
      "clustal[ 560: 640]:------ATATATTTCAAATTCCCTTATATATCCAAATATAAAAATATCTAATAAATTAGATGAATATCAAAGAATCTATT\n",
      "\n",
      "muscle [ 640: 720]:GATTTAGTGTATTATTAAATGTATATATTAATTCAATATTATTATTCTATTCATTTTTATTCATTTTCAAATTTATAATA\n",
      "clustal[ 640: 720]:GATTTAGTGTATTATTAAATGTATATATTAATTCAATATTATTATTCTATTCATTTTTATTCATTTTCAAATTTATAATA\n",
      "\n",
      "muscle [ 720: 800]:TATTAATCTATATATTAATTTAGAATTCTATTCTAATTCGAATTCAATTTTTAAATATTCATATTCAATTAAAATTGAAA\n",
      "clustal[ 720: 800]:TATTAATCTATATATTAATTTAGAATTCTATTCTAATTCGAATTCAATTTTTAAATATTCATATTCAATTAAAATTGAAA\n",
      "\n",
      "muscle [ 800: 880]:TTTTTTCATTCGCGAGGAGCCGGATGAGAAGAAACTCTCATGTCCGGTTCTGTAGTAGAGATGGAATTAAGAAAAAACCA\n",
      "clustal[ 800: 880]:TTTTTTCATTCGCGAGGAGCCGGATGAGAAGAAACTCTCATGTCCGGTTCTGTAGTAGAGATGGAATTAAGAAAAAACCA\n",
      "\n",
      "muscle [ 880: 960]:TCAACTATAACCCCAAAAGAACCAGA\n",
      "clustal[ 880: 960]:TCAACTATAACCCCAAAAGAACCAGA\n",
      "\n",
      "-------------------------------\n",
      "--- alignment for gi|6273287---\n",
      "muscle [   0:  80]:TATACATTAAAGAAGGGGGATGCGGATAAATGGAAAGGCGAAAGAAAGAAAAAAATGAATCTAAATGATATACGATTCCA\n",
      "clustal[   0:  80]:TATACATTAAAGAAGGGGGATGCGGATAAATGGAAAGGCGAAAGAAAGAAAAAAATGAATCTAAATGATATACGATTCCA\n",
      "\n",
      "muscle [  80: 160]:CTATGTAAGGTCTTTGAATCATATCATAAAAGACAATGTAATAAAGCATGAATACAGATTCACACATAATTATCTGATAT\n",
      "clustal[  80: 160]:CTATGTAAGGTCTTTGAATCATATCATAAAAGACAATGTAATAAAGCATGAATACAGATTCACACATAATTATCTGATAT\n",
      "\n",
      "muscle [ 160: 240]:GAATCTATTCATAGAAAAAAGAAAAAAGTAAGAGCCTCCGGCCAATAAAGACTAAGAGGGTTGGCTCAAGAACAAAGTTC\n",
      "clustal[ 160: 240]:GAATCTATTCATAGAAAAAAGAAAAAAGTAAGAGCCTCCGGCCAATAAAGACTAAGAGGGTTGGCTCAAGAACAAAGTTC\n",
      "\n",
      "muscle [ 240: 320]:ATTAAGAGCTCCATTGTAGAATTCAGACCTAATCATTAATCAAGAAGCGATGGGAACGATGTAATCCATGAATACAGAAG\n",
      "clustal[ 240: 320]:ATTAAGAGCTCCATTGTAGAATTCAGACCTAATCATTAATCAAGAAGCGATGGGAACGATGTAATCCATGAATACAGAAG\n",
      "\n",
      "muscle [ 320: 400]:ATTCAATTGAAAAAGATCCTA-TGATCCATTGGGAAGGATGGCGGAACGAACCAGAGACCAATTCATCTATTCTGAAAAG\n",
      "clustal[ 320: 400]:ATTCAATTGAAAAAGATCCTAT-GATCCATTGGGAAGGATGGCGGAACGAACCAGAGACCAATTCATCTATTCTGAAAAG\n",
      "\n",
      "muscle [ 400: 480]:TGATAAACTAATCCTATAAAACTAAAATAGATATTGAAAGAGTAAATATTCGCCCGCGAAAATTCCTTTTTTTTTTAAAT\n",
      "clustal[ 400: 480]:TGATAAACTAATCCTATAAAACTAAAATAGATATTGAAAGAGTAAATATTCGCCCGCGAAAATTCCTTTTTTTTTTAAAT\n",
      "\n",
      "muscle [ 480: 560]:TGCTCATATTTTATTTTAGCAATGCAATCTAATAAAATATATCTATACAAAAAAATAAAGACAAAC----------TATA\n",
      "clustal[ 480: 560]:TGCTCATATTTTATTTTAGCAATGCAATCTAATAAAATATATCTATACAAAAAAATAAAGACAAACTATATATATA----\n",
      "\n",
      "muscle [ 560: 640]:TATATAATATATTTCAAATTTCCTTATATATCCAAATATAAAAATATCTAATAAATTAGATGAATATCAAAGAATCTATT\n",
      "clustal[ 560: 640]:------ATATATTTCAAATTTCCTTATATATCCAAATATAAAAATATCTAATAAATTAGATGAATATCAAAGAATCTATT\n",
      "\n",
      "muscle [ 640: 720]:GATTTAGTGTATTATTAAATGTATATCTTAATTCAATATTATTATTCTATTCATTTTTATTCATTTTCAATTTTATAATA\n",
      "clustal[ 640: 720]:GATTTAGTGTATTATTAAATGTATATCTTAATTCAATATTATTATTCTATTCATTTTTATTCATTTTCAATTTTATAATA\n",
      "\n",
      "muscle [ 720: 800]:TATTAATCTATATATTAATTTATAATTCTATTCTAATTCGAATTCAATTTTTAAATATTCATATTCAATTAAAATTGAAA\n",
      "clustal[ 720: 800]:TATTAATCTATATATTAATTTATAATTCTATTCTAATTCGAATTCAATTTTTAAATATTCATATTCAATTAAAATTGAAA\n",
      "\n",
      "muscle [ 800: 880]:TTTTTTCATTCGCGAGGAGCCGGATGAGAAGAAACTCTCATGTCCGGTTCTGTAGTAGAGATGGAATTAAGAAAAAACCA\n",
      "clustal[ 800: 880]:TTTTTTCATTCGCGAGGAGCCGGATGAGAAGAAACTCTCATGTCCGGTTCTGTAGTAGAGATGGAATTAAGAAAAAACCA\n",
      "\n",
      "muscle [ 880: 960]:TCAACTATAACCCCAAGAGAACCAGA\n",
      "clustal[ 880: 960]:TCAACTATAACCCCAAGAGAACCAGA\n",
      "\n",
      "-------------------------------\n",
      "--- alignment for gi|6273286---\n",
      "muscle [   0:  80]:TATACATAAAAGAAGGGGGATGCGGATAAATGGAAAGGCGAAAGAAAGAAAAAAATGAATCTAAATGATATACGATTCCA\n",
      "clustal[   0:  80]:TATACATAAAAGAAGGGGGATGCGGATAAATGGAAAGGCGAAAGAAAGAAAAAAATGAATCTAAATGATATACGATTCCA\n",
      "\n",
      "muscle [  80: 160]:CTATGTAAGGTCTTTGAATCATATCATAAAAGACAATGTAATAAAGCATGAATACAGATTCACACATAATTATCTGATAT\n",
      "clustal[  80: 160]:CTATGTAAGGTCTTTGAATCATATCATAAAAGACAATGTAATAAAGCATGAATACAGATTCACACATAATTATCTGATAT\n",
      "\n",
      "muscle [ 160: 240]:GAATCTATTCATAGAAAAAAGAAAAAAGTAAGAGCCTCCGGCCAATAAAGACTAAGAGGGTTGGCTCAAGAACAAAGTTC\n",
      "clustal[ 160: 240]:GAATCTATTCATAGAAAAAAGAAAAAAGTAAGAGCCTCCGGCCAATAAAGACTAAGAGGGTTGGCTCAAGAACAAAGTTC\n",
      "\n",
      "muscle [ 240: 320]:ATTAAGAGCTCCATTGTAGAATTCAGACCTAATCATTAATCAAGAAGCGATGGGAACGATGTAATCCATGAATACAGAAG\n",
      "clustal[ 240: 320]:ATTAAGAGCTCCATTGTAGAATTCAGACCTAATCATTAATCAAGAAGCGATGGGAACGATGTAATCCATGAATACAGAAG\n",
      "\n",
      "muscle [ 320: 400]:ATTCAATTGAAAAAGATCCTAATGAT-CATT-GGAAGGATGGCGGAACGAACCAGAGACCAATTCATCTATTCTGAAAAG\n",
      "clustal[ 320: 400]:ATTCAATTGAAAAAGATCCTAA-TGATCATTGG-AAGGATGGCGGAACGAACCAGAGACCAATTCATCTATTCTGAAAAG\n",
      "\n",
      "muscle [ 400: 480]:TGATAAACTAATCCTATAAAACTAAAATAGATATTGAAAGAGTAAATATTCGCCCGCGAAAATTCC-TTTTTTATTAAAT\n",
      "clustal[ 400: 480]:TGATAAACTAATCCTATAAAACTAAAATAGATATTGAAAGAGTAAATATTCGCCCGCGAAAATTCCTTTTTTATT-AAAT\n",
      "\n",
      "muscle [ 480: 560]:TGCTCATATTTTATTTTAGCAATGCAATCTAATAAAATATATCTATACAAAAAAATATAGACAAAC----------TATA\n",
      "clustal[ 480: 560]:TGCTCATATTTTATTTTAGCAATGCAATCTAATAAAATATATCTATACAAAAAAATATAGACAAACTATATATATA----\n",
      "\n",
      "muscle [ 560: 640]:TATATAATATATTTATAATTTCCTTATATATCCAAATATAAAAATATCTAATAAATTAGATGAATATCAAAGAATCTATT\n",
      "clustal[ 560: 640]:------ATATATTTATAATTTCCTTATATATCCAAATATAAAAATATCTAATAAATTAGATGAATATCAAAGAATCTATT\n",
      "\n",
      "muscle [ 640: 720]:GATTTAGTGTATTATTAAATGTATATCTTAATTCAATATTATTATTCTATTCATTTTTATTCATTTTCAAATTTATAATA\n",
      "clustal[ 640: 720]:GATTTAGTGTATTATTAAATGTATATCTTAATTCAATATTATTATTCTATTCATTTTTATTCATTTTCAAATTTATAATA\n",
      "\n",
      "muscle [ 720: 800]:TATTAATCTATATATTAATTTATAATTCTATTCTAATTCGAATTCAATTTTTAAATATTCATATTCAATTAAAATTGAAA\n",
      "clustal[ 720: 800]:TATTAATCTATATATTAATTTATAATTCTATTCTAATTCGAATTCAATTTTTAAATATTCATATTCAATTAAAATTGAAA\n",
      "\n",
      "muscle [ 800: 880]:TTTTTTCATTCGCGAGGAGCCGGATGAGAAGAAACTCTCATGTCCGGTTCTGTAGTAGAGATGGAATTAAGAAAAAACCA\n",
      "clustal[ 800: 880]:TTTTTTCATTCGCGAGGAGCCGGATGAGAAGAAACTCTCATGTCCGGTTCTGTAGTAGAGATGGAATTAAGAAAAAACCA\n",
      "\n",
      "muscle [ 880: 960]:TCAACTATAACCCCAAGAGAACCAGA\n",
      "clustal[ 880: 960]:TCAACTATAACCCCAAGAGAACCAGA\n",
      "\n",
      "-------------------------------\n",
      "--- alignment for gi|6273285---\n",
      "muscle [   0:  80]:TATACATTAAAGAAGGGGGATGCGGATAAATGGAAAGGCGAAAGAAAGAAAAAAATGAATCTAAATGATATACGATTCCA\n",
      "clustal[   0:  80]:TATACATTAAAGAAGGGGGATGCGGATAAATGGAAAGGCGAAAGAAAGAAAAAAATGAATCTAAATGATATACGATTCCA\n",
      "\n",
      "muscle [  80: 160]:CTATGTAAGGTCTTTGAATCATATCATAAAAGACAATGTAATAAAGCATGAATACAGATTCACACATAATTATCTGATAT\n",
      "clustal[  80: 160]:CTATGTAAGGTCTTTGAATCATATCATAAAAGACAATGTAATAAAGCATGAATACAGATTCACACATAATTATCTGATAT\n",
      "\n",
      "muscle [ 160: 240]:GAATCTATTCATAGAAAAAAGAAAAAAGTAAGAGCCTCCGGCCAATAAAGACTAAGAGGGTTGGCTCAAGAACAAAGTTC\n",
      "clustal[ 160: 240]:GAATCTATTCATAGAAAAAAGAAAAAAGTAAGAGCCTCCGGCCAATAAAGACTAAGAGGGTTGGCTCAAGAACAAAGTTC\n",
      "\n",
      "muscle [ 240: 320]:ATTAAGAGCTCCATTGTAGAATTCAGACCTAATCATTAATCAAGAAGCGATGGGAACGATGTAATCCATGAATACAGAAG\n",
      "clustal[ 240: 320]:ATTAAGAGCTCCATTGTAGAATTCAGACCTAATCATTAATCAAGAAGCGATGGGAACGATGTAATCCATGAATACAGAAG\n",
      "\n",
      "muscle [ 320: 400]:ATTCAATTGAAAAAGATCCTAATGAT-CATTGGGAAGGATGGCGGAACGAACCAGAGACCAATTCATCTATTCTGAAAAG\n",
      "clustal[ 320: 400]:ATTCAATTGAAAAAGATCCTAA-TGATCATTGGGAAGGATGGCGGAACGAACCAGAGACCAATTCATCTATTCTGAAAAG\n",
      "\n",
      "muscle [ 400: 480]:TGATAAACTAATCCTATAAAACTAAAATAGATATTGAAAGAGTAAATATTCGCCCGCGAAAATTCC-TTTTTTATTAAAT\n",
      "clustal[ 400: 480]:TGATAAACTAATCCTATAAAACTAAAATAGATATTGAAAGAGTAAATATTCGCCCGCGAAAATTCCTTTTTTATT-AAAT\n",
      "\n",
      "muscle [ 480: 560]:TGCTCATATTTTATTTTAGCAATGCAATCTAATAAAATATATCTATACAAAAAAATATAGACAAAC----------TATA\n",
      "clustal[ 480: 560]:TGCTCATATTTTATTTTAGCAATGCAATCTAATAAAATATATCTATACAAAAAAATATAGACAAACTATATATATA----\n",
      "\n",
      "muscle [ 560: 640]:TATATAATATATTTCAAATTTCCTTATATACCCAAATATAAAAATATCTAATAAATTAGATGAATATCAAAGAATCCATT\n",
      "clustal[ 560: 640]:------ATATATTTCAAATTTCCTTATATACCCAAATATAAAAATATCTAATAAATTAGATGAATATCAAAGAATCCATT\n",
      "\n",
      "muscle [ 640: 720]:GATTTAGTGTATTATTAAATGTATATCTTAATTCAATATTATTATTCTATTCATTTTTATTCATTTTCAAATTTATAATA\n",
      "clustal[ 640: 720]:GATTTAGTGTATTATTAAATGTATATCTTAATTCAATATTATTATTCTATTCATTTTTATTCATTTTCAAATTTATAATA\n",
      "\n",
      "muscle [ 720: 800]:TATTAATCTATATATTAATTTATAATTCTATTCTAATTCGAATTCAATTTTTAAATATTCATATTCAATTAAAATTGAAA\n",
      "clustal[ 720: 800]:TATTAATCTATATATTAATTTATAATTCTATTCTAATTCGAATTCAATTTTTAAATATTCATATTCAATTAAAATTGAAA\n",
      "\n",
      "muscle [ 800: 880]:TTTTTTCATTCGCGAGGAGCCGGATGAGAAGAAACTCTCATGTCCGGTTCTGTAGTAGAGATGGAATTAAGAAAAAACCA\n",
      "clustal[ 800: 880]:TTTTTTCATTCGCGAGGAGCCGGATGAGAAGAAACTCTCATGTCCGGTTCTGTAGTAGAGATGGAATTAAGAAAAAACCA\n",
      "\n",
      "muscle [ 880: 960]:TCAACTATAACCCCAAGAGAACCAGA\n",
      "clustal[ 880: 960]:TCAACTATAACCCCAAGAGAACCAGA\n",
      "\n",
      "-------------------------------\n",
      "--- alignment for gi|6273284---\n",
      "muscle [   0:  80]:TATACATTAAAGAAGGGGGATGCGGATAAATGGAAAGGCGAAAGAAAGAAAAAAATGAATCTAAATGATATACGATTCCA\n",
      "clustal[   0:  80]:TATACATTAAAGAAGGGGGATGCGGATAAATGGAAAGGCGAAAGAAAGAAAAAAATGAATCTAAATGATATACGATTCCA\n",
      "\n",
      "muscle [  80: 160]:CTATGTAAGGTCTTTGAATCATATCATAAAAGACAATGTAATAAAGCATGAATACAGATTCACACATAATTATCTGATAT\n",
      "clustal[  80: 160]:CTATGTAAGGTCTTTGAATCATATCATAAAAGACAATGTAATAAAGCATGAATACAGATTCACACATAATTATCTGATAT\n",
      "\n",
      "muscle [ 160: 240]:GAATCTATTCATAGAAAAAAGAAAAAAGTAAGAGCCTCCGGCCAATAAAGACTAAGAGGGTTGGCTCAAGAACAAAGTTC\n",
      "clustal[ 160: 240]:GAATCTATTCATAGAAAAAAGAAAAAAGTAAGAGCCTCCGGCCAATAAAGACTAAGAGGGTTGGCTCAAGAACAAAGTTC\n",
      "\n",
      "muscle [ 240: 320]:ATTAAGAGCTCCATTGTAGAATTCAGACCTAATCATTAATCAAGAAGCGATGGGAACGATGTAATCCATGAATACAGAAG\n",
      "clustal[ 240: 320]:ATTAAGAGCTCCATTGTAGAATTCAGACCTAATCATTAATCAAGAAGCGATGGGAACGATGTAATCCATGAATACAGAAG\n",
      "\n",
      "muscle [ 320: 400]:ATTCAATTGAAAAAGATCCTAATGAT-CATTGGGAAGGATGGCGGAACGAACCAGAGACCAATTCATCTATTCTGAAAAG\n",
      "clustal[ 320: 400]:ATTCAATTGAAAAAGATCCTAA-TGATCATTGGGAAGGATGGCGGAACGAACCAGAGACCAATTCATCTATTCTGAAAAG\n",
      "\n",
      "muscle [ 400: 480]:TGATAAACTAATCCTATAAAACTAAAATAGATATTGAAAGAGTAAATATTCGCCCGCGAAAATTCC-TTTTTTATTAAAT\n",
      "clustal[ 400: 480]:TGATAAACTAATCCTATAAAACTAAAATAGATATTGAAAGAGTAAATATTCGCCCGCGAAAATTCCTTTTTTATT-AAAT\n",
      "\n",
      "muscle [ 480: 560]:TGCTCATATTTTATTTTAGCAATGCAATCTAATAAAATATATCTATACAAAAAAATATAGACAAAC--------TATATA\n",
      "clustal[ 480: 560]:TGCTCATATTTTATTTTAGCAATGCAATCTAATAAAATATATCTATACAAAAAAATATAGACAAACTATATATATATA--\n",
      "\n",
      "muscle [ 560: 640]:TATATAATATATTTCAAATTTCCTTATATACCCAAATATAAAAATATCTAATAAATTAGATGAATATCAAAGAATCTATT\n",
      "clustal[ 560: 640]:------ATATATTTCAAATTTCCTTATATACCCAAATATAAAAATATCTAATAAATTAGATGAATATCAAAGAATCTATT\n",
      "\n",
      "muscle [ 640: 720]:GATTTAGTGTATTATTAAATGTATATCTTAATTCAATATTATTATTCTATTCATTTTTATTCATTTTCAAATTTATAATA\n",
      "clustal[ 640: 720]:GATTTAGTGTATTATTAAATGTATATCTTAATTCAATATTATTATTCTATTCATTTTTATTCATTTTCAAATTTATAATA\n",
      "\n",
      "muscle [ 720: 800]:TATTAATCTATATATTAATTTATAATTCTATTCTAATTCGAATTCAATTTTTAAATATTCATATTCAATTAAAATTGAAA\n",
      "clustal[ 720: 800]:TATTAATCTATATATTAATTTATAATTCTATTCTAATTCGAATTCAATTTTTAAATATTCATATTCAATTAAAATTGAAA\n",
      "\n",
      "muscle [ 800: 880]:TTTTTTCATTCGCGAGGAGCCGGATGAGAAGAAACTCTCATGTCCGGTTCTGTAGTAGAGATGGAATTAAGAAAAAACCA\n",
      "clustal[ 800: 880]:TTTTTTCATTCGCGAGGAGCCGGATGAGAAGAAACTCTCATGTCCGGTTCTGTAGTAGAGATGGAATTAAGAAAAAACCA\n",
      "\n",
      "muscle [ 880: 960]:TCAACTATAACCCCAAGAGAACCAGA\n",
      "clustal[ 880: 960]:TCAACTATAACCCCAAGAGAACCAGA\n",
      "\n",
      "-------------------------------\n"
     ]
    }
   ],
   "source": [
    "import numpy as np\n",
    "def print_seqs(s1, s2, width=80, labels=(\"S1\", \"S2\")):\n",
    "    maxl = np.max((len(s1), len(s2)))\n",
    "    for i in range(1+maxl/width):\n",
    "        start_s1 = start_s2 = i*width\n",
    "        end_s1   = end_s2   = (i+1)*width\n",
    "\n",
    "        str_positions =\"[%4d\"%start_s1+\":%4d\"%end_s1+\"]\"\n",
    "        \n",
    "        start_s1 = start_s1 if len(s1)>start_s1 else len(s1)\n",
    "        end_s1   = end_s1   if len(s1)>end_s1   else len(s1)\n",
    "        start_s2 = start_s2 if len(s2)>start_s2 else len(s2)\n",
    "        end_s2   = end_s2   if len(s2)>end_s2   else len(s2)\n",
    "\n",
    "        print labels[0]+str_positions+\":\"+s1[start_s1:end_s1]\n",
    "        print labels[1]+str_positions+\":\"+s2[start_s2:end_s2]\n",
    "        print \n",
    "    \n",
    "    \n",
    "    \n",
    "for rm in align_m:\n",
    "    for rc in align_c:\n",
    "        if rc.id==rm.id:\n",
    "            print \"--- alignment for \"+rc.id+\"---\"\n",
    "            print_seqs(rm.seq, rc.seq, labels=(\"muscle \", \"clustal\"))\n",
    "            print \"-------------------------------\"\n",
    "        "
   ]
  },
  {
   "cell_type": "markdown",
   "metadata": {},
   "source": [
    "## Compare execution times"
   ]
  },
  {
   "cell_type": "code",
   "execution_count": 32,
   "metadata": {
    "collapsed": false
   },
   "outputs": [
    {
     "name": "stdout",
     "output_type": "stream",
     "text": [
      "1 loops, best of 3: 536 ms per loop\n"
     ]
    }
   ],
   "source": [
    "%timeit !muscle -in data/opuntia.fasta -phyiout data/opuntia-muscle.phy 2> /dev/null"
   ]
  },
  {
   "cell_type": "code",
   "execution_count": 33,
   "metadata": {
    "collapsed": false
   },
   "outputs": [
    {
     "name": "stdout",
     "output_type": "stream",
     "text": [
      "1 loops, best of 3: 898 ms per loop\n"
     ]
    }
   ],
   "source": [
    "%timeit !clustalw2 -INFILE=data/opuntia.fasta -OUTFILE=data/opuntia-clustal.phy -ALIGN -OUTPUT=PHYLIP > /dev/null"
   ]
  },
  {
   "cell_type": "code",
   "execution_count": null,
   "metadata": {
    "collapsed": true
   },
   "outputs": [],
   "source": []
  }
 ],
 "metadata": {
  "kernelspec": {
   "display_name": "Python 2",
   "language": "python",
   "name": "python2"
  },
  "language_info": {
   "codemirror_mode": {
    "name": "ipython",
    "version": 2
   },
   "file_extension": ".py",
   "mimetype": "text/x-python",
   "name": "python",
   "nbconvert_exporter": "python",
   "pygments_lexer": "ipython2",
   "version": "2.7.10"
  }
 },
 "nbformat": 4,
 "nbformat_minor": 0
}
