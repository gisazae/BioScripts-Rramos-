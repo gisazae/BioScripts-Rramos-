{
 "cells": [
  {
   "cell_type": "markdown",
   "metadata": {
    "collapsed": true,
    "slideshow": {
     "slide_type": "-"
    }
   },
   "source": [
    "# Scripting for Bioinformatics\n",
    "\n",
    "## Lab 02 - Python\n"
   ]
  },
  {
   "cell_type": "markdown",
   "metadata": {
    "slideshow": {
     "slide_type": "-"
    }
   },
   "source": [
    "### Ejercicio 1\n",
    "\n",
    "Dada una cadena _s_ completa la función siguiente para que todas las ocurrencias del primer caracter de la cadena _s_ se sustituyan por un `*`, excepto la primera ocurrencia misma. P.ej. `babble` resulta en `ba**le`\n",
    "\n",
    "Mira la documentación de la clase _String_ [aquí](https://docs.python.org/2/library/string.html), puedes usar si quieres el método `s.replace(str1, str2)`\n"
   ]
  },
  {
   "cell_type": "code",
   "execution_count": null,
   "metadata": {
    "collapsed": true,
    "slideshow": {
     "slide_type": "-"
    }
   },
   "outputs": [],
   "source": [
    "def fix_start(s):\n",
    "    # ---- tu codigo aqui -----\n",
    "    r = None\n",
    "    # ---- tu codigo aqui -----\n",
    "    return r"
   ]
  },
  {
   "cell_type": "code",
   "execution_count": null,
   "metadata": {
    "collapsed": false,
    "slideshow": {
     "slide_type": "-"
    }
   },
   "outputs": [],
   "source": [
    "%run code/testing.py\n",
    "test(fix_start(\"bubble\"),\"bu**le\")\n",
    "test(fix_start(\"aardvark\"),\"a*rdv*rk\")\n",
    "test(fix_start(\"google\"),\"goo*le\")\n",
    "test(fix_start(\"donut\"),\"donut\");"
   ]
  },
  {
   "cell_type": "markdown",
   "metadata": {
    "slideshow": {
     "slide_type": "-"
    }
   },
   "source": [
    "### Ejercicio 2\n",
    "\n",
    "Dada una cadena _s_ completa la función siguiente para que:\n",
    "\n",
    "1. encuentre la primera ocurrencia de la subcadena `not`  y la subcadena `bad`\n",
    "2. si `not` aparece antes que `bad` reemplace toda la subcadena `not .. bad` con `good`\n",
    "3. devuelva la cadena resultante\n",
    "\n",
    "p.ej `This dinener is not that bad!` resulta en `This dinner is good!`\n"
   ]
  },
  {
   "cell_type": "code",
   "execution_count": null,
   "metadata": {
    "collapsed": false,
    "slideshow": {
     "slide_type": "-"
    }
   },
   "outputs": [],
   "source": [
    "def not_bad(s):\n",
    "    # ---- tu codigo aqui -----\n",
    "    r = None\n",
    "    # ---- tu codigo aqui -----\n",
    "    return r"
   ]
  },
  {
   "cell_type": "code",
   "execution_count": null,
   "metadata": {
    "collapsed": false,
    "slideshow": {
     "slide_type": "-"
    }
   },
   "outputs": [],
   "source": [
    "%run code/testing.py\n",
    "test(not_bad(\"This dinner is not that bad!\"), 'This dinner is good!')\n",
    "test(not_bad('This tea is not hot'), 'This tea is not hot')\n",
    "test(not_bad(\"It's bad yet not\"), \"It's bad yet not\")\n",
    "test(not_bad('Make me not so bad'), 'Make me good');"
   ]
  },
  {
   "cell_type": "markdown",
   "metadata": {
    "slideshow": {
     "slide_type": "-"
    }
   },
   "source": [
    "### Ejercicio 3\n",
    "\n",
    "Completa la función siguiente para que dado un entero `n` y un caracter `c` (una cadena de longitud 1) devuelva una lista con `n` caracteres en orden alfabético empezando desde `c`. Si `n` desde `c` sobrepasa el final del alfabeto ha de seguir desde el principio. Si `n` es negativo o `c` es un caracter en mayúscula o no es una letra la función ha de devolver una lista vacía.\n",
    "\n",
    "por ejemplo <br/>`lalpha (7, 'w')` resulta en `['w', 'x', 'y', 'z', 'a', 'b', 'c']`\n"
   ]
  },
  {
   "cell_type": "code",
   "execution_count": null,
   "metadata": {
    "collapsed": false,
    "slideshow": {
     "slide_type": "-"
    }
   },
   "outputs": [],
   "source": [
    "def lalpha(n, c):\n",
    "    alphabet = \"abcdefghijklmnopqrstuvwxyz\"\n",
    "    # --- tu codigo aqui ----\n",
    "    r = None\n",
    "    # ------------------------\n",
    "    return r\n",
    "    "
   ]
  },
  {
   "cell_type": "code",
   "execution_count": null,
   "metadata": {
    "collapsed": false,
    "slideshow": {
     "slide_type": "-"
    }
   },
   "outputs": [],
   "source": [
    "%run code/testing.py\n",
    "test(lalpha (7, 'w'), ['w', 'x', 'y', 'z', 'a', 'b', 'c'])\n",
    "test(lalpha(5,'a'), ['a', 'b', 'c', 'd', 'e'])\n",
    "test(lalpha(2,'z'), ['z', 'a'])\n",
    "test(lalpha(20,'-'), [])\n",
    "test(lalpha(-1,'x'), []);"
   ]
  },
  {
   "cell_type": "markdown",
   "metadata": {
    "slideshow": {
     "slide_type": "-"
    }
   },
   "source": [
    "### Ejercicio 4\n",
    "Completa la función `svm` para que devuelva una matriz (array de `numpy`) de tamaño $n\\_rows \\times n\\_cols$ con todos los elementos igual a $value$ de tipo `double`. Sugerencia, usa la función `numpy.ones` [[ref](http://docs.scipy.org/doc/numpy/reference/generated/numpy.ones.html)]\n",
    "\n",
    "_Ejemplo de ejecución_\n",
    "\n",
    "\n",
    "    svm(n_rows=3, n_cols=4, value=5)\n",
    "    \n",
    "    \n",
    "_Resultado_\n",
    "\n",
    "\n",
    "    [[ 5.  5.  5.  5.]\n",
    "     [ 5.  5.  5.  5.]\n",
    "     [ 5.  5.  5.  5.]]"
   ]
  },
  {
   "cell_type": "code",
   "execution_count": null,
   "metadata": {
    "collapsed": false,
    "slideshow": {
     "slide_type": "-"
    }
   },
   "outputs": [],
   "source": [
    "import numpy as np\n",
    "\n",
    "def svm(n_rows, n_cols, value):\n",
    "\n",
    "    # ---- tu codigo aqui -----\n",
    "    r = np.array([])\n",
    "    # ---- tu codigo aqui -----\n",
    "\n",
    "    return r"
   ]
  },
  {
   "cell_type": "code",
   "execution_count": null,
   "metadata": {
    "collapsed": false,
    "slideshow": {
     "slide_type": "-"
    }
   },
   "outputs": [],
   "source": [
    "%run code/testing.py\n",
    "r = svm (2,5,3); test((r.shape, np.mean(r), np.std(r)), ((2,5), 3.0, 0.0))\n",
    "r = svm (3,1,31); test((r.shape, np.mean(r), np.std(r)), ((3,1), 31.0, 0.0))\n",
    "r = svm (1,5,2); test((r.shape, np.mean(r), np.std(r)), ((1,5), 2.0, 0.0))\n",
    "r = svm (2,2,-3); test((r.shape, np.mean(r), np.std(r)), ((2,2), -3.0, 0.0));"
   ]
  },
  {
   "cell_type": "markdown",
   "metadata": {
    "slideshow": {
     "slide_type": "-"
    }
   },
   "source": [
    "### Ejercicio 5\n",
    "\n",
    "Dadas dos matrices de igual tamaño, $A \\in \\mathbb{R}^{m\\times n}$ y $B \\in \\mathbb{R}^{m\\times n}$ en la que cada línea de cada matriz representa un vector. Cada matriz tiene por tanto $m$ vectores de $n$ elementos. \n",
    "\n",
    "Denominamos los vectores de $A$ como $a^{(0)}$, $a^{(1)}$, $... a^{(m-1)}$ y los de $B$ como $b^{(0)}$, $b^{(1)}$, $... b^{(m-1)}$ \n",
    "\n",
    "Dados dos vectores $a^{(k)}$, $b^{(k)}$ la diferencia cuadrada media entre los elementos de los dos vectores viene dada por:\n",
    "\n",
    "$$msd(a^{(k)}, b^{(k)}) = \\frac{1}{n} \\sum_{i=0}^{n} (a_{i}^{(k)} - a_{i}^{(k)})^2$$\n",
    "\n",
    "donde $a_{i}^{(k)}$ es el elemento $i$ del vector $a^{(k)}$\n",
    "\n",
    "completa la función `mmsd` para que, dadas dos matrices (arrays de `numpy`), devuelva una lista con la diferencia cuadrada media entre vectores correspondientes en ambas matrices. Es decir\n",
    "\n",
    "$$mmsd(A,B)=[msd(a^{(0)}, b^{(0)}), msd(a^{(1)}, b^{(1)}),..., msd(a^{(m-1)}, b^{(m-1)})]$$\n",
    "\n",
    "p.ej.\n",
    "\n",
    "    A = np.array([[1,2,5],[3,4,1]])\n",
    "    B = np.array([[0,3,0],[4,6,2]])\n",
    "    mmsd(A,B)\n",
    "    \n",
    "    > array([ 9.,  2.])\n",
    "    \n"
   ]
  },
  {
   "cell_type": "code",
   "execution_count": null,
   "metadata": {
    "collapsed": false,
    "slideshow": {
     "slide_type": "-"
    }
   },
   "outputs": [],
   "source": [
    "def mmsd(A,B):\n",
    "    # ---- tu codigo aqui -----\n",
    "    result = None\n",
    "    # ---- tu codigo aqui -----\n",
    "    return result"
   ]
  },
  {
   "cell_type": "code",
   "execution_count": null,
   "metadata": {
    "collapsed": false,
    "slideshow": {
     "slide_type": "-"
    }
   },
   "outputs": [],
   "source": [
    "%run code/testing.py\n",
    "test(mmsd( np.array([[1,2,5],[3,4,1]]), np.array([[0,3,0],[4,6,2]])) , \n",
    "     np.array([ 9.,  2.]))\n",
    "test(mmsd(np.array([[1,2,5],[3,4,1], [6,-1,2]]), np.array([[0,3,1],[4,1,2], [2.3,-3,9.2]])),\n",
    "     np.array([  6.        ,   3.66666667,  23.17666667]));"
   ]
  },
  {
   "cell_type": "markdown",
   "metadata": {
    "slideshow": {
     "slide_type": "-"
    }
   },
   "source": [
    "### Ejercicio 6\n",
    "\n",
    "Completa la función para que, dados dos vectores (arrays `numpy` de una sola dimensión), devuelva un vector con todos los elementos de los dos vectores iniciales ordenados.\n",
    "\n",
    "Si alguno de los dos vectores no son un array `numpy` o no son un vector (no tienen una sóla dimensión), la función ha de devolver un array `numpy` vacío.\n",
    "\n",
    "Puedes usar la función [`numpy.hstack`](http://docs.scipy.org/doc/numpy/reference/generated/numpy.hstack.html) para unir dos vectores.\n",
    "\n",
    "P.ej.:\n",
    "\n",
    "    a = np.array([1, 7, 8, 2, 7])\n",
    "    b = np.array([5, 8, 2])\n",
    "\n",
    "    mergesort(a,b)\n",
    "    > array([1, 2, 2, 5, 7, 7, 8, 8])\n"
   ]
  },
  {
   "cell_type": "code",
   "execution_count": null,
   "metadata": {
    "collapsed": false,
    "slideshow": {
     "slide_type": "-"
    }
   },
   "outputs": [],
   "source": [
    "def mergesort(a,b):\n",
    "    # ---- tu codigo aqui -----\n",
    "    r = None\n",
    "    # ---- tu codigo aqui -----\n",
    "    return r"
   ]
  },
  {
   "cell_type": "code",
   "execution_count": null,
   "metadata": {
    "collapsed": false,
    "slideshow": {
     "slide_type": "-"
    }
   },
   "outputs": [],
   "source": [
    "%run code/testing.py\n",
    "test(mergesort(np.array([ 4.,  2.,  4.,  3.,  3.]), np.array([9, 6, 7])), \n",
    "     np.array([ 2.,  3.,  3.,  4.,  4.,  6.,  7.,  9.]) ) \n",
    "\n",
    "test(mergesort(np.array([7, 3]), np.array([5, 4, 0, 1])),\n",
    "     np.array([0, 1, 3, 4, 5, 7]));"
   ]
  },
  {
   "cell_type": "markdown",
   "metadata": {
    "slideshow": {
     "slide_type": "-"
    }
   },
   "source": [
    "### Ejercicio 7\n",
    "\n",
    "dada una lista de `n` cadenas (_strings_) y una lista cd `n` objectos (cualquiera) de Python, completa la función siguiente para que devuelva un diccionario de Python en donde cada cadena es la clave del objeto correspondiente en ambas listas.\n",
    "\n",
    "Si algún objeto de la lista `keys` no es una cadena, debe de ignorarse el valor correspondiente de la lista `values`.\n",
    "\n",
    "Si la lista `values` tiene menos elementos que la lista `keys`, las `keys` correspondientes a los valores faltantes se asociarán a `None`.\n",
    "\n",
    "P.ej:\n",
    "\n",
    "    mdict ([\"uno\", \"dos\", \"tres\"], [10,20])\n",
    "    > {'dos': 20, 'tres': None, 'uno': 10})\n"
   ]
  },
  {
   "cell_type": "code",
   "execution_count": null,
   "metadata": {
    "collapsed": false,
    "slideshow": {
     "slide_type": "-"
    }
   },
   "outputs": [],
   "source": [
    "def mdict(keys, values):\n",
    "    \n",
    "    # ---- tu codigo aqui -----\n",
    "    r = None\n",
    "    # ---- tu codigo aqui -----\n",
    "            \n",
    "    return r\n",
    "    "
   ]
  },
  {
   "cell_type": "code",
   "execution_count": null,
   "metadata": {
    "collapsed": false,
    "slideshow": {
     "slide_type": "-"
    }
   },
   "outputs": [],
   "source": [
    "%run code/testing.py\n",
    "test (mdict ([\"uno\", \"dos\", \"tres\"], [10,20,30]),  {'dos': 20, 'tres': 30, 'uno': 10})\n",
    "test (mdict ([\"uno\", \"dos\", \"tres\"], [10,20]), {'dos': 20, 'tres': None, 'uno': 10})\n",
    "test (mdict ([\"uno\", 2, \"tres\"], [10,20]),{'tres': None, 'uno': 10} )\n",
    "test (mdict ([\"uno\", 2, \"tres\"], [10,20,30]), {'tres': 30, 'uno': 10});"
   ]
  },
  {
   "cell_type": "markdown",
   "metadata": {
    "slideshow": {
     "slide_type": "-"
    }
   },
   "source": [
    "**LOS SIGUIENTES EJERCIOS SE REFIEREN AL SIGUIENTE `DataFrame` **"
   ]
  },
  {
   "cell_type": "code",
   "execution_count": 2,
   "metadata": {
    "collapsed": false
   },
   "outputs": [
    {
     "name": "stdout",
     "output_type": "stream",
     "text": [
      "(200, 4)\n"
     ]
    },
    {
     "data": {
      "text/html": [
       "<div>\n",
       "<table border=\"1\" class=\"dataframe\">\n",
       "  <thead>\n",
       "    <tr style=\"text-align: right;\">\n",
       "      <th></th>\n",
       "      <th>fecha</th>\n",
       "      <th>factura</th>\n",
       "      <th>pais</th>\n",
       "      <th>importe</th>\n",
       "    </tr>\n",
       "  </thead>\n",
       "  <tbody>\n",
       "    <tr>\n",
       "      <th>0</th>\n",
       "      <td>7/26/2015</td>\n",
       "      <td>2242</td>\n",
       "      <td>CZ</td>\n",
       "      <td>1064.63</td>\n",
       "    </tr>\n",
       "    <tr>\n",
       "      <th>1</th>\n",
       "      <td>11/9/2014</td>\n",
       "      <td>2482</td>\n",
       "      <td>PL</td>\n",
       "      <td>1019.43</td>\n",
       "    </tr>\n",
       "    <tr>\n",
       "      <th>2</th>\n",
       "      <td>10/7/2015</td>\n",
       "      <td>1403</td>\n",
       "      <td>MA</td>\n",
       "      <td>1943.74</td>\n",
       "    </tr>\n",
       "    <tr>\n",
       "      <th>3</th>\n",
       "      <td>5/19/2015</td>\n",
       "      <td>2503</td>\n",
       "      <td>FR</td>\n",
       "      <td>212.74</td>\n",
       "    </tr>\n",
       "    <tr>\n",
       "      <th>4</th>\n",
       "      <td>6/20/2015</td>\n",
       "      <td>1440</td>\n",
       "      <td>FR</td>\n",
       "      <td>515.45</td>\n",
       "    </tr>\n",
       "    <tr>\n",
       "      <th>5</th>\n",
       "      <td>1/6/2015</td>\n",
       "      <td>1649</td>\n",
       "      <td>TN</td>\n",
       "      <td>789.68</td>\n",
       "    </tr>\n",
       "    <tr>\n",
       "      <th>6</th>\n",
       "      <td>4/23/2015</td>\n",
       "      <td>2973</td>\n",
       "      <td>NO</td>\n",
       "      <td>1141.43</td>\n",
       "    </tr>\n",
       "    <tr>\n",
       "      <th>7</th>\n",
       "      <td>5/27/2015</td>\n",
       "      <td>2647</td>\n",
       "      <td>ID</td>\n",
       "      <td>362.60</td>\n",
       "    </tr>\n",
       "    <tr>\n",
       "      <th>8</th>\n",
       "      <td>1/16/2015</td>\n",
       "      <td>2040</td>\n",
       "      <td>ID</td>\n",
       "      <td>1777.71</td>\n",
       "    </tr>\n",
       "    <tr>\n",
       "      <th>9</th>\n",
       "      <td>8/8/2015</td>\n",
       "      <td>2631</td>\n",
       "      <td>CN</td>\n",
       "      <td>804.76</td>\n",
       "    </tr>\n",
       "  </tbody>\n",
       "</table>\n",
       "</div>"
      ],
      "text/plain": [
       "       fecha  factura pais  importe\n",
       "0  7/26/2015     2242   CZ  1064.63\n",
       "1  11/9/2014     2482   PL  1019.43\n",
       "2  10/7/2015     1403   MA  1943.74\n",
       "3  5/19/2015     2503   FR   212.74\n",
       "4  6/20/2015     1440   FR   515.45\n",
       "5   1/6/2015     1649   TN   789.68\n",
       "6  4/23/2015     2973   NO  1141.43\n",
       "7  5/27/2015     2647   ID   362.60\n",
       "8  1/16/2015     2040   ID  1777.71\n",
       "9   8/8/2015     2631   CN   804.76"
      ]
     },
     "execution_count": 2,
     "metadata": {},
     "output_type": "execute_result"
    }
   ],
   "source": [
    "import pandas as pd\n",
    "d = pd.read_csv(\"data/facturas.csv\")\n",
    "print d.shape\n",
    "d.head(n=10)"
   ]
  },
  {
   "cell_type": "markdown",
   "metadata": {
    "slideshow": {
     "slide_type": "-"
    }
   },
   "source": [
    "### Ejercicio 8\n",
    "\n",
    "Obtén un diccionario en el cual cada clave es un código de país y cada valor es el número de veces que dicho país aparece en la columna `pais`."
   ]
  },
  {
   "cell_type": "code",
   "execution_count": null,
   "metadata": {
    "collapsed": false,
    "slideshow": {
     "slide_type": "-"
    }
   },
   "outputs": [],
   "source": [
    "pais_count = {}\n",
    "# ---- tu codigo aqui -----\n",
    "# ---- el resultado ha de estar en la variable pais_count"
   ]
  },
  {
   "cell_type": "code",
   "execution_count": null,
   "metadata": {
    "collapsed": false,
    "slideshow": {
     "slide_type": "-"
    }
   },
   "outputs": [],
   "source": [
    "%run code/testing.py\n",
    "import hashlib\n",
    "\n",
    "test(np.sum(pais_count.values()), 200)\n",
    "test(pais_count[\"AR\"],3)\n",
    "test(pais_count[\"CN\"],32)\n",
    "test(pais_count[\"BR\"],9)\n",
    "test(hashlib.md5(\"\".join(pais_count.keys())).hexdigest(), 'f13331642cf80773b74c8eac7617f4ba')\n",
    "test(hashlib.md5(\"\".join([str(i) for i in pais_count.values()])).hexdigest(), '08a2e7fb0a777a36010cfc6d2138c821');"
   ]
  },
  {
   "cell_type": "markdown",
   "metadata": {
    "slideshow": {
     "slide_type": "-"
    }
   },
   "source": [
    "### Ejercicio 9\n",
    "\n",
    "Obtén un diccionario con el número de veces que cada mes aparece en la columna `fecha`. Las `keys` ha de ser los números enteros del 1 al 12 (no como _strings_).\n",
    "\n",
    "Tendrás que usar la función split para obtener cada componente de la fecha."
   ]
  },
  {
   "cell_type": "code",
   "execution_count": null,
   "metadata": {
    "collapsed": false,
    "slideshow": {
     "slide_type": "-"
    }
   },
   "outputs": [],
   "source": [
    "month_count = {}\n",
    "\n",
    "# ---- tu codigo aqui -----\n",
    "# ---- el resultado ha de estar en la variable month_count"
   ]
  },
  {
   "cell_type": "code",
   "execution_count": null,
   "metadata": {
    "collapsed": false,
    "slideshow": {
     "slide_type": "-"
    }
   },
   "outputs": [],
   "source": [
    "%run code/testing.py\n",
    "test(np.sum([i for i in month_count.values()]), 200)\n",
    "test(month_count[10], 21)\n",
    "test(month_count[11], 15)\n",
    "test(month_count[12], 19)\n",
    "test(hashlib.md5(str(month_count)).hexdigest(),'731ffa53ea48d8a28ccc7a8e8cb8fa8d' );"
   ]
  },
  {
   "cell_type": "markdown",
   "metadata": {
    "slideshow": {
     "slide_type": "-"
    }
   },
   "source": [
    "### Ejercicio 10\n",
    "\n",
    "Exporta este, Notebook a:\n",
    "\n",
    "1. PDF, e incluye el PDF del mismo en tu entrega\n",
    "- Python (`.py`), ejecuta desde la linea de comando el `.py` generado mediante:\n",
    "\n",
    "       > ipython Lab\\ 02\\ -\\ Python.py\n",
    "     \n",
    "  e incluye en tu entrega un pantallazo en JPG de la consola resultante\n",
    "\n",
    "- Como presentación, usando el `Cell toolbar: slideshow` y estableciendo el tipo de `Slide` para cada celda. En el slideshow resultante ha de haber al menos un slide de cada tipo `Slide`, `Subslide` y `Fragment`. Desde la linea de comando en la máquina virtual ejecuta:\n",
    "\n",
    "      > jupyter nbconvert --to slides --post serve --ServePostProcessor.ip='*' --ServePostProcessor.open_in_browser=False --ServePostProcessor.reveal_cdn=http://localhost:8000/reveal.js Lab\\ 02\\ -\\ Python.ipynb\n",
    "      \n",
    "  esto abre un pequeño servidor web para tu presentación y la puedes abrir desde el nevegador de tu máquina física en \n",
    "  \n",
    "       http://localhost:8000\n",
    "       \n",
    "  incluye en tu entrega un pantallazo de tu navegador con el slideshow según muestra algún ejercicio resuelto por ti.\n",
    "  \n",
    "- Finalmente, una vez que tu entrega esté en Dropbox, obtén un URL para compartirlo a través de [nbviewer](https://nbviewer.jupyter.org/) y entrega un fichero `Lab 02 - Python - nbviewer.url` que contenga dicho URL para poder abrirlo directamente desde cualquier navegador en modo sólo lectura.\n",
    "\n",
    "En resumen, tu entrega ha de contener:\n",
    "\n",
    "- el fichero `Lab 02 - Python.ipynb` con este notebook completado.\n",
    "- el fichero `Lab 02 - Python.pdf` con su versión en PDF.\n",
    "- el fichero `Lab 02 - Python - ejecucionpy.jpg` con el pantallazo de la ejecución por línea de consola.\n",
    "- el fichero `Lab 02 - Python - slideshow.jpg` con el pantallazo de una página del slideshow en tu browser.\n",
    "- le fichero `Lab 02 - Python - nbviewer.url` con el URL del nbviewer"
   ]
  },
  {
   "cell_type": "code",
   "execution_count": null,
   "metadata": {
    "collapsed": true
   },
   "outputs": [],
   "source": []
  }
 ],
 "metadata": {
  "kernelspec": {
   "display_name": "Python 2",
   "language": "python",
   "name": "python2"
  },
  "language_info": {
   "codemirror_mode": {
    "name": "ipython",
    "version": 2
   },
   "file_extension": ".py",
   "mimetype": "text/x-python",
   "name": "python",
   "nbconvert_exporter": "python",
   "pygments_lexer": "ipython2",
   "version": "2.7.10"
  }
 },
 "nbformat": 4,
 "nbformat_minor": 0
}
