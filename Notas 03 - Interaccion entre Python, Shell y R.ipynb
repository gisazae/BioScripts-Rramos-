{
 "cells": [
  {
   "cell_type": "markdown",
   "metadata": {},
   "source": [
    "# Interacción entre Python, Shell y R\n",
    "\n",
    "como ves, podemos ejecutar comandos shell desde este notebook. Fíjate que:\n",
    "\n",
    "- con una admiración (!) intercalamos ejecuciones de shell en medio de nuestro código Python\n",
    "- con dos admiraciones al principio de una celda, TODA la celda será ejecutada en un shell (no se interpreta el código Python)\n",
    "- las variables de Python se pueden usar en las ejecuciones del shell\n",
    "- capturamos los resultados de las ejecuciones shell en variables de Python\n",
    "- para que las variables de entorno del shell y el directorio actual persistan entre llamadas desde distintas celdas hay que declararlas con %set_env y %cd\n",
    "- Podemos pasar cualquier variable Python al shell\n",
    "\n",
    "Y podemos ejecutar también código en R:\n",
    "- con %R ejecutamos código R como con ! ejecutamos shell\n",
    "- con %%R TODA la celda será ejecutada como código R\n",
    "- las variables y el espacio de nombres de R persisten entre llamadas desde distintas celdas\n",
    "- podemos intercambiar variables entre R y Python\n",
    "\n"
   ]
  },
  {
   "cell_type": "markdown",
   "metadata": {},
   "source": [
    "# 1. Python y Shell"
   ]
  },
  {
   "cell_type": "markdown",
   "metadata": {},
   "source": [
    "### Ejecutamos un comando cualquiera del sistema"
   ]
  },
  {
   "cell_type": "code",
   "execution_count": 45,
   "metadata": {
    "collapsed": false
   },
   "outputs": [
    {
     "name": "stdout",
     "output_type": "stream",
     "text": [
      "/home/user/share/teaching/bioinformatics-scripting/teacher\r\n"
     ]
    }
   ],
   "source": [
    "!pwd"
   ]
  },
  {
   "cell_type": "markdown",
   "metadata": {},
   "source": [
    "### Guardamos el resultado del comando en una variable python"
   ]
  },
  {
   "cell_type": "code",
   "execution_count": 49,
   "metadata": {
    "collapsed": false
   },
   "outputs": [
    {
     "name": "stdout",
     "output_type": "stream",
     "text": [
      "['/home/user/share/teaching/bioinformatics-scripting/teacher']\n",
      "['/sbin:/usr/sbin:/bin:/usr/bin']\n"
     ]
    }
   ],
   "source": [
    "ruta_actual = !pwd\n",
    "print ruta_actual\n",
    "path = !echo $PATH\n",
    "print path"
   ]
  },
  {
   "cell_type": "markdown",
   "metadata": {},
   "source": [
    "### Usamos una variable Python dentro de la línea de comando"
   ]
  },
  {
   "cell_type": "code",
   "execution_count": 58,
   "metadata": {
    "collapsed": false
   },
   "outputs": [
    {
     "name": "stdout",
     "output_type": "stream",
     "text": [
      "number of files under /sbin is 240\n",
      "number of files under /usr/sbin is 154\n",
      "number of files under /bin is 95\n",
      "number of files under /usr/bin is 609\n"
     ]
    }
   ],
   "source": [
    "for p in path[0].split(\":\"):\n",
    "    files = !ls {p}\n",
    "    print \"number of files under\", p, \"is\", len(files)\n",
    "    "
   ]
  },
  {
   "cell_type": "markdown",
   "metadata": {},
   "source": [
    "### Distintas formas de acceder al resultado recogido de una ejecución del shell"
   ]
  },
  {
   "cell_type": "code",
   "execution_count": 67,
   "metadata": {
    "collapsed": false
   },
   "outputs": [
    {
     "name": "stdout",
     "output_type": "stream",
     "text": [
      "Como una lista\n",
      "type <class 'IPython.utils.text.SList'> len  6\n",
      "['aa', 'Notas 01 - Uso de la linea de comandos.ipynb', 'Notas 02 - Introduccion a Python y R.ipynb', 'scripting overview.ipynb', 'tmp', 'Untitled.ipynb']\n",
      "--\n",
      "Como un string unico\n",
      "type <type 'str'> len  134\n",
      "aa Notas 01 - Uso de la linea de comandos.ipynb Notas 02 - Introduccion a Python y R.ipynb scripting overview.ipynb tmp Untitled.ipynb\n",
      "--\n",
      "Como una lista de paths\n",
      "type <type 'list'> len  6\n",
      "[path(u'aa'), path(u'Notas 01 - Uso de la linea de comandos.ipynb'), path(u'Notas 02 - Introduccion a Python y R.ipynb'), path(u'scripting overview.ipynb'), path(u'tmp'), path(u'Untitled.ipynb')]\n"
     ]
    }
   ],
   "source": [
    "a = !ls\n",
    "print \"Como una lista\"\n",
    "print \"type\", type(a), \n",
    "print \"len \", len(a)\n",
    "print a\n",
    "print \"--\"\n",
    "print \"Como un string unico\"\n",
    "print \"type\", type(a.s), \n",
    "print \"len \", len(a.s)\n",
    "print a.s\n",
    "print \"--\"\n",
    "print \"Como una lista de paths\"\n",
    "print \"type\", type(a.p), \n",
    "print \"len \", len(a.p)\n",
    "print a.p"
   ]
  },
  {
   "cell_type": "code",
   "execution_count": 69,
   "metadata": {
    "collapsed": false
   },
   "outputs": [
    {
     "name": "stdout",
     "output_type": "stream",
     "text": [
      "['Notas 01 - Uso de la linea de comandos.ipynb', 'Notas 02 - Introduccion a Python y R.ipynb']\n"
     ]
    }
   ],
   "source": [
    "a = !ls\n",
    "print a.grep(\"Notas\")"
   ]
  },
  {
   "cell_type": "code",
   "execution_count": 29,
   "metadata": {
    "collapsed": false
   },
   "outputs": [
    {
     "name": "stdout",
     "output_type": "stream",
     "text": [
      "['Filesystem            Size  Used Avail Use% Mounted on', '/dev/mapper/vg_c6-lv_root', '                      6.5G  3.8G  2.5G  61% /', 'tmpfs                 499M     0  499M   0% /dev/shm', '/dev/sda1             477M   25M  427M   6% /boot', '/home/user/share      112G  109G  3.8G  97% /home/user/share']\n",
      "[['Filesystem', 'Size', 'Used', 'Avail', 'Use%', 'Mounted', 'on'], ['/dev/mapper/vg_c6-lv_root'], ['6.5G', '3.8G', '2.5G', '61%', '/'], ['tmpfs', '499M', '0', '499M', '0%', '/dev/shm'], ['/dev/sda1', '477M', '25M', '427M', '6%', '/boot'], ['/home/user/share', '112G', '109G', '3.8G', '97%', '/home/user/share']]\n"
     ]
    }
   ],
   "source": [
    "df = !df -h\n",
    "print df\n",
    "print df.fields()"
   ]
  },
  {
   "cell_type": "code",
   "execution_count": 8,
   "metadata": {
    "collapsed": false
   },
   "outputs": [
    {
     "name": "stdout",
     "output_type": "stream",
     "text": [
      "/opt/anaconda/bin:/opt/anaconda/bin:/usr/local/bin:/usr/bin:/bin:/usr/sbin:/sbin:/opt/X11/bin:/usr/texbin\r\n"
     ]
    }
   ],
   "source": [
    "!echo $PATH"
   ]
  },
  {
   "cell_type": "markdown",
   "metadata": {},
   "source": [
    "### Con `script` ejecutamos TODO el contenido de una celda en un shell"
   ]
  },
  {
   "cell_type": "code",
   "execution_count": 80,
   "metadata": {
    "collapsed": false
   },
   "outputs": [
    {
     "name": "stdout",
     "output_type": "stream",
     "text": [
      "/bin/ls\n",
      "/usr/bin/unzip\n",
      "/home/user/share/teaching/bioinformatics-scripting/teacher\n",
      "/usr/bin/which\n"
     ]
    }
   ],
   "source": [
    "%%script bash\n",
    "which ls\n",
    "which unzip\n",
    "pwd\n",
    "which which"
   ]
  },
  {
   "cell_type": "code",
   "execution_count": 81,
   "metadata": {
    "collapsed": false
   },
   "outputs": [
    {
     "name": "stdout",
     "output_type": "stream",
     "text": [
      "total 108\n",
      "108 -rwxr-xr-x 1 user root 109208 Oct 13 22:05 listar\n"
     ]
    },
    {
     "name": "stderr",
     "output_type": "stream",
     "text": [
      "mkdir: cannot create directory `tmp': File exists\n"
     ]
    }
   ],
   "source": [
    "%%script bash\n",
    "mkdir tmp\n",
    "cd tmp\n",
    "cp `which ls` listar\n",
    "./listar -ls"
   ]
  },
  {
   "cell_type": "markdown",
   "metadata": {},
   "source": [
    "### el directorio actual y las variables de entorno solo son válidos en la celda en la que se ejecutan"
   ]
  },
  {
   "cell_type": "code",
   "execution_count": 12,
   "metadata": {
    "collapsed": false
   },
   "outputs": [
    {
     "name": "stdout",
     "output_type": "stream",
     "text": [
      "/bin/sh: listar: command not found\r\n"
     ]
    }
   ],
   "source": [
    "!listar"
   ]
  },
  {
   "cell_type": "code",
   "execution_count": 13,
   "metadata": {
    "collapsed": false
   },
   "outputs": [
    {
     "name": "stdout",
     "output_type": "stream",
     "text": [
      "/bin/sh: ./listar: No such file or directory\r\n"
     ]
    }
   ],
   "source": [
    "!./listar"
   ]
  },
  {
   "cell_type": "code",
   "execution_count": 84,
   "metadata": {
    "collapsed": false
   },
   "outputs": [
    {
     "name": "stdout",
     "output_type": "stream",
     "text": [
      "/home/user/share/teaching/bioinformatics-scripting/teacher\n",
      "total 108\n",
      "  0 drwxr-xr-x 1 user root    102 Oct 13 14:45 .\n",
      "  0 drwxr-xr-x 1 user root    306 Oct 13 22:06 ..\n",
      "108 -rwxr-xr-x 1 user root 109208 Oct 13 22:05 listar\n"
     ]
    }
   ],
   "source": [
    "%%script bash\n",
    "pwd\n",
    "cd tmp\n",
    "./listar -las"
   ]
  },
  {
   "cell_type": "code",
   "execution_count": 83,
   "metadata": {
    "collapsed": false
   },
   "outputs": [
    {
     "name": "stdout",
     "output_type": "stream",
     "text": [
      "/bin/sh: ./listar: No such file or directory\r\n"
     ]
    }
   ],
   "source": [
    "!./listar -las"
   ]
  },
  {
   "cell_type": "markdown",
   "metadata": {},
   "source": [
    "### usa %cd para que el cambio de directorio tenga efecto al ejecutar shells"
   ]
  },
  {
   "cell_type": "code",
   "execution_count": 85,
   "metadata": {
    "collapsed": false
   },
   "outputs": [
    {
     "name": "stdout",
     "output_type": "stream",
     "text": [
      "/home/user/share/teaching/bioinformatics-scripting/teacher/tmp\n"
     ]
    }
   ],
   "source": [
    "%cd tmp"
   ]
  },
  {
   "cell_type": "code",
   "execution_count": 86,
   "metadata": {
    "collapsed": false
   },
   "outputs": [
    {
     "name": "stdout",
     "output_type": "stream",
     "text": [
      "total 108\r\n",
      "  0 drwxr-xr-x 1 user root    102 Oct 13 14:45 .\r\n",
      "  0 drwxr-xr-x 1 user root    306 Oct 13 22:08 ..\r\n",
      "108 -rwxr-xr-x 1 user root 109208 Oct 13 22:05 listar\r\n"
     ]
    }
   ],
   "source": [
    "!./listar -las"
   ]
  },
  {
   "cell_type": "markdown",
   "metadata": {},
   "source": [
    "### usa %set_env para darle valor a variables de entorno"
   ]
  },
  {
   "cell_type": "code",
   "execution_count": 87,
   "metadata": {
    "collapsed": false
   },
   "outputs": [
    {
     "name": "stdout",
     "output_type": "stream",
     "text": [
      "algo de texto\n"
     ]
    }
   ],
   "source": [
    "%%script bash\n",
    "export MY_VAR=\"algo de texto\"\n",
    "echo $MY_VAR"
   ]
  },
  {
   "cell_type": "code",
   "execution_count": 88,
   "metadata": {
    "collapsed": false
   },
   "outputs": [
    {
     "name": "stdout",
     "output_type": "stream",
     "text": [
      "\r\n"
     ]
    }
   ],
   "source": [
    "!echo $MY_VAR"
   ]
  },
  {
   "cell_type": "code",
   "execution_count": 89,
   "metadata": {
    "collapsed": false
   },
   "outputs": [
    {
     "name": "stdout",
     "output_type": "stream",
     "text": [
      "\n"
     ]
    }
   ],
   "source": [
    "%%script bash\n",
    "echo $MY_VAR"
   ]
  },
  {
   "cell_type": "code",
   "execution_count": 90,
   "metadata": {
    "collapsed": false
   },
   "outputs": [
    {
     "name": "stdout",
     "output_type": "stream",
     "text": [
      "env: MY_VAR=\"otro texto\"\n"
     ]
    }
   ],
   "source": [
    "%set_env MY_VAR=\"otro texto\""
   ]
  },
  {
   "cell_type": "code",
   "execution_count": 91,
   "metadata": {
    "collapsed": false
   },
   "outputs": [
    {
     "name": "stdout",
     "output_type": "stream",
     "text": [
      "\"otro texto\"\r\n"
     ]
    }
   ],
   "source": [
    "!echo $MY_VAR"
   ]
  },
  {
   "cell_type": "code",
   "execution_count": null,
   "metadata": {
    "collapsed": true
   },
   "outputs": [],
   "source": []
  }
 ],
 "metadata": {
  "kernelspec": {
   "display_name": "Python 2",
   "language": "python",
   "name": "python2"
  },
  "language_info": {
   "codemirror_mode": {
    "name": "ipython",
    "version": 2
   },
   "file_extension": ".py",
   "mimetype": "text/x-python",
   "name": "python",
   "nbconvert_exporter": "python",
   "pygments_lexer": "ipython2",
   "version": "2.7.10"
  }
 },
 "nbformat": 4,
 "nbformat_minor": 0
}
