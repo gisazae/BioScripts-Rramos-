{
 "cells": [
  {
   "cell_type": "code",
   "execution_count": 1,
   "metadata": {
    "collapsed": false
   },
   "outputs": [
    {
     "data": {
      "text/plain": [
       "array(['seqinr', 'tools', 'stats', 'graphics', 'grDevices', 'utils',\n",
       "       'datasets', 'methods', 'base'], \n",
       "      dtype='|S9')"
      ]
     },
     "execution_count": 1,
     "metadata": {},
     "output_type": "execute_result"
    }
   ],
   "source": [
    "%R library(\"seqinr\")\n"
   ]
  },
  {
   "cell_type": "code",
   "execution_count": 177,
   "metadata": {
    "collapsed": false
   },
   "outputs": [
    {
     "data": {
      "text/plain": [
       "  [1] \"m\" \"t\" \"n\" \"r\" \"t\" \"l\" \"s\" \"r\" \"e\" \"e\" \"i\" \"r\" \"k\" \"l\" \"d\" \"r\" \"d\" \"l\"\n",
       " [19] \"r\" \"i\" \"l\" \"v\" \"a\" \"t\" \"n\" \"g\" \"t\" \"l\" \"t\" \"r\" \"v\" \"l\" \"n\" \"v\" \"v\" \"a\"\n",
       " [37] \"n\" \"e\" \"e\" \"i\" \"v\" \"v\" \"d\" \"i\" \"i\" \"n\" \"q\" \"q\" \"l\" \"l\" \"d\" \"v\" \"a\" \"p\"\n",
       " [55] \"k\" \"i\" \"p\" \"e\" \"l\" \"e\" \"n\" \"l\" \"k\" \"i\" \"g\" \"r\" \"i\" \"l\" \"q\" \"r\" \"d\" \"i\"\n",
       " [73] \"l\" \"l\" \"k\" \"g\" \"q\" \"k\" \"s\" \"g\" \"i\" \"l\" \"f\" \"v\" \"a\" \"a\" \"e\" \"s\" \"l\" \"i\"\n",
       " [91] \"v\" \"i\" \"d\" \"l\" \"l\" \"p\" \"t\" \"a\" \"i\" \"t\" \"t\" \"y\" \"l\" \"t\" \"k\" \"t\" \"h\" \"h\"\n",
       "[109] \"p\" \"i\" \"g\" \"e\" \"i\" \"m\" \"a\" \"a\" \"s\" \"r\" \"i\" \"e\" \"t\" \"y\" \"k\" \"e\" \"d\" \"a\"\n",
       "[127] \"q\" \"v\" \"w\" \"i\" \"g\" \"d\" \"l\" \"p\" \"c\" \"w\" \"l\" \"a\" \"d\" \"y\" \"g\" \"y\" \"w\" \"d\"\n",
       "[145] \"l\" \"p\" \"k\" \"r\" \"a\" \"v\" \"g\" \"r\" \"r\" \"y\" \"r\" \"i\" \"i\" \"a\" \"g\" \"g\" \"q\" \"p\"\n",
       "[163] \"v\" \"i\" \"i\" \"t\" \"t\" \"e\" \"y\" \"f\" \"l\" \"r\" \"s\" \"v\" \"f\" \"q\" \"d\" \"t\" \"p\" \"r\"\n",
       "[181] \"e\" \"e\" \"l\" \"d\" \"r\" \"c\" \"q\" \"y\" \"s\" \"n\" \"d\" \"i\" \"d\" \"t\" \"r\" \"s\" \"g\" \"d\"\n",
       "[199] \"r\" \"f\" \"v\" \"l\" \"h\" \"g\" \"r\" \"v\" \"f\" \"k\" \"n\" \"l\"\n",
       "attr(,\"name\")\n",
       "[1] \"sp|Q9CD83|PHBS_MYCLE\"\n",
       "attr(,\"Annot\")\n",
       "[1] \">sp|Q9CD83|PHBS_MYCLE Chorismate pyruvate-lyase OS=Mycobacterium leprae (strain TN) GN=ML0133 PE=3 SV=1\"\n",
       "attr(,\"class\")\n",
       "[1] \"SeqFastadna\"\n"
      ]
     },
     "metadata": {},
     "output_type": "display_data"
    }
   ],
   "source": [
    "%%R\n",
    "leprae <- read.fasta(file = \"data/Q9CD83.fasta\")\n",
    "ulcerans <- read.fasta(file = \"data/A0PQ23.fasta\")\n",
    "lepraeseq <- leprae[[1]]\n",
    "ulceransseq <- ulcerans[[1]]\n",
    "\n",
    "print (lepraeseq)"
   ]
  },
  {
   "cell_type": "markdown",
   "metadata": {},
   "source": [
    "### Paso de una secuencia de R a Python"
   ]
  },
  {
   "cell_type": "code",
   "execution_count": 32,
   "metadata": {
    "collapsed": false
   },
   "outputs": [],
   "source": [
    "%Rpull lepraeseq"
   ]
  },
  {
   "cell_type": "code",
   "execution_count": 33,
   "metadata": {
    "collapsed": false
   },
   "outputs": [
    {
     "name": "stdout",
     "output_type": "stream",
     "text": [
      "['m', 't', 'n', 'r', 't', 'l', 's', 'r', 'e', 'e', 'i', 'r', 'k', 'l', 'd', 'r', 'd', 'l', 'r', 'i', 'l', 'v', 'a', 't', 'n', 'g', 't', 'l', 't', 'r', 'v', 'l', 'n', 'v', 'v', 'a', 'n', 'e', 'e', 'i', 'v', 'v', 'd', 'i', 'i', 'n', 'q', 'q', 'l', 'l', 'd', 'v', 'a', 'p', 'k', 'i', 'p', 'e', 'l', 'e', 'n', 'l', 'k', 'i', 'g', 'r', 'i', 'l', 'q', 'r', 'd', 'i', 'l', 'l', 'k', 'g', 'q', 'k', 's', 'g', 'i', 'l', 'f', 'v', 'a', 'a', 'e', 's', 'l', 'i', 'v', 'i', 'd', 'l', 'l', 'p', 't', 'a', 'i', 't', 't', 'y', 'l', 't', 'k', 't', 'h', 'h', 'p', 'i', 'g', 'e', 'i', 'm', 'a', 'a', 's', 'r', 'i', 'e', 't', 'y', 'k', 'e', 'd', 'a', 'q', 'v', 'w', 'i', 'g', 'd', 'l', 'p', 'c', 'w', 'l', 'a', 'd', 'y', 'g', 'y', 'w', 'd', 'l', 'p', 'k', 'r', 'a', 'v', 'g', 'r', 'r', 'y', 'r', 'i', 'i', 'a', 'g', 'g', 'q', 'p', 'v', 'i', 'i', 't', 't', 'e', 'y', 'f', 'l', 'r', 's', 'v', 'f', 'q', 'd', 't', 'p', 'r', 'e', 'e', 'l', 'd', 'r', 'c', 'q', 'y', 's', 'n', 'd', 'i', 'd', 't', 'r', 's', 'g', 'd', 'r', 'f', 'v', 'l', 'h', 'g', 'r', 'v', 'f', 'k', 'n', 'l']\n"
     ]
    }
   ],
   "source": [
    "print list(lepraeseq)"
   ]
  },
  {
   "cell_type": "code",
   "execution_count": 89,
   "metadata": {
    "collapsed": false,
    "scrolled": false
   },
   "outputs": [],
   "source": [
    "from Bio.Seq import Seq\n",
    "from Bio.SeqRecord import SeqRecord\n",
    "from Bio.Alphabet import IUPAC\n",
    "from Bio import Alphabet\n"
   ]
  },
  {
   "cell_type": "code",
   "execution_count": 35,
   "metadata": {
    "collapsed": false
   },
   "outputs": [
    {
     "data": {
      "text/plain": [
       "[1] \"character\"\n"
      ]
     },
     "metadata": {},
     "output_type": "display_data"
    }
   ],
   "source": [
    "%R print (typeof(lepraeseq))"
   ]
  },
  {
   "cell_type": "code",
   "execution_count": 36,
   "metadata": {
    "collapsed": false
   },
   "outputs": [
    {
     "data": {
      "text/plain": [
       "[1] \"sp|Q9CD83|PHBS_MYCLE\"\n"
      ]
     },
     "metadata": {},
     "output_type": "display_data"
    }
   ],
   "source": [
    "%%R\n",
    "print (attributes(lepraeseq)$name)"
   ]
  },
  {
   "cell_type": "code",
   "execution_count": 74,
   "metadata": {
    "collapsed": false
   },
   "outputs": [],
   "source": [
    "%%R\n",
    "lname <- attr(lepraeseq, \"name\")\n",
    "lannot <- attr(lepraeseq, \"Annot\")\n",
    "lclass <- attr(lepraeseq, \"class\")"
   ]
  },
  {
   "cell_type": "code",
   "execution_count": 145,
   "metadata": {
    "collapsed": false
   },
   "outputs": [],
   "source": [
    "%Rpull lname lannot lclass lepraeseq\n",
    "s = Seq(\"\".join(lepraeseq).upper(), Alphabet.SingleLetterAlphabet())\n",
    "sr = SeqRecord(s, name=lname[0], description=lannot[0][1:], id=lname[0])"
   ]
  },
  {
   "cell_type": "code",
   "execution_count": 146,
   "metadata": {
    "collapsed": false
   },
   "outputs": [
    {
     "name": "stdout",
     "output_type": "stream",
     "text": [
      "ID: sp|Q9CD83|PHBS_MYCLE\n",
      "Name: sp|Q9CD83|PHBS_MYCLE\n",
      "Description: sp|Q9CD83|PHBS_MYCLE Chorismate pyruvate-lyase OS=Mycobacterium leprae (strain TN) GN=ML0133 PE=3 SV=1\n",
      "Number of features: 0\n",
      "Seq('MTNRTLSREEIRKLDRDLRILVATNGTLTRVLNVVANEEIVVDIINQQLLDVAP...KNL', SingleLetterAlphabet())\n"
     ]
    }
   ],
   "source": [
    "print sr"
   ]
  },
  {
   "cell_type": "code",
   "execution_count": 147,
   "metadata": {
    "collapsed": false
   },
   "outputs": [
    {
     "name": "stdout",
     "output_type": "stream",
     "text": [
      "ID: sp|Q9CD83|PHBS_MYCLE\n",
      "Name: sp|Q9CD83|PHBS_MYCLE\n",
      "Description: sp|Q9CD83|PHBS_MYCLE Chorismate pyruvate-lyase OS=Mycobacterium leprae (strain TN) GN=ML0133 PE=3 SV=1\n",
      "Number of features: 0\n",
      "Seq('MTNRTLSREEIRKLDRDLRILVATNGTLTRVLNVVANEEIVVDIINQQLLDVAP...KNL', SingleLetterAlphabet())\n"
     ]
    }
   ],
   "source": [
    "leprae = SeqIO.parse(\"data/Q9CD83.fasta\", \"fasta\").next()\n",
    "print leprae"
   ]
  },
  {
   "cell_type": "markdown",
   "metadata": {},
   "source": [
    "### Paso de una secuencia de Python a R"
   ]
  },
  {
   "cell_type": "code",
   "execution_count": 131,
   "metadata": {
    "collapsed": false
   },
   "outputs": [],
   "source": [
    "leprae = SeqIO.parse(\"data/Q9CD83.fasta\", \"fasta\").next()"
   ]
  },
  {
   "cell_type": "code",
   "execution_count": 148,
   "metadata": {
    "collapsed": false
   },
   "outputs": [
    {
     "name": "stdout",
     "output_type": "stream",
     "text": [
      "ID: sp|Q9CD83|PHBS_MYCLE\n",
      "Name: sp|Q9CD83|PHBS_MYCLE\n",
      "Description: sp|Q9CD83|PHBS_MYCLE Chorismate pyruvate-lyase OS=Mycobacterium leprae (strain TN) GN=ML0133 PE=3 SV=1\n",
      "Number of features: 0\n",
      "Seq('MTNRTLSREEIRKLDRDLRILVATNGTLTRVLNVVANEEIVVDIINQQLLDVAP...KNL', SingleLetterAlphabet())\n"
     ]
    }
   ],
   "source": [
    "print leprae"
   ]
  },
  {
   "cell_type": "code",
   "execution_count": 165,
   "metadata": {
    "collapsed": false
   },
   "outputs": [],
   "source": [
    "lpname = leprae.name\n",
    "lpid   = leprae.id\n",
    "lpdescr = leprae.description\n",
    "lpseq   = str(leprae.seq)\n",
    "%Rpush lpname lpid lpdescr lpseq"
   ]
  },
  {
   "cell_type": "code",
   "execution_count": 180,
   "metadata": {
    "collapsed": false
   },
   "outputs": [
    {
     "data": {
      "text/plain": [
       "  [1] \"m\" \"t\" \"n\" \"r\" \"t\" \"l\" \"s\" \"r\" \"e\" \"e\" \"i\" \"r\" \"k\" \"l\" \"d\" \"r\" \"d\" \"l\"\n",
       " [19] \"r\" \"i\" \"l\" \"v\" \"a\" \"t\" \"n\" \"g\" \"t\" \"l\" \"t\" \"r\" \"v\" \"l\" \"n\" \"v\" \"v\" \"a\"\n",
       " [37] \"n\" \"e\" \"e\" \"i\" \"v\" \"v\" \"d\" \"i\" \"i\" \"n\" \"q\" \"q\" \"l\" \"l\" \"d\" \"v\" \"a\" \"p\"\n",
       " [55] \"k\" \"i\" \"p\" \"e\" \"l\" \"e\" \"n\" \"l\" \"k\" \"i\" \"g\" \"r\" \"i\" \"l\" \"q\" \"r\" \"d\" \"i\"\n",
       " [73] \"l\" \"l\" \"k\" \"g\" \"q\" \"k\" \"s\" \"g\" \"i\" \"l\" \"f\" \"v\" \"a\" \"a\" \"e\" \"s\" \"l\" \"i\"\n",
       " [91] \"v\" \"i\" \"d\" \"l\" \"l\" \"p\" \"t\" \"a\" \"i\" \"t\" \"t\" \"y\" \"l\" \"t\" \"k\" \"t\" \"h\" \"h\"\n",
       "[109] \"p\" \"i\" \"g\" \"e\" \"i\" \"m\" \"a\" \"a\" \"s\" \"r\" \"i\" \"e\" \"t\" \"y\" \"k\" \"e\" \"d\" \"a\"\n",
       "[127] \"q\" \"v\" \"w\" \"i\" \"g\" \"d\" \"l\" \"p\" \"c\" \"w\" \"l\" \"a\" \"d\" \"y\" \"g\" \"y\" \"w\" \"d\"\n",
       "[145] \"l\" \"p\" \"k\" \"r\" \"a\" \"v\" \"g\" \"r\" \"r\" \"y\" \"r\" \"i\" \"i\" \"a\" \"g\" \"g\" \"q\" \"p\"\n",
       "[163] \"v\" \"i\" \"i\" \"t\" \"t\" \"e\" \"y\" \"f\" \"l\" \"r\" \"s\" \"v\" \"f\" \"q\" \"d\" \"t\" \"p\" \"r\"\n",
       "[181] \"e\" \"e\" \"l\" \"d\" \"r\" \"c\" \"q\" \"y\" \"s\" \"n\" \"d\" \"i\" \"d\" \"t\" \"r\" \"s\" \"g\" \"d\"\n",
       "[199] \"r\" \"f\" \"v\" \"l\" \"h\" \"g\" \"r\" \"v\" \"f\" \"k\" \"n\" \"l\"\n",
       "attr(,\"name\")\n",
       "[1] \"sp|Q9CD83|PHBS_MYCLE\"\n",
       "attr(,\"Annot\")\n",
       "[1] \">sp|Q9CD83|PHBS_MYCLE Chorismate pyruvate-lyase OS=Mycobacterium leprae (strain TN) GN=ML0133 PE=3 SV=1\"\n",
       "attr(,\"class\")\n",
       "[1] \"SeqFastadna\"\n"
      ]
     },
     "metadata": {},
     "output_type": "display_data"
    }
   ],
   "source": [
    "%%R\n",
    "lepraeseq"
   ]
  },
  {
   "cell_type": "code",
   "execution_count": 185,
   "metadata": {
    "collapsed": false
   },
   "outputs": [
    {
     "data": {
      "text/plain": [
       "[1] \"---\"\n",
       "[1] \"MTNRTLSREEIRKLDRDLRILVATNGTLTRVLNVVANEEIVVDIINQQLLDVAPKIPELENLKIGRILQRDILLKGQKSGILFVAAESLIVIDLLPTAITTYLTKTHHPIGEIMAASRIETYKEDAQVWIGDLPCWLADYGYWDLPKRAVGRRYRIIAGGQPVIITTEYFLRSVFQDTPREELDRCQYSNDIDTRSGDRFVLHGRVFKNL\"\n",
       "attr(,\"name\")\n",
       "[1] \"sp|Q9CD83|PHBS_MYCLE\"\n",
       "attr(,\"Annot\")\n",
       "[1] \"sp|Q9CD83|PHBS_MYCLE Chorismate pyruvate-lyase OS=Mycobacterium leprae (strain TN) GN=ML0133 PE=3 SV=1\"\n",
       "attr(,\"class\")\n",
       "[1] \"SeqFastdna\"\n"
      ]
     },
     "metadata": {},
     "output_type": "display_data"
    }
   ],
   "source": [
    "%%R\n",
    "lseq = lpseq\n",
    "attr(lseq, \"name\")<-lpname\n",
    "attr(lseq, \"Annot\")<-lpdescr\n",
    "attr(lseq, \"class\")<-\"SeqFastdna\"\n",
    "print (\"---\")\n",
    "print (lseq)"
   ]
  },
  {
   "cell_type": "code",
   "execution_count": 208,
   "metadata": {
    "collapsed": false
   },
   "outputs": [
    {
     "data": {
      "text/plain": [
       "[1] \"character\"\n",
       "[1] \"character\"\n",
       "[1] \"--\"                                                                                                                                                                                                                \n",
       "[2] \"MTNRTLSREEIRKLDRDLRILVATNGTLTRVLNVVANEEIVVDIINQQLLDVAPKIPELENLKIGRILQRDILLKGQKSGILFVAAESLIVIDLLPTAITTYLTKTHHPIGEIMAASRIETYKEDAQVWIGDLPCWLADYGYWDLPKRAVGRRYRIIAGGQPVIITTEYFLRSVFQDTPREELDRCQYSNDIDTRSGDRFVLHGRVFKNL\"\n",
       "[1] 210\n",
       "[1] 1\n"
      ]
     },
     "metadata": {},
     "output_type": "display_data"
    }
   ],
   "source": [
    "%%R\n",
    "print (typeof(lepraeseq))\n",
    "print (typeof(lseq))\n",
    "print (c(\"--\", lseq[1]))\n",
    "print (length(lepraeseq))\n",
    "print (length(lseq[1]))"
   ]
  },
  {
   "cell_type": "code",
   "execution_count": 214,
   "metadata": {
    "collapsed": false
   },
   "outputs": [
    {
     "name": "stdout",
     "output_type": "stream",
     "text": [
      "[1] \"hola\"\n",
      "Error in print(pos(a)) : could not find function \"pos\"\n"
     ]
    },
    {
     "name": "stderr",
     "output_type": "stream",
     "text": [
      "/opt/anaconda/lib/python2.7/site-packages/rpy2/robjects/functions.py:106: UserWarning: Error in print(pos(a)) : could not find function \"pos\"\n",
      "\n",
      "  res = super(Function, self).__call__(*new_args, **new_kwargs)\n"
     ]
    }
   ],
   "source": [
    "%%R\n",
    "a <- \"hola\"\n",
    "print (a)\n",
    "print (pos(a))"
   ]
  },
  {
   "cell_type": "markdown",
   "metadata": {},
   "source": [
    "### Recuperación de secuencias de bases de datos públicas"
   ]
  },
  {
   "cell_type": "code",
   "execution_count": null,
   "metadata": {
    "collapsed": false
   },
   "outputs": [],
   "source": [
    "from Bio import Entrez\n",
    "Entrez.email = 'A.N.Other@example.com'\n",
    "handle = Entrez.efetch(db=\"nucleotide\", id=\"Q9CD83\", retmode=\"xml\")\n",
    "records = Entrez.read(handle)"
   ]
  },
  {
   "cell_type": "code",
   "execution_count": 150,
   "metadata": {
    "collapsed": false
   },
   "outputs": [
    {
     "name": "stdout",
     "output_type": "stream",
     "text": [
      "--> GBSeq_moltype :: AA\n",
      "--> GBSeq_source :: Mycobacterium leprae TN\n",
      "--> GBSeq_sequence :: mtnrtlsreeirkldrdlrilvatngtltrvlnvvaneeivvdiinqqlldvapkipelenlkigrilqrdillkgqksgilfvaaeslividllptaittyltkthhpigeimaasrietykedaqvwigdlpcwladygywdlpkravgrryriiaggqpviitteyflrsvfqdtpreeldrcqysndidtrsgdrfvlhgrvfknl\n",
      "--> GBSeq_primary-accession :: Q9CD83\n",
      "--> GBSeq_definition :: RecName: Full=Chorismate pyruvate-lyase; AltName: Full=4-HB synthase; AltName: Full=p-hydroxybenzoic acid synthase\n",
      "--> GBSeq_accession-version :: Q9CD83.1\n",
      "--> GBSeq_topology :: linear\n",
      "--> GBSeq_length :: 210\n",
      "--> GBSeq_feature-table :: [{u'GBFeature_quals': [{u'GBQualifier_name': 'organism', u'GBQualifier_value': 'Mycobacterium leprae TN'}, {u'GBQualifier_name': 'db_xref', u'GBQualifier_value': 'taxon:272631'}], u'GBFeature_key': 'source', u'GBFeature_intervals': [{u'GBInterval_from': '1', u'GBInterval_to': '210', u'GBInterval_accession': 'Q9CD83.1'}], u'GBFeature_location': '1..210'}, {u'GBFeature_quals': [{u'GBQualifier_name': 'locus_tag', u'GBQualifier_value': 'ML0133'}], u'GBFeature_key': 'gene', u'GBFeature_intervals': [{u'GBInterval_from': '1', u'GBInterval_to': '210', u'GBInterval_accession': 'Q9CD83.1'}], u'GBFeature_location': '1..210'}, {u'GBFeature_quals': [{u'GBQualifier_name': 'locus_tag', u'GBQualifier_value': 'ML0133'}, {u'GBQualifier_name': 'product', u'GBQualifier_value': 'Chorismate pyruvate-lyase'}, {u'GBQualifier_name': 'EC_number', u'GBQualifier_value': '4.1.3.40'}, {u'GBQualifier_name': 'note', u'GBQualifier_value': '4-HB synthase; p-hydroxybenzoic acid synthase'}, {u'GBQualifier_name': 'UniProtKB_evidence', u'GBQualifier_value': 'Inferred from homology'}, {u'GBQualifier_name': 'calculated_mol_wt', u'GBQualifier_value': '23914'}], u'GBFeature_key': 'Protein', u'GBFeature_intervals': [{u'GBInterval_from': '1', u'GBInterval_to': '210', u'GBInterval_accession': 'Q9CD83.1'}], u'GBFeature_location': '1..210'}, {u'GBFeature_quals': [{u'GBQualifier_name': 'locus_tag', u'GBQualifier_value': 'ML0133'}, {u'GBQualifier_name': 'region_name', u'GBQualifier_value': 'Mature chain'}, {u'GBQualifier_name': 'experiment', u'GBQualifier_value': 'experimental evidence, no additional details recorded'}, {u'GBQualifier_name': 'note', u'GBQualifier_value': 'Chorismate pyruvate-lyase. /FTId=PRO_0000240509.'}], u'GBFeature_key': 'Region', u'GBFeature_intervals': [{u'GBInterval_from': '1', u'GBInterval_to': '210', u'GBInterval_accession': 'Q9CD83.1'}], u'GBFeature_location': '1..210'}, {u'GBFeature_quals': [{u'GBQualifier_name': 'locus_tag', u'GBQualifier_value': 'ML0133'}, {u'GBQualifier_name': 'region_name', u'GBQualifier_value': 'UbiC'}, {u'GBQualifier_name': 'note', u'GBQualifier_value': '4-hydroxybenzoate synthetase (chorismate-pyruvate lyase) [Coenzyme transport and metabolism]; COG3161'}, {u'GBQualifier_name': 'db_xref', u'GBQualifier_value': 'CDD:225703'}], u'GBFeature_key': 'Region', u'GBFeature_intervals': [{u'GBInterval_from': '1', u'GBInterval_to': '180', u'GBInterval_accession': 'Q9CD83.1'}], u'GBFeature_location': '1..180'}]\n",
      "--> GBSeq_create-date :: 27-JUN-2006\n",
      "--> GBSeq_other-seqids :: ['sp|Q9CD83.1|PHBS_MYCLE', 'gi|81537264']\n",
      "--> GBSeq_division :: BCT\n",
      "--> GBSeq_taxonomy :: Bacteria; Actinobacteria; Corynebacteriales; Mycobacteriaceae; Mycobacterium\n",
      "--> GBSeq_comment :: On Nov 10, 2005 this sequence version replaced gi:25398979.; [FUNCTION] Removes the pyruvyl group from chorismate to provide 4-hydroxybenzoate (4HB). Involved in the synthesis of glycosylated p-hydroxybenzoic acid methyl esters (p-HBADs) and phenolic glycolipids (PGL) that play important roles in the pathogenesis of mycobacterial infections (By similarity). {ECO:0000250}.; [CATALYTIC ACTIVITY] Chorismate = 4-hydroxybenzoate + pyruvate.; [SIMILARITY] Belongs to the chorismate pyruvate-lyase type 2 family. {ECO:0000305}.\n",
      "--> GBSeq_source-db :: UniProtKB: locus PHBS_MYCLE, accession Q9CD83; class: standard. created: Jun 27, 2006. sequence updated: Jun 1, 2001. annotation updated: Jun 24, 2015. xrefs: AL583917.1, CAC29641.1, E86925, NP_301227.1, WP_010907552.1 xrefs (non-sequence databases): ProteinModelPortal:Q9CD83, STRING:272631.ML0133, EnsemblBacteria:CAC29641, EnsemblBacteria:CAC29641, EnsemblBacteria:CAC29641, GeneID:908439, KEGG:mle:ML0133, PATRIC:18050495, Leproma:ML0133, eggNOG:COG3161, HOGENOM:HOG000047043, OMA:LETHRPI, OrthoDB:EOG6HMXDB, Proteomes:UP000000806, GO:0008813, Gene3D:3.40.1410.10, InterPro:IPR028978, InterPro:IPR002800, Pfam:PF01947, SUPFAM:SSF64288\n",
      "--> GBSeq_references :: [{u'GBReference_position': '1..210', u'GBReference_reference': '1', u'GBReference_authors': ['Cole,S.T.', 'Eiglmeier,K.', 'Parkhill,J.', 'James,K.D.', 'Thomson,N.R.', 'Wheeler,P.R.', 'Honore,N.', 'Garnier,T.', 'Churcher,C.', 'Harris,D.', 'Mungall,K.', 'Basham,D.', 'Brown,D.', 'Chillingworth,T.', 'Connor,R.', 'Davies,R.M.', 'Devlin,K.', 'Duthoy,S.', 'Feltwell,T.', 'Fraser,A.', 'Hamlin,N.', 'Holroyd,S.', 'Hornsby,T.', 'Jagels,K.', 'Lacroix,C.', 'Maclean,J.', 'Moule,S.', 'Murphy,L.', 'Oliver,K.', 'Quail,M.A.', 'Rajandream,M.A.', 'Rutherford,K.M.', 'Rutter,S.', 'Seeger,K.', 'Simon,S.', 'Simmonds,M.', 'Skelton,J.', 'Squares,R.', 'Squares,S.', 'Stevens,K.', 'Taylor,K.', 'Whitehead,S.', 'Woodward,J.R.', 'Barrell,B.G.'], u'GBReference_journal': 'Nature 409 (6823), 1007-1011 (2001)', u'GBReference_pubmed': '11234002', u'GBReference_xref': [{u'GBXref_id': '10.1038/35059006', u'GBXref_dbname': 'doi'}], u'GBReference_title': 'Massive gene decay in the leprosy bacillus', u'GBReference_remark': 'NUCLEOTIDE SEQUENCE [LARGE SCALE GENOMIC DNA].;~STRAIN=TN'}]\n",
      "--> GBSeq_update-date :: 24-JUN-2015\n",
      "--> GBSeq_organism :: Mycobacterium leprae TN\n",
      "--> GBSeq_locus :: PHBS_MYCLE\n",
      "--> GBSeq_keywords :: ['Complete proteome', 'Lyase', 'Reference proteome']\n"
     ]
    }
   ],
   "source": [
    "for i in records[0].keys():\n",
    "    print \"-->\",i, \"::\", records[0][i]"
   ]
  },
  {
   "cell_type": "code",
   "execution_count": 12,
   "metadata": {
    "collapsed": false
   },
   "outputs": [
    {
     "name": "stdout",
     "output_type": "stream",
     "text": [
      "AA\n"
     ]
    }
   ],
   "source": [
    "print records[0]['GBSeq_moltype']"
   ]
  },
  {
   "cell_type": "code",
   "execution_count": 26,
   "metadata": {
    "collapsed": false
   },
   "outputs": [],
   "source": [
    "from Bio.Alphabet import IUPAC\n",
    "s = Seq(records[0][\"GBSeq_sequence\"].upper(), IUPAC.IUPACProtein)"
   ]
  },
  {
   "cell_type": "code",
   "execution_count": 27,
   "metadata": {
    "collapsed": false
   },
   "outputs": [
    {
     "data": {
      "text/plain": [
       "Seq('MTNRTLSREEIRKLDRDLRILVATNGTLTRVLNVVANEEIVVDIINQQLLDVAP...KNL', <class 'Bio.Alphabet.IUPAC.IUPACProtein'>)"
      ]
     },
     "execution_count": 27,
     "metadata": {},
     "output_type": "execute_result"
    }
   ],
   "source": [
    "s"
   ]
  },
  {
   "cell_type": "code",
   "execution_count": 23,
   "metadata": {
    "collapsed": false
   },
   "outputs": [
    {
     "data": {
      "text/plain": [
       "'AA'"
      ]
     },
     "execution_count": 23,
     "metadata": {},
     "output_type": "execute_result"
    }
   ],
   "source": [
    "\"aa\".upper()"
   ]
  },
  {
   "cell_type": "code",
   "execution_count": 220,
   "metadata": {
    "collapsed": false
   },
   "outputs": [
    {
     "data": {
      "text/plain": [
       " [1] \"a\"           \"al\"          \"annot\"       \"class\"       \"ctl\"        \n",
       " [6] \"e1\"          \"f\"           \"group\"       \"lannot\"      \"lclass\"     \n",
       "[11] \"leprae\"      \"lepraeseq\"   \"lm.D9\"       \"lm.D90\"      \"lname\"      \n",
       "[16] \"lpdescr\"     \"lpid\"        \"lpname\"      \"lpseq\"       \"ls\"         \n",
       "[21] \"lseq\"        \"name\"        \"opar\"        \"pts\"         \"s\"          \n",
       "[26] \"trt\"         \"ulcerans\"    \"ulceransseq\" \"weight\"     \n"
      ]
     },
     "metadata": {},
     "output_type": "display_data"
    }
   ],
   "source": [
    "%%R\n",
    "objects()"
   ]
  },
  {
   "cell_type": "code",
   "execution_count": null,
   "metadata": {
    "collapsed": true
   },
   "outputs": [],
   "source": []
  }
 ],
 "metadata": {
  "kernelspec": {
   "display_name": "Python 2",
   "language": "python",
   "name": "python2"
  },
  "language_info": {
   "codemirror_mode": {
    "name": "ipython",
    "version": 2
   },
   "file_extension": ".py",
   "mimetype": "text/x-python",
   "name": "python",
   "nbconvert_exporter": "python",
   "pygments_lexer": "ipython2",
   "version": "2.7.10"
  }
 },
 "nbformat": 4,
 "nbformat_minor": 0
}
