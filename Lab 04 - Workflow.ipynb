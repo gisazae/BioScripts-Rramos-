{
 "cells": [
  {
   "cell_type": "markdown",
   "metadata": {},
   "source": [
    "# Scripting for Bioinformatics\n",
    "\n",
    "## Lab 04 - Workflows"
   ]
  },
  {
   "cell_type": "markdown",
   "metadata": {},
   "source": [
    "### Ejercicio 1: Preparación y limpieza de directorios\n",
    "\n",
    "mediante comandos de shell:\n",
    "\n",
    "- imprime el directorio actual para verificar que estás en la carpeta adecuada (la del respositorio del curso)\n",
    "- si existe elimina el directorio `lab04tmp` (con `rm -rf lab04tmp`)\n",
    "- crea un directorio que se llame `lab04tmp` (con `mkdir`)\n",
    "- verifica con un `ls` que el directorio se ha creado y está vacío"
   ]
  },
  {
   "cell_type": "code",
   "execution_count": 1,
   "metadata": {
    "collapsed": false,
    "scrolled": false
   },
   "outputs": [],
   "source": [
    "%%script bash\n",
    "# --- tu codigo aqui -----"
   ]
  },
  {
   "cell_type": "markdown",
   "metadata": {},
   "source": [
    "### Ejercicio 2: Descarga y descompresión de datos\n",
    "\n",
    "descarga un fichero zip desde el siguiente URL en el directorio creado anteriormente:\n",
    "\n",
    "    https://github.com/rramosp/20152.bioscripts/blob/master/scratch/statsdata.zip?raw=true\n",
    "    \n",
    "puedes usar el comando shell `wget URL` para ello (sustituye `URL` por la dirección anterior)\n",
    "\n",
    "cámbiale el nombre con el comando `mv` para que no tenga la parte final `?raw=true`\n",
    "\n",
    "después, descomprime el fichero recién descargado usando el comando shell `unzip FICHERO`.\n",
    "\n",
    "finalmente haz un `ls -las` para observar los ficheros generados\n",
    "\n",
    "y muestra las primeras líneas de fichero csv que venía dentro del zip\n",
    "\n",
    "**TODOS LOS FICHEROS HAN DE QUEDAR EN EL DIRECTORIO CREADO EN EL EJERCICIO ANTERIOR**\n"
   ]
  },
  {
   "cell_type": "code",
   "execution_count": 2,
   "metadata": {
    "collapsed": false
   },
   "outputs": [],
   "source": [
    "%%script bash\n",
    "# --- tu codigo aqui -----"
   ]
  },
  {
   "cell_type": "markdown",
   "metadata": {},
   "source": [
    "### Ejercicio 3: Carga y visualización de datos en Python\n",
    "\n",
    "realiza los siguientes pasos\n",
    "\n",
    "- carga los datos del fichero csv previamente descargado en un DataFrame de Python \n",
    "- muestra los primeros 10 registros del dataframe\n",
    "- pinta el hisgrama de valores de la columna `age` y de la columna `score`"
   ]
  },
  {
   "cell_type": "code",
   "execution_count": 83,
   "metadata": {
    "collapsed": true
   },
   "outputs": [],
   "source": [
    "import numpy as np\n",
    "import pandas as pd\n",
    "import matplotlib.pyplot as plt\n",
    "from io import StringIO\n",
    "%matplotlib inline"
   ]
  },
  {
   "cell_type": "code",
   "execution_count": 3,
   "metadata": {
    "collapsed": false
   },
   "outputs": [],
   "source": [
    "# --- tu codigo aqui -----"
   ]
  },
  {
   "cell_type": "markdown",
   "metadata": {},
   "source": [
    "### Ejercicio 4: Llamada a un comando externo\n",
    "\n",
    "El comando shell `cscore` toma como entrada un fichero en el primer argumento y calcula la media aritmética de los valores de la columna número 10, sacándola por stdout. Asume que en el fichero de entrada no existe una linea de cabecera, sino que todos los valores de la línea 10 son numéricos.\n",
    "\n",
    "En este ejercicio deberás de ejecutar el comando sobre el archivo `statsdata.csv` y recoger el stdout en una variable python tipo `float`.\n",
    "\n",
    "Fíjate que si ejecutas el comando directamente sobre el archivo resulta en error:"
   ]
  },
  {
   "cell_type": "code",
   "execution_count": 68,
   "metadata": {
    "collapsed": false
   },
   "outputs": [
    {
     "name": "stdout",
     "output_type": "stream",
     "text": [
      "Error invalid literal for int() with base 10: 'score'\r\n"
     ]
    }
   ],
   "source": [
    "!cscore lab04tmp/statsdata.csv"
   ]
  },
  {
   "cell_type": "markdown",
   "metadata": {},
   "source": [
    "Esto es porque la primera línea del archivo tiene los nombres de las columnas y hace que falle. Para que esto no suceda habrás de:\n",
    "\n",
    "- ejecutar el comando `tail -n +2 statsdata.csv` y guardar el resultado en un fichero temporal\n",
    "- ejecutar el comando `cscore` sobre el fichero temporal y recoger el stdout en una variable python\n",
    "- convertir la variable python a float\n",
    "- eliminar el fichero temporal creado"
   ]
  },
  {
   "cell_type": "code",
   "execution_count": 65,
   "metadata": {
    "collapsed": false
   },
   "outputs": [],
   "source": [
    "%%script bash\n",
    "# --- tu codigo aqui -----"
   ]
  },
  {
   "cell_type": "code",
   "execution_count": null,
   "metadata": {
    "collapsed": false
   },
   "outputs": [],
   "source": [
    "cscore = # --- tu codigo aqui -----\n",
    "print cscore"
   ]
  },
  {
   "cell_type": "markdown",
   "metadata": {},
   "source": [
    "### Ejercicio 5: Llamada a un programa externo dependiente de variables de entorno\n",
    "\n",
    "Ejecuta el programa `nscore` sobre `statsdata.csv` con la variable de entorno `NORMALIZATION=div` para que divida por 10 la última columna.\n",
    "\n",
    "Ejecuta después el programa `cscore` sobre el resultado anterior y recoge el valor en una variable tipo `float` de Python.\n",
    "\n",
    "Finalmente, general un archivo `result-div.csv` con el resultado de `nscore` pero que tenga la misma línea de encabezado que el fichero original."
   ]
  },
  {
   "cell_type": "code",
   "execution_count": 4,
   "metadata": {
    "collapsed": false
   },
   "outputs": [],
   "source": [
    "# --- tu codigo aqui -----"
   ]
  },
  {
   "cell_type": "code",
   "execution_count": 97,
   "metadata": {
    "collapsed": false
   },
   "outputs": [
    {
     "name": "stdout",
     "output_type": "stream",
     "text": [
      "id,first_name,last_name,email,country,ip_address,longitude,latitude,age,score\r\n",
      "1,Sandra,Sims,ssims0@microsoft.com,Armenia,63.84.115.63,44.43054,40.14493,44,0.062\r\n",
      "2,Anna,Bishop,abishop1@mtv.com,China,204.108.246.11,118.29169,29.67594,90,0.022\r\n",
      "3,Virginia,Rodriguez,vrodriguez2@so-net.ne.jp,Portugal,88.65.157.43,-8.6333,41.4,39,0.033\r\n",
      "4,Julia,Stanley,jstanley3@abc.net.au,China,76.197.170.103,102.19379,38.50062,30,0.064\r\n",
      "5,Jacqueline,Gutierrez,jgutierrez4@shinystat.com,Poland,159.13.71.38,18.54003,54.17062,14,0.05\r\n",
      "6,Nicole,Little,nlittle5@latimes.com,Panama,235.246.1.116,-78.13774,8.40693,10,0.03\r\n",
      "7,Terry,Fox,tfox6@squarespace.com,Iran,81.219.197.208,55.49164,37.38071,89,0.033\r\n",
      "8,Jeremy,Parker,jparker7@gnu.org,China,17.207.110.163,110.71266,22.01041,60,0.055\r\n",
      "9,Kenneth,Walker,kwalker8@nba.com,Slovenia,117.248.31.17,13.97028,45.68472,25,0.05\r\n"
     ]
    }
   ],
   "source": [
    "!head lab04tmp/result-div.csv"
   ]
  },
  {
   "cell_type": "markdown",
   "metadata": {},
   "source": [
    "### Ejercicio 6: Carga y visualización en Python de datos resultantes programa externo\n",
    "\n",
    "Carga los datos resultantes del ejercicio anterior en `result-div.csv` en un DataFrame de Python y:\n",
    "- muestra los primeros 10 datos del mismo\n",
    "- obtén la media de la columna `score`\n",
    "- haz un histograma de 20 bins con la columna `score`"
   ]
  },
  {
   "cell_type": "code",
   "execution_count": 5,
   "metadata": {
    "collapsed": false
   },
   "outputs": [],
   "source": [
    "# --- tu codigo aqui -----\n"
   ]
  },
  {
   "cell_type": "markdown",
   "metadata": {
    "collapsed": true
   },
   "source": [
    "### Ejercicio 7: Carga y visualización en Python de datos resultantes programa externo\n",
    "\n",
    "Carga los datos resultantes del ejercicio anterior en `result-div.csv` en un DataFrame de R y:\n",
    "- muestra los primeros 10 datos del mismo\n",
    "- obtén la media de la columna `score`\n",
    "- haz un histograma de 20 _breaks_ con la columna `score`"
   ]
  },
  {
   "cell_type": "code",
   "execution_count": null,
   "metadata": {
    "collapsed": false
   },
   "outputs": [],
   "source": [
    "%%R\n",
    "# --- tu codigo aqui -----"
   ]
  },
  {
   "cell_type": "markdown",
   "metadata": {},
   "source": [
    "### Ejercicio 8: Traspaso de una lista con nombres desde R a Python como un diccionario\n",
    "\n",
    "- Crea en R una lista de nombres con los valores 50, 809 y 12 con etiquetas `names` correspondientes `first`, `second`, `third`\n",
    "- Trasfiere la lista a Python de forma que acabe siendo un diccionario con keys `first`, `second` y `third` y los valores correspondientes 50, 809 y 12"
   ]
  },
  {
   "cell_type": "code",
   "execution_count": null,
   "metadata": {
    "collapsed": false
   },
   "outputs": [],
   "source": [
    "%%R\n",
    "# --- tu codigo R aqui -----"
   ]
  },
  {
   "cell_type": "code",
   "execution_count": null,
   "metadata": {
    "collapsed": false
   },
   "outputs": [],
   "source": [
    "# --- tu codigo Python aqui -----"
   ]
  },
  {
   "cell_type": "markdown",
   "metadata": {},
   "source": [
    "### Ejercicio 9: Traspaso de un diccionario en Python a una lista con nombres en R\n",
    "\n",
    "- crea un diccionario de Python con las siguientes claves/valores: carro -> 34, velo -> [1,2 3], mar->901, verde-> hola\n",
    "- traspasa su contenido a R y crea una lista `dr` con los keys como nombres y los mismos valores correspondientes."
   ]
  },
  {
   "cell_type": "code",
   "execution_count": null,
   "metadata": {
    "collapsed": false
   },
   "outputs": [],
   "source": [
    "# --- tu codigo Python aqui -----"
   ]
  },
  {
   "cell_type": "code",
   "execution_count": 132,
   "metadata": {
    "collapsed": false
   },
   "outputs": [],
   "source": [
    "%%R\n",
    "# --- tu codigo R aqui -----"
   ]
  },
  {
   "cell_type": "markdown",
   "metadata": {},
   "source": [
    "### Ejercicio 10: Traspaso de una matriz de R a Python y viceversa\n",
    "\n",
    "crea una matriz con número aleatorios en R de 3x5 y obten la matriz correspondiente como un array numpy y traspásala a R.\n",
    "\n",
    "haz el mismo ejercicio en sentido contrario\n",
    "\n",
    "**a) De R a Python**"
   ]
  },
  {
   "cell_type": "code",
   "execution_count": null,
   "metadata": {
    "collapsed": false
   },
   "outputs": [],
   "source": [
    "%%R\n",
    "# --- tu codigo R aqui -----"
   ]
  },
  {
   "cell_type": "code",
   "execution_count": null,
   "metadata": {
    "collapsed": false
   },
   "outputs": [],
   "source": [
    "# --- tu codigo Python aqui -----"
   ]
  },
  {
   "cell_type": "markdown",
   "metadata": {},
   "source": [
    "**b) De Python a R**"
   ]
  },
  {
   "cell_type": "code",
   "execution_count": null,
   "metadata": {
    "collapsed": false
   },
   "outputs": [],
   "source": [
    "# --- tu codigo Python aqui -----"
   ]
  },
  {
   "cell_type": "code",
   "execution_count": null,
   "metadata": {
    "collapsed": false
   },
   "outputs": [],
   "source": [
    "%%R\n",
    "# --- tu codigo R aqui -----"
   ]
  }
 ],
 "metadata": {
  "kernelspec": {
   "display_name": "Python 2",
   "language": "python",
   "name": "python2"
  },
  "language_info": {
   "codemirror_mode": {
    "name": "ipython",
    "version": 2
   },
   "file_extension": ".py",
   "mimetype": "text/x-python",
   "name": "python",
   "nbconvert_exporter": "python",
   "pygments_lexer": "ipython2",
   "version": "2.7.10"
  }
 },
 "nbformat": 4,
 "nbformat_minor": 0
}
