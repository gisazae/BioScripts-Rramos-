{
 "cells": [
  {
   "cell_type": "markdown",
   "metadata": {},
   "source": [
    "Abre una línea de comando a la máquina virtual\n",
    "\n",
    "    > hostname \n",
    "    > ifconfig\n",
    "    > pwd\n",
    "    > whoami\n",
    "    > ls\n",
    "    > ls -las\n",
    "    > ls -lash\n",
    "    > ps\n",
    "    > ps -efa\n",
    "    > df -h\n"
   ]
  },
  {
   "cell_type": "markdown",
   "metadata": {},
   "source": [
    "Binarios y rutas\n",
    "\n",
    "    > echo $PATH\n",
    "> which ls\n",
    "> which unzip\n",
    "> which which\n",
    "> cp /bin/ls ./listar\n",
    "> listar\n",
    "> ./listar \n",
    "> ./listar -las\n",
    "> export PATH=.:$PATH\n",
    "    > listar -las\n",
    "    > mkdir tmp\n",
    "    > cd tmp\n",
    "    > listar\n",
    "    > ../listar\n",
    "    > cd \n",
    "    > pwd\n",
    "    > listar\n",
    "    > export PATH=`pwd`:$PATH\n",
    "> echo $PATH\n",
    "    > cd tmp\n",
    "    > listar\n",
    "    > which listar\n",
    "    > rm `which listar`\n",
    "    > listar    "
   ]
  },
  {
   "cell_type": "markdown",
   "metadata": {},
   "source": [
    "Historia de comandos y autocompleción\n",
    "\n",
    "    > history\n",
    "    > !577\n",
    "    > ^R\n",
    "    > l<TAB> \n",
    "    > ls <TAB>\n"
   ]
  },
  {
   "cell_type": "markdown",
   "metadata": {},
   "source": [
    "Manipulando ficheros\n",
    "\n",
    "    > cd\n",
    "    > mkdir tmp\n",
    "    > cd tmp\n",
    "    > wget https://github.com/rramosp/20152.bioscripts/blob/master/data/sampledata.zip?raw=true\n",
    "    > ls -las\n",
    "    > mv sampledata.zip\\?raw\\=true sampledata.zip\n",
    "    > unzip -l sampledata.zip\n",
    "    > unzip sampledata.zip\n",
    "    > ls -las\n",
    "    > file sampledata.zip\n",
    "    > file sampledata.csv\n",
    "    > less sampledata.csv\n",
    "    > head -15 sampledata.csv\n",
    "    > wc sampledata.csv\n",
    "    > grep fin sampledata.csv\n",
    "    > grep -i fin sampledata.csv"
   ]
  },
  {
   "cell_type": "markdown",
   "metadata": {},
   "source": [
    "Redireccionamiento y pipelining\n",
    "\n",
    "    > sort sampledata.csv\n",
    "    > ls -las\n",
    "    > sort sampledata.csv > tmp.csv\n",
    "    > ls -las\n",
    "    > less tmp.csv\n",
    "    > sort -k 2 -t , sampledata.csv > tmp.csv\n",
    "    > less tmp.csv\n",
    "    > grep -i colombia sampledata.csv\n",
    "    > grep -i colombia sampledata.csv | wc\n",
    "    > grep -i colombia sampledata.csv | sort -k 2 -t ,\n",
    "    > awk -F\",\" '{ print $9 \" \" $3 \",\" $4 \" \"  }' sampledata.csv | less\n",
    "> awk -F\",\" '{ print $1 \" \" $9 \" \" $3 \",\" $4 \" \"  }' sampledata.csv | sort -k 2 | less\n",
    "> awk -F\",\" '{ print $1 \" \" $9 \" \" $3 \",\" $4 \" \"  }' sampledata.csv | sort -k 2 -n | less\n",
    "> awk -F\",\" '{ print $1 \" \" $9 \" \" $3 \",\" $4 \" \"  }'| sort -k 2 -n | less\n",
    "> grep -i colombia sampledata.csv | awk -F\",\" '{ print $1 \" \" $9 \" \" $3 \",\" $4 \" \"  }'\n",
    "> awk -F\",\" '{ print $1 \" \" $9 \" \" $3 \",\" $4 \" \"  }' sampledata.csv | grep -i colombia\n",
    "> awk -F\",\" '{ print $1 \" \" $9 \" \" $3 \",\" $4 \" \" $5 }' sampledata.csv | grep -i colombia\n",
    "    \n",
    "    > nscore sampledata.csv ## error incluye cabecera, no acepta stdin pero salida en stdout\n",
    "    > tail -n +2 sampledata.csv > tmp.csv\n",
    "    > nscore tmp.csv |less\n",
    "    > nscore tmp.csv | grep -i colombia | less"
   ]
  },
  {
   "cell_type": "markdown",
   "metadata": {},
   "source": [
    "    \n",
    "Variables de entorno\n",
    "\n",
    "    > export NORMALIZATION=\"div\"\n",
    "    > nscore tmp.csv |less\n",
    "    > export NORMALIZATION=\"divs\"\n",
    "    > nscore tmp.csv\n",
    "    > unset NORMALIZATION\n",
    "    \n",
    "    > unset NORMALIZATION\n",
    "    > nscore tmp.csv > tmp-mult.csv\n",
    "    > export NORMALIZATION=\"div\"\n",
    "    > nscore tmp.csv > tmp-div.csv\n",
    "    > cscore tmp.csv\n",
    "    > cscore tmp-mult.csv\n",
    "    > cscore tmp-div.csv\n",
    "   \n",
    "    > export RESULT=`cscore tmp-mult.csv`\n",
    "    > echo $RESULT"
   ]
  }
 ],
 "metadata": {
  "kernelspec": {
   "display_name": "Python 2",
   "language": "python",
   "name": "python2"
  },
  "language_info": {
   "codemirror_mode": {
    "name": "ipython",
    "version": 2
   },
   "file_extension": ".py",
   "mimetype": "text/x-python",
   "name": "python",
   "nbconvert_exporter": "python",
   "pygments_lexer": "ipython2",
   "version": "2.7.10"
  }
 },
 "nbformat": 4,
 "nbformat_minor": 0
}
