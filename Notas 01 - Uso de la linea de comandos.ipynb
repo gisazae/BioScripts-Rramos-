{
 "cells": [
  {
   "cell_type": "markdown",
   "metadata": {},
   "source": [
    "# A. Trabajando con el shell\n",
    "\n",
    "###  <font style=\"color:red\">Para conectarse a la máquina virtual</font>\n",
    "\n",
    "Haz un ssh al puerto 2222 de localhost **desde tu máquina física**\n",
    "\n",
    "- Si tu máquina física tiene Linux o MacOS, abre un terminal y haz:\n",
    "\n",
    "       ssh -p 2222 user@localhost\n",
    "       \n",
    "       \n",
    "- Si tu máquina física tiene Windows, descárgate el [PuTTY](http://www.chiark.greenend.org.uk/~sgtatham/putty/) e inicia una sesión a `localhost` al puerto `2222`\n",
    "\n",
    "el usuario es `user` y el password es el mismo  (`user`)\n",
    "\n",
    "También puedes abrir desde tu navegador un terminal desde `http://localhost:9999` y seleccionando `New` $\\rightarrow$ `Terminal` aunque alguna funcionalidad no estará disponible (copy/paste y algunos caracteres especiales)\n",
    "\n",
    "\n",
    "### 1. Comandos básicos\n",
    "Abre una línea de comando a la máquina virtual\n",
    "\n",
    "    > hostname \n",
    "    > ifconfig\n",
    "    > pwd\n",
    "    > whoami\n",
    "    > ls\n",
    "    > ls -las\n",
    "    > ls -lash\n",
    "    > ps\n",
    "    > ps -efa\n",
    "    > df -h\n",
    "    > echo \"PATH is `pwd`\"\n"
   ]
  },
  {
   "cell_type": "markdown",
   "metadata": {},
   "source": [
    "### 2. Binarios y rutas\n",
    "\n",
    "    > echo $PATH\n",
    "> which ls\n",
    "> which unzip\n",
    "> which which\n",
    "> cp /bin/ls ./listar\n",
    "> listar\n",
    "> ./listar \n",
    "> ./listar -las\n",
    "> export PATH=.:$PATH\n",
    "    > listar -las\n",
    "    > mkdir tmp\n",
    "    > cd tmp\n",
    "    > listar\n",
    "    > ../listar\n",
    "    > cd \n",
    "    > pwd\n",
    "    > listar\n",
    "    > export PATH=.:$PATH\n",
    "> echo $PATH\n",
    "    > cd tmp\n",
    "    > listar\n",
    "    > which listar\n",
    "    > rm `which listar`\n",
    "    > listar    "
   ]
  },
  {
   "cell_type": "markdown",
   "metadata": {},
   "source": [
    "### 3. Historia de comandos y autocompleción\n",
    "\n",
    "    > history\n",
    "    > !577\n",
    "    > ^R\n",
    "    > l<TAB> \n",
    "    > ls <TAB>\n"
   ]
  },
  {
   "cell_type": "markdown",
   "metadata": {},
   "source": [
    "### 4. Manipulación de ficheros\n",
    "\n",
    "    > cd\n",
    "    > mkdir tmp\n",
    "    > cd tmp\n",
    "    > wget https://github.com/rramosp/20152.bioscripts/blob/master/data/statsdata.zip?raw=true\n",
    "    > ls -las\n",
    "    > mv statsdata.zip\\?raw\\=true statsdata.zip\n",
    "    > unzip -l statsdata.zip\n",
    "    > unzip statsdata.zip\n",
    "    > ls -las statsdata.*\n",
    "    > file statsdata.zip\n",
    "    > file statsdata.csv\n",
    "    > less statsdata.csv\n",
    "    > head -15 statsdata.csv\n",
    "    > wc statsdata.csv\n",
    "    > grep fin statsdata.csv\n",
    "    > grep -i fin statsdata.csv"
   ]
  },
  {
   "cell_type": "markdown",
   "metadata": {},
   "source": [
    "### 5. Redireccionamiento y pipelining\n",
    "\n",
    "    > sort statsdata.csv | head\n",
    "    > ls -las\n",
    "    > sort statsdata.csv > tmp.csv\n",
    "    > ls -las\n",
    "    > less tmp.csv\n",
    "    > sort -k 2 -t , statsdata.csv > tmp.csv\n",
    "    > head tmp.csv\n",
    "    > grep -i colombia statsdata.csv\n",
    "    > grep -i colombia statsdata.csv | wc\n",
    "    > grep -i colombia statsdata.csv | sort -k 2 -t ,\n",
    "    > awk -F\",\" '{ print $9 \" \" $3 \",\" $4 \" \"  }' statsdata.csv | head\n",
    "> awk -F\",\" '{ print $1 \" \" $9 \" \" $3 \",\" $4 \" \"  }' statsdata.csv | sort -k 2 | head\n",
    "> awk -F\",\" '{ print $1 \" \" $9 \" \" $3 \",\" $4 \" \"  }' statsdata.csv | sort -k 2 -n | head\n",
    "> grep -i colombia statsdata.csv | awk -F\",\" '{ print $1 \" \" $9 \" \" $3 \",\" $4 \" \"  }'\n",
    "> awk -F\",\" '{ print $1 \" \" $9 \" \" $3 \",\" $4 \" \"  }' statsdata.csv | grep -i colombia\n",
    "> awk -F\",\" '{ print $1 \" \" $9 \" \" $3 \",\" $4 \" \" $5 }' statsdata.csv | grep -i colombia\n",
    "    \n",
    "    > nscore statsdata.csv ## error incluye cabecera, no acepta stdin pero salida en stdout\n",
    "    > tail -n +2 statsdata.csv > tmp.csv\n",
    "    > nscore tmp.csv |head\n",
    "    > nscore tmp.csv | grep -i colombia | head"
   ]
  },
  {
   "cell_type": "markdown",
   "metadata": {},
   "source": [
    "### 6. Variables de entorno\n",
    "\n",
    "    > export NORMALIZATION=\"div\"\n",
    "    > nscore tmp.csv | head\n",
    "    > export NORMALIZATION=\"divs\"\n",
    "    > nscore tmp.csv | head\n",
    "    \n",
    "    > unset NORMALIZATION\n",
    "    > nscore tmp.csv > tmp-mult.csv\n",
    "    > export NORMALIZATION=\"div\"\n",
    "    > nscore tmp.csv > tmp-div.csv\n",
    "    > cscore tmp.csv\n",
    "    > cscore tmp-mult.csv\n",
    "    > cscore tmp-div.csv\n",
    "   \n",
    "    > export RESULT=`cscore tmp-mult.csv`\n",
    "    > echo $RESULT"
   ]
  },
  {
   "cell_type": "markdown",
   "metadata": {},
   "source": [
    "# B. Ejecución desde Jupyter Notebooks"
   ]
  },
  {
   "cell_type": "markdown",
   "metadata": {},
   "source": [
    "### Ejecutamos un comando cualquiera del sistema"
   ]
  },
  {
   "cell_type": "code",
   "execution_count": 2,
   "metadata": {
    "collapsed": false
   },
   "outputs": [
    {
     "name": "stdout",
     "output_type": "stream",
     "text": [
      "/home/user/share/teaching/bioinformatics-scripting/teacher\r\n"
     ]
    }
   ],
   "source": [
    "!pwd"
   ]
  },
  {
   "cell_type": "code",
   "execution_count": 3,
   "metadata": {
    "collapsed": false,
    "scrolled": false
   },
   "outputs": [
    {
     "name": "stdout",
     "output_type": "stream",
     "text": [
      "aa\r\n",
      "aa.aux\r\n",
      "aa.dvi\r\n",
      "aa_files\r\n",
      "aa.ipynb\r\n",
      "aa.log\r\n",
      "aa.out\r\n",
      "aa.tex\r\n",
      "data\r\n",
      "Lab 01 - Linea de comando.ipynb\r\n",
      "Lab 02 - Python.ipynb\r\n",
      "Lab 03 - R.ipynb\r\n",
      "Lab 04 - Workflow.ipynb\r\n",
      "Lab XX - Simple workflow.ipynb\r\n",
      "Notas 01 - Uso de la linea de comandos.ipynb\r\n",
      "Notas 02 - Introduccion a Python.ipynb\r\n",
      "Notas 03 - Introduccion a R.ipynb\r\n",
      "Notas 04 - Interaccion entre Python, Shell y R.ipynb\r\n",
      "Notas 05 - Multiple alignment workflow.aux\r\n",
      "Notas 05 - Multiple alignment workflow_files\r\n",
      "Notas 05 - Multiple alignment workflow.ipynb\r\n",
      "Notas 05 - Multiple alignment workflow.log\r\n",
      "Notas 05 - Multiple alignment workflow.out\r\n",
      "Notas 05 - Multiple alignment workflow.pdf\r\n",
      "Notas 05 - Multiple alignment workflow.tex\r\n",
      "Notas 06 - Interaction Biopython + Bioconducts.ipynb\r\n",
      "scripting overview.ipynb\r\n",
      "tests.ipynb\r\n",
      "tmp\r\n"
     ]
    }
   ],
   "source": [
    "!ls"
   ]
  },
  {
   "cell_type": "markdown",
   "metadata": {},
   "source": [
    "### Con `script` ejecutamos TODO el contenido de una celda en un shell"
   ]
  },
  {
   "cell_type": "code",
   "execution_count": 14,
   "metadata": {
    "collapsed": false
   },
   "outputs": [
    {
     "name": "stdout",
     "output_type": "stream",
     "text": [
      "/bin/ls\n",
      "/usr/bin/unzip\n",
      "/home/user/share/teaching/bioinformatics-scripting/teacher\n",
      "/usr/bin/which\n"
     ]
    }
   ],
   "source": [
    "%%script bash\n",
    "which ls\n",
    "which unzip\n",
    "pwd\n",
    "which which"
   ]
  },
  {
   "cell_type": "markdown",
   "metadata": {},
   "source": [
    "### el directorio actual y las variables de entorno solo son válidos en la celda en la que se ejecutan"
   ]
  },
  {
   "cell_type": "code",
   "execution_count": 16,
   "metadata": {
    "collapsed": false
   },
   "outputs": [
    {
     "name": "stdout",
     "output_type": "stream",
     "text": [
      "directorio actual\n",
      "/home/user/share/teaching/bioinformatics-scripting/teacher\n",
      "directorio actual después de cd\n",
      "/home/user/share/teaching/bioinformatics-scripting/teacher/tmp\n"
     ]
    }
   ],
   "source": [
    "%%script bash\n",
    "echo \"directorio actual\"\n",
    "pwd\n",
    "cd tmp\n",
    "echo \"directorio actual después de cd\"\n",
    "pwd"
   ]
  },
  {
   "cell_type": "code",
   "execution_count": 17,
   "metadata": {
    "collapsed": false
   },
   "outputs": [
    {
     "name": "stdout",
     "output_type": "stream",
     "text": [
      "/home/user/share/teaching/bioinformatics-scripting/teacher\r\n"
     ]
    }
   ],
   "source": [
    "!pwd"
   ]
  },
  {
   "cell_type": "code",
   "execution_count": 18,
   "metadata": {
    "collapsed": false
   },
   "outputs": [
    {
     "name": "stdout",
     "output_type": "stream",
     "text": [
      "/home/user/share/teaching/bioinformatics-scripting/teacher\n"
     ]
    }
   ],
   "source": [
    "%%script bash\n",
    "pwd"
   ]
  },
  {
   "cell_type": "code",
   "execution_count": 24,
   "metadata": {
    "collapsed": false
   },
   "outputs": [
    {
     "name": "stdout",
     "output_type": "stream",
     "text": [
      "/home/user/share/teaching/bioinformatics-scripting/teacher/tmp\n"
     ]
    }
   ],
   "source": [
    "%cd tmp"
   ]
  },
  {
   "cell_type": "code",
   "execution_count": 25,
   "metadata": {
    "collapsed": false
   },
   "outputs": [
    {
     "name": "stdout",
     "output_type": "stream",
     "text": [
      "/home/user/share/teaching/bioinformatics-scripting/teacher/tmp\r\n"
     ]
    }
   ],
   "source": [
    "!pwd"
   ]
  },
  {
   "cell_type": "code",
   "execution_count": 26,
   "metadata": {
    "collapsed": false
   },
   "outputs": [
    {
     "name": "stdout",
     "output_type": "stream",
     "text": [
      "/home/user/share/teaching/bioinformatics-scripting/teacher\n",
      "/home/user/share/teaching/bioinformatics-scripting/teacher\r\n"
     ]
    }
   ],
   "source": [
    "%cd ..\n",
    "!pwd"
   ]
  },
  {
   "cell_type": "code",
   "execution_count": 19,
   "metadata": {
    "collapsed": false
   },
   "outputs": [
    {
     "name": "stdout",
     "output_type": "stream",
     "text": [
      "\r\n"
     ]
    }
   ],
   "source": [
    "!echo $MY_VAR"
   ]
  },
  {
   "cell_type": "code",
   "execution_count": 21,
   "metadata": {
    "collapsed": false
   },
   "outputs": [
    {
     "name": "stdout",
     "output_type": "stream",
     "text": [
      "------\n",
      "\n",
      "------\n",
      "algo de texto\n"
     ]
    }
   ],
   "source": [
    "%%script bash\n",
    "echo \"------\"\n",
    "echo $MY_VAR\n",
    "export MY_VAR=\"algo de texto\"\n",
    "echo \"------\"\n",
    "echo $MY_VAR"
   ]
  },
  {
   "cell_type": "code",
   "execution_count": 22,
   "metadata": {
    "collapsed": false
   },
   "outputs": [
    {
     "name": "stdout",
     "output_type": "stream",
     "text": [
      "\r\n"
     ]
    }
   ],
   "source": [
    "!echo $MY_VAR"
   ]
  },
  {
   "cell_type": "code",
   "execution_count": 29,
   "metadata": {
    "collapsed": false
   },
   "outputs": [
    {
     "name": "stdout",
     "output_type": "stream",
     "text": [
      "\n"
     ]
    }
   ],
   "source": [
    "%%script bash\n",
    "echo $MY_VAR"
   ]
  },
  {
   "cell_type": "code",
   "execution_count": 44,
   "metadata": {
    "collapsed": false
   },
   "outputs": [
    {
     "name": "stdout",
     "output_type": "stream",
     "text": [
      "env: MY_VAR=otro-texto\n"
     ]
    }
   ],
   "source": [
    "%set_env MY_VAR=otro-texto"
   ]
  },
  {
   "cell_type": "code",
   "execution_count": 45,
   "metadata": {
    "collapsed": false
   },
   "outputs": [
    {
     "name": "stdout",
     "output_type": "stream",
     "text": [
      "otro-texto\n"
     ]
    }
   ],
   "source": [
    "%%script bash\n",
    "echo $MY_VAR"
   ]
  },
  {
   "cell_type": "code",
   "execution_count": 46,
   "metadata": {
    "collapsed": false
   },
   "outputs": [
    {
     "name": "stdout",
     "output_type": "stream",
     "text": [
      "otro-texto\n"
     ]
    }
   ],
   "source": [
    "x = !echo $MY_VAR\n",
    "x = x[0]\n",
    "print x"
   ]
  },
  {
   "cell_type": "code",
   "execution_count": 47,
   "metadata": {
    "collapsed": false
   },
   "outputs": [
    {
     "name": "stdout",
     "output_type": "stream",
     "text": [
      "env: YOUR_VAR=otro-texto:mas\n"
     ]
    }
   ],
   "source": [
    "%set_env YOUR_VAR=$x:mas"
   ]
  },
  {
   "cell_type": "code",
   "execution_count": 48,
   "metadata": {
    "collapsed": false
   },
   "outputs": [
    {
     "name": "stdout",
     "output_type": "stream",
     "text": [
      "otro-texto:mas\r\n"
     ]
    }
   ],
   "source": [
    "!echo $YOUR_VAR"
   ]
  },
  {
   "cell_type": "code",
   "execution_count": null,
   "metadata": {
    "collapsed": true
   },
   "outputs": [],
   "source": []
  }
 ],
 "metadata": {
  "kernelspec": {
   "display_name": "Python 2",
   "language": "python",
   "name": "python2"
  },
  "language_info": {
   "codemirror_mode": {
    "name": "ipython",
    "version": 2
   },
   "file_extension": ".py",
   "mimetype": "text/x-python",
   "name": "python",
   "nbconvert_exporter": "python",
   "pygments_lexer": "ipython2",
   "version": "2.7.10"
  }
 },
 "nbformat": 4,
 "nbformat_minor": 0
}
