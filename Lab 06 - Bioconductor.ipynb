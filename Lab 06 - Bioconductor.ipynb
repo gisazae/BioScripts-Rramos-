{
 "cells": [
  {
   "cell_type": "markdown",
   "metadata": {},
   "source": [
    "En este ejercicio implementaremos algunos flujos de trabajo de la siguiente referencia:\n",
    "\n",
    "[A Little Book of R for Bioinformatics](refs/a-little-book-of-r-for-bioinformatics.readthedocs.org/en/latest/index.html) ([web site](https://a-little-book-of-r-for-bioinformatics.readthedocs.org/en/latest/))\n",
    "\n",
    "que es una introducción a la librería [Bioconductor](https://www.bioconductor.org/) de R.\n",
    "\n",
    "Observa que **ESTE ES UN NOTEBOOK DE PYTHON** (no de R), ya que estaremos llamando a la línea de comando y los _magics_ necesarios no están todavía disponibles para los notebooks de R.\n",
    "\n",
    "Por tanto, usaremos los magics **%R** y **%%R** para llamar a R.\n",
    "\n",
    "Por ejemplo, la siguiente celda, carga una de las librerías de Bioconductor en R"
   ]
  },
  {
   "cell_type": "code",
   "execution_count": 1,
   "metadata": {
    "collapsed": false
   },
   "outputs": [
    {
     "data": {
      "text/plain": [
       "array(['seqinr', 'tools', 'stats', 'graphics', 'grDevices', 'utils',\n",
       "       'datasets', 'methods', 'base'], \n",
       "      dtype='|S9')"
      ]
     },
     "execution_count": 1,
     "metadata": {},
     "output_type": "execute_result"
    }
   ],
   "source": [
    "%R library(\"seqinr\")"
   ]
  },
  {
   "cell_type": "markdown",
   "metadata": {},
   "source": [
    "## Ejercicio 1\n",
    "\n",
    "Implementa en este notebook el flujo de trabajo en la sección [**DNA Sequence Statistics (1)**](refs/a-little-book-of-r-for-bioinformatics.readthedocs.org/en/latest/src/chapter1.html) del _little book_, pero con las siguientes salvedades:\n",
    "\n",
    "- **NO IMPLEMENTES** la función `getncbiseq`\n",
    "- En su lugar, busca la secuencia con _accession number_ `NC_001477` en [www.ncbi.nlm.nih.gov](http://www.ncbi.nlm.nih.gov/) y obtén su representación en formato FASTA.\n",
    "- Crea un fichero en `data/den1.fasta` con el contenido de la secuencia (usa `New`$\\rightarrow$`Text file` y corta y pega la secuencia FASTA desde el navegador)\n",
    "- Muestra (con `!head`) las primeras líneas del fichero creado\n",
    "- sigue las instrucciones en la sección **Reading sequence data into R** para obtener la secuencia como una variable de R\n"
   ]
  },
  {
   "cell_type": "code",
   "execution_count": null,
   "metadata": {
    "collapsed": false
   },
   "outputs": [],
   "source": [
    "!head data/den1.fasta"
   ]
  },
  {
   "cell_type": "code",
   "execution_count": 21,
   "metadata": {
    "collapsed": false
   },
   "outputs": [
    {
     "data": {
      "text/plain": [
       "[1] 10735\n"
      ]
     },
     "metadata": {},
     "output_type": "display_data"
    }
   ],
   "source": []
  },
  {
   "cell_type": "markdown",
   "metadata": {},
   "source": [
    "## Ejercicio 2\n",
    "\n",
    "Implementa en este notebook el flujo de trabajo en la sección [**DNA Sequence Statistics (2)**](refs/a-little-book-of-r-for-bioinformatics.readthedocs.org/en/latest/src/chapter2.html) del _little book_. Incluye la parte inicial de introducción a R."
   ]
  },
  {
   "cell_type": "markdown",
   "metadata": {},
   "source": [
    "#### A little more introduction to R\n"
   ]
  },
  {
   "cell_type": "code",
   "execution_count": 3,
   "metadata": {
    "collapsed": false
   },
   "outputs": [
    {
     "data": {
      "text/plain": [
       "[1] 2\n"
      ]
     },
     "metadata": {},
     "output_type": "display_data"
    }
   ],
   "source": [
    "%%R\n",
    "x <- 100\n",
    "log10(x)"
   ]
  },
  {
   "cell_type": "code",
   "execution_count": null,
   "metadata": {
    "collapsed": false
   },
   "outputs": [],
   "source": []
  },
  {
   "cell_type": "code",
   "execution_count": null,
   "metadata": {
    "collapsed": false
   },
   "outputs": [],
   "source": []
  },
  {
   "cell_type": "markdown",
   "metadata": {},
   "source": [
    "#### Reading sequence data with SeqinR¶\n"
   ]
  },
  {
   "cell_type": "code",
   "execution_count": null,
   "metadata": {
    "collapsed": false
   },
   "outputs": [],
   "source": []
  },
  {
   "cell_type": "code",
   "execution_count": null,
   "metadata": {
    "collapsed": false
   },
   "outputs": [],
   "source": []
  },
  {
   "cell_type": "markdown",
   "metadata": {},
   "source": [
    "#### Local variation in GC content"
   ]
  },
  {
   "cell_type": "code",
   "execution_count": 51,
   "metadata": {
    "collapsed": false
   },
   "outputs": [
    {
     "data": {
      "text/plain": [
       "[1] 0.4666977\n"
      ]
     },
     "metadata": {},
     "output_type": "display_data"
    }
   ],
   "source": []
  },
  {
   "cell_type": "markdown",
   "metadata": {},
   "source": [
    "#### A sliding window analysis of GC content"
   ]
  },
  {
   "cell_type": "code",
   "execution_count": null,
   "metadata": {
    "collapsed": false
   },
   "outputs": [],
   "source": []
  },
  {
   "cell_type": "code",
   "execution_count": null,
   "metadata": {
    "collapsed": false
   },
   "outputs": [],
   "source": []
  },
  {
   "cell_type": "markdown",
   "metadata": {},
   "source": [
    "#### A sliding window plot of GC content"
   ]
  },
  {
   "cell_type": "code",
   "execution_count": null,
   "metadata": {
    "collapsed": false
   },
   "outputs": [],
   "source": [
    "\n"
   ]
  },
  {
   "cell_type": "markdown",
   "metadata": {},
   "source": [
    "#### Over-represented and under-represented DNA words"
   ]
  },
  {
   "cell_type": "code",
   "execution_count": null,
   "metadata": {
    "collapsed": false
   },
   "outputs": [],
   "source": []
  },
  {
   "cell_type": "markdown",
   "metadata": {},
   "source": [
    "## Ejercicio 3\n",
    "\n",
    "Implementa en este notebook el flujo de trabajo en la sección [**Sequence Databases**](refs/a-little-book-of-r-for-bioinformatics.readthedocs.org/en/latest/src/chapter3.html) del _little book_. \n",
    "\n",
    "Lee atentamente y entiende las secciones anteriores a la que se titula **Querying the NCBI Database via R**.\n",
    "\n",
    "Implementa el código R para seleccionar bancos de secuencias y obtener secuencias a partir de la sección **Querying the NCBI Database via R** incluida.\n",
    "\n",
    "Observaciones:\n",
    "\n",
    "- la función `query` devuelve directamente un objeto con la secuencia buscada. Es decir, se tiene que usar: \n",
    "\n",
    "      Dengue1 <- query(\"Dengue1\", \"AC=NC_001477\")\n",
    "      \n",
    "- Implementa sólamente hasta la sección **Example: finding the sequences published in Nature 460:352-358** sin incluirla."
   ]
  },
  {
   "cell_type": "code",
   "execution_count": 69,
   "metadata": {
    "collapsed": false
   },
   "outputs": [
    {
     "data": {
      "text/plain": [
       " [1] \"genbank\"         \"embl\"            \"emblwgs\"         \"swissprot\"      \n",
       " [5] \"ensembl\"         \"hogenom\"         \"hogenomdna\"      \"hovergendna\"    \n",
       " [9] \"hovergen\"        \"hogenom5\"        \"hogenom5dna\"     \"hogenom4\"       \n",
       "[13] \"hogenom4dna\"     \"homolens\"        \"homolensdna\"     \"hobacnucl\"      \n",
       "[17] \"hobacprot\"       \"phever2\"         \"phever2dna\"      \"refseq\"         \n",
       "[21] \"greviews\"        \"bacterial\"       \"archaeal\"        \"protozoan\"      \n",
       "[25] \"ensprotists\"     \"ensfungi\"        \"ensmetazoa\"      \"ensplants\"      \n",
       "[29] \"ensemblbacteria\" \"mito\"            \"polymorphix\"     \"emglib\"         \n",
       "[33] \"refseqViruses\"   \"taxodb\"         \n"
      ]
     },
     "metadata": {},
     "output_type": "display_data"
    }
   ],
   "source": [
    "%%R\n",
    "choosebank()"
   ]
  },
  {
   "cell_type": "code",
   "execution_count": null,
   "metadata": {
    "collapsed": true
   },
   "outputs": [],
   "source": []
  },
  {
   "cell_type": "markdown",
   "metadata": {},
   "source": [
    "## Ejercicio 4\n",
    "\n",
    "Implementa en este notebook el flujo de trabajo en la sección [**Pairwise Sequence Alignment**](refs/a-little-book-of-r-for-bioinformatics.readthedocs.org/en/latest/src/chapter4.html) del _little book_. \n",
    "\n",
    "Observa que tendrás que acceder a [www.uniprot.org](http://www.uniprot.org) para recuperar las secuencias __leprae__ y __ulcerae__ en los formatos FASTA. Para ello tienes dos opciones:\n",
    "\n",
    "** A) Accediendo manualmente al URL de cada secuencia**\n",
    "\n",
    "1. Encuentra el URL para el formato FASTA de cada secuencia\n",
    "2. usa el comando `wget` del shell para recuperar la secuencia\n",
    "3. almacénala en el directorio `data`\n",
    "\n",
    "** B) Usando el comando `query` sobre el banco `swissprot` según se explica en la referencia **\n",
    "\n",
    "Usa el modo que te sea más cómodo\n",
    "\n",
    "Implementa la sección hasta el capítulo **Pairwise global alignment of DNA sequences using the Needleman-Wunsch algorithm** sin incluirlo.\n",
    "\n",
    "\n"
   ]
  },
  {
   "cell_type": "code",
   "execution_count": 51,
   "metadata": {
    "collapsed": false
   },
   "outputs": [],
   "source": [
    "    "
   ]
  },
  {
   "cell_type": "code",
   "execution_count": null,
   "metadata": {
    "collapsed": true
   },
   "outputs": [],
   "source": []
  }
 ],
 "metadata": {
  "kernelspec": {
   "display_name": "Python 2",
   "language": "python",
   "name": "python2"
  },
  "language_info": {
   "codemirror_mode": {
    "name": "ipython",
    "version": 2
   },
   "file_extension": ".py",
   "mimetype": "text/x-python",
   "name": "python",
   "nbconvert_exporter": "python",
   "pygments_lexer": "ipython2",
   "version": "2.7.10"
  }
 },
 "nbformat": 4,
 "nbformat_minor": 0
}
