{
 "cells": [
  {
   "cell_type": "markdown",
   "metadata": {},
   "source": [
    "**Parte 1**: Ejecuta los comandos de Notas 01 en una línea de comando \n",
    "\n",
    "**Parte 2**: Ejecuta los comandos de la **PARTE A** desde este notebook de la siguiente forma:\n",
    "\n",
    "- Puedes usar `!` o `%%script bash` \n",
    "- Si usas `%%script bash` no puedes tener más de cuatro líneas en una misma celda (sin contar la propia línea `%%script bash`\n",
    "- Usa `%cd` y `%set_env` cuando lo consideres necesario\n",
    "- No implementas la parte de **Historia de comandos y compleción**\n",
    "\n",
    "**Tan sólo has de entregar la Parte 2** (este notebook completado)"
   ]
  },
  {
   "cell_type": "markdown",
   "metadata": {},
   "source": [
    "### 1. Comandos básicos"
   ]
  },
  {
   "cell_type": "code",
   "execution_count": 1,
   "metadata": {
    "collapsed": false
   },
   "outputs": [
    {
     "name": "stdout",
     "output_type": "stream",
     "text": [
      "scicomp\n",
      "eth0      Link encap:Ethernet  HWaddr 08:00:27:00:94:AD  \n",
      "          inet addr:10.0.2.15  Bcast:10.0.2.255  Mask:255.255.255.0\n",
      "          inet6 addr: fe80::a00:27ff:fe00:94ad/64 Scope:Link\n",
      "          UP BROADCAST RUNNING MULTICAST  MTU:1500  Metric:1\n",
      "          RX packets:33054 errors:0 dropped:0 overruns:0 frame:0\n",
      "          TX packets:21358 errors:0 dropped:0 overruns:0 carrier:0\n",
      "          collisions:0 txqueuelen:1000 \n",
      "          RX bytes:26864629 (25.6 MiB)  TX bytes:12295926 (11.7 MiB)\n",
      "\n",
      "lo        Link encap:Local Loopback  \n",
      "          inet addr:127.0.0.1  Mask:255.0.0.0\n",
      "          inet6 addr: ::1/128 Scope:Host\n",
      "          UP LOOPBACK RUNNING  MTU:65536  Metric:1\n",
      "          RX packets:9427 errors:0 dropped:0 overruns:0 frame:0\n",
      "          TX packets:9427 errors:0 dropped:0 overruns:0 carrier:0\n",
      "          collisions:0 txqueuelen:0 \n",
      "          RX bytes:8756392 (8.3 MiB)  TX bytes:8756392 (8.3 MiB)\n",
      "\n",
      "/home/user/share/teaching/bioinformatics-scripting/teacher\n",
      "user\n"
     ]
    }
   ],
   "source": [
    "!hostname\n",
    "!ifconfig\n",
    "!pwd\n",
    "!whoami"
   ]
  },
  {
   "cell_type": "markdown",
   "metadata": {},
   "source": [
    "### Sigue añadiendo celdas con el resto de los comandos"
   ]
  },
  {
   "cell_type": "code",
   "execution_count": null,
   "metadata": {
    "collapsed": true
   },
   "outputs": [],
   "source": []
  },
  {
   "cell_type": "markdown",
   "metadata": {},
   "source": [
    "### 2. Binarios y rutas\n"
   ]
  },
  {
   "cell_type": "code",
   "execution_count": null,
   "metadata": {
    "collapsed": false
   },
   "outputs": [],
   "source": []
  },
  {
   "cell_type": "markdown",
   "metadata": {},
   "source": [
    "### 4. Manipulación de ficheros\n"
   ]
  },
  {
   "cell_type": "code",
   "execution_count": 10,
   "metadata": {
    "collapsed": false
   },
   "outputs": [
    {
     "name": "stdout",
     "output_type": "stream",
     "text": [
      "/home/user/share/teaching/bioinformatics-scripting/teacher\r\n"
     ]
    }
   ],
   "source": []
  },
  {
   "cell_type": "markdown",
   "metadata": {},
   "source": [
    "### 6. Variables de entorno\n",
    "   "
   ]
  },
  {
   "cell_type": "code",
   "execution_count": null,
   "metadata": {
    "collapsed": false
   },
   "outputs": [],
   "source": []
  }
 ],
 "metadata": {
  "kernelspec": {
   "display_name": "Python 2",
   "language": "python",
   "name": "python2"
  },
  "language_info": {
   "codemirror_mode": {
    "name": "ipython",
    "version": 2
   },
   "file_extension": ".py",
   "mimetype": "text/x-python",
   "name": "python",
   "nbconvert_exporter": "python",
   "pygments_lexer": "ipython2",
   "version": "2.7.10"
  }
 },
 "nbformat": 4,
 "nbformat_minor": 0
}
