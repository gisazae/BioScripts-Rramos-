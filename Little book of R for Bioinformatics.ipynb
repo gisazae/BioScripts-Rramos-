{
 "cells": [
  {
   "cell_type": "code",
   "execution_count": 3,
   "metadata": {
    "collapsed": false
   },
   "outputs": [],
   "source": [
    "%load_ext rpy2.ipython"
   ]
  },
  {
   "cell_type": "code",
   "execution_count": 5,
   "metadata": {
    "collapsed": false
   },
   "outputs": [
    {
     "data": {
      "text/plain": [
       "array(['seqinr', 'tools', 'stats', 'graphics', 'grDevices', 'utils',\n",
       "       'datasets', 'methods', 'base'], \n",
       "      dtype='|S9')"
      ]
     },
     "execution_count": 5,
     "metadata": {},
     "output_type": "execute_result"
    }
   ],
   "source": [
    "%R library(\"seqinr\")\n"
   ]
  },
  {
   "cell_type": "code",
   "execution_count": 6,
   "metadata": {
    "collapsed": true
   },
   "outputs": [],
   "source": [
    "%%R\n",
    "getncbiseq <- function(accession)\n",
    "{\n",
    " require(\"seqinr\") # this function requires the SeqinR R package\n",
    " # first find which ACNUC database the accession is stored in:\n",
    " dbs <- c(\"genbank\",\"refseq\",\"refseqViruses\",\"bacterial\")\n",
    " numdbs <- length(dbs)\n",
    " for (i in 1:numdbs)\n",
    " {\n",
    "    db <- dbs[i]\n",
    "    print (\"choosing bank \")\n",
    "    print (db)\n",
    "    choosebank(db)\n",
    "    # check if the sequence is in ACNUC database 'db':\n",
    "    print (db)\n",
    "    resquery <- try(query(\".tmpquery\", paste(\"AC=\", accession)), silent = TRUE)\n",
    "    if (!(inherits(resquery, \"try-error\")))\n",
    "    {\n",
    "       queryname <- \"query2\"\n",
    "       thequery <- paste(\"AC=\",accession,sep=\"\")\n",
    "       query(`queryname`,`thequery`)\n",
    "       # see if a sequence was retrieved:\n",
    "       seq <- getSequence(query2$req[[1]])\n",
    "       closebank()\n",
    "       return(seq)\n",
    "    }\n",
    "    closebank()\n",
    " }\n",
    " print(paste(\"ERROR: accession\",accession,\"was not found\"))\n",
    "}"
   ]
  },
  {
   "cell_type": "code",
   "execution_count": 8,
   "metadata": {
    "collapsed": false
   },
   "outputs": [
    {
     "data": {
      "text/plain": [
       "[1] 10735\n"
      ]
     },
     "metadata": {},
     "output_type": "display_data"
    }
   ],
   "source": [
    "%%R \n",
    "dengue <- read.fasta(file = \"dengue_NC_001477.fasta\")\n",
    "dengueseq <- dengue[[1]]\n",
    "length(dengueseq)"
   ]
  },
  {
   "cell_type": "code",
   "execution_count": 20,
   "metadata": {
    "collapsed": false
   },
   "outputs": [
    {
     "data": {
      "text/plain": [
       "dengueseq\n",
       "   a    c    g    t \n",
       "3426 2240 2770 2299 \n"
      ]
     },
     "metadata": {},
     "output_type": "display_data"
    }
   ],
   "source": [
    "%%R\n",
    "table(dengueseq)"
   ]
  },
  {
   "cell_type": "code",
   "execution_count": 14,
   "metadata": {
    "collapsed": false
   },
   "outputs": [
    {
     "data": {
      "text/plain": [
       "array([ 0.46669772])"
      ]
     },
     "execution_count": 14,
     "metadata": {},
     "output_type": "execute_result"
    }
   ],
   "source": [
    "%R GC(dengueseq)"
   ]
  },
  {
   "cell_type": "code",
   "execution_count": 16,
   "metadata": {
    "collapsed": false
   },
   "outputs": [
    {
     "data": {
      "text/plain": [
       "array([ 0.46669772])"
      ]
     },
     "execution_count": 16,
     "metadata": {},
     "output_type": "execute_result"
    }
   ],
   "source": [
    "%R (sum(dengueseq=='g') + sum(dengueseq=='c')) / length(dengueseq)"
   ]
  },
  {
   "cell_type": "code",
   "execution_count": 17,
   "metadata": {
    "collapsed": false
   },
   "outputs": [
    {
     "data": {
      "text/plain": [
       "\n",
       "   a    c    g    t \n",
       "3426 2240 2770 2299 \n",
       "\n",
       "  aa   ac   ag   at   ca   cc   cg   ct   ga   gc   gg   gt   ta   tc   tg   tt \n",
       "1108  720  890  708  901  523  261  555  976  500  787  507  440  497  832  529 \n"
      ]
     },
     "metadata": {},
     "output_type": "display_data"
    }
   ],
   "source": [
    "%%R\n",
    "print (count(dengueseq,1))\n",
    "count(dengueseq,2)"
   ]
  },
  {
   "cell_type": "code",
   "execution_count": 21,
   "metadata": {
    "collapsed": false
   },
   "outputs": [
    {
     "data": {
      "text/plain": [
       " [1] \"c\" \"g\" \"a\" \"g\" \"g\" \"g\" \"g\" \"g\" \"a\" \"g\" \"a\" \"g\" \"c\" \"c\" \"g\" \"c\" \"a\" \"c\" \"a\"\n",
       "[20] \"t\" \"g\" \"a\" \"t\" \"a\" \"g\" \"t\" \"t\" \"a\" \"g\" \"c\" \"a\" \"a\" \"g\" \"c\" \"a\" \"g\" \"g\" \"a\"\n",
       "[39] \"a\" \"a\" \"g\" \"a\" \"g\" \"g\" \"a\" \"a\" \"a\" \"a\" \"t\" \"c\" \"a\" \"c\" \"t\" \"t\" \"t\" \"t\" \"g\"\n",
       "[58] \"t\" \"t\" \"t\" \"a\" \"a\" \"g\" \"a\" \"c\" \"c\" \"t\" \"c\" \"t\" \"g\" \"c\" \"a\" \"g\" \"g\" \"t\" \"g\"\n",
       "[77] \"t\" \"c\" \"a\" \"a\" \"c\" \"a\" \"t\" \"g\"\n"
      ]
     },
     "metadata": {},
     "output_type": "display_data"
    }
   ],
   "source": [
    "%%R\n",
    "dengueseq[452:535]"
   ]
  },
  {
   "cell_type": "code",
   "execution_count": 22,
   "metadata": {
    "collapsed": false
   },
   "outputs": [
    {
     "data": {
      "text/plain": [
       "[1] 0.465\n",
       "[1] 0.4525\n",
       "[1] 0.4705\n",
       "[1] 0.479\n",
       "[1] 0.4545\n"
      ]
     },
     "metadata": {},
     "output_type": "display_data"
    }
   ],
   "source": [
    "%%R\n",
    "starts <- seq(1, length(dengueseq)-2000, by = 2000)\n",
    "for (i in 1:length(starts)) {\n",
    "    chunk <- dengueseq[starts[i]:(starts[i]+1999)]\n",
    "    chunkGC <- GC(chunk)\n",
    "    print (chunkGC)\n",
    "}"
   ]
  },
  {
   "cell_type": "code",
   "execution_count": 24,
   "metadata": {
    "collapsed": true
   },
   "outputs": [],
   "source": [
    "%%R\n",
    "leprae <- read.fasta(file = \"Q9CD83.fasta\")\n",
    "ulcerans <- read.fasta(file = \"A0PQ23.fasta\")\n",
    "lepraeseq <- leprae[[1]]\n",
    "ulceransseq <- ulcerans[[1]]"
   ]
  },
  {
   "cell_type": "code",
   "execution_count": 25,
   "metadata": {
    "collapsed": false
   },
   "outputs": [
    {
     "data": {
      "text/plain": [
       "array(['m', 't', 'n', 'r', 't', 'l', 's', 'r', 'e', 'e', 'i', 'r', 'k',\n",
       "       'l', 'd', 'r', 'd', 'l', 'r', 'i', 'l', 'v', 'a', 't', 'n', 'g',\n",
       "       't', 'l', 't', 'r', 'v', 'l', 'n', 'v', 'v', 'a', 'n', 'e', 'e',\n",
       "       'i', 'v', 'v', 'd', 'i', 'i', 'n', 'q', 'q', 'l', 'l', 'd', 'v',\n",
       "       'a', 'p', 'k', 'i', 'p', 'e', 'l', 'e', 'n', 'l', 'k', 'i', 'g',\n",
       "       'r', 'i', 'l', 'q', 'r', 'd', 'i', 'l', 'l', 'k', 'g', 'q', 'k',\n",
       "       's', 'g', 'i', 'l', 'f', 'v', 'a', 'a', 'e', 's', 'l', 'i', 'v',\n",
       "       'i', 'd', 'l', 'l', 'p', 't', 'a', 'i', 't', 't', 'y', 'l', 't',\n",
       "       'k', 't', 'h', 'h', 'p', 'i', 'g', 'e', 'i', 'm', 'a', 'a', 's',\n",
       "       'r', 'i', 'e', 't', 'y', 'k', 'e', 'd', 'a', 'q', 'v', 'w', 'i',\n",
       "       'g', 'd', 'l', 'p', 'c', 'w', 'l', 'a', 'd', 'y', 'g', 'y', 'w',\n",
       "       'd', 'l', 'p', 'k', 'r', 'a', 'v', 'g', 'r', 'r', 'y', 'r', 'i',\n",
       "       'i', 'a', 'g', 'g', 'q', 'p', 'v', 'i', 'i', 't', 't', 'e', 'y',\n",
       "       'f', 'l', 'r', 's', 'v', 'f', 'q', 'd', 't', 'p', 'r', 'e', 'e',\n",
       "       'l', 'd', 'r', 'c', 'q', 'y', 's', 'n', 'd', 'i', 'd', 't', 'r',\n",
       "       's', 'g', 'd', 'r', 'f', 'v', 'l', 'h', 'g', 'r', 'v', 'f', 'k',\n",
       "       'n', 'l'], \n",
       "      dtype='|S1')"
      ]
     },
     "execution_count": 25,
     "metadata": {},
     "output_type": "execute_result"
    }
   ],
   "source": [
    "%R lepraeseq"
   ]
  },
  {
   "cell_type": "code",
   "execution_count": 26,
   "metadata": {
    "collapsed": false
   },
   "outputs": [
    {
     "data": {
      "text/plain": [
       "  [1] \"m\" \"t\" \"n\" \"r\" \"t\" \"l\" \"s\" \"r\" \"e\" \"e\" \"i\" \"r\" \"k\" \"l\" \"d\" \"r\" \"d\" \"l\"\n",
       " [19] \"r\" \"i\" \"l\" \"v\" \"a\" \"t\" \"n\" \"g\" \"t\" \"l\" \"t\" \"r\" \"v\" \"l\" \"n\" \"v\" \"v\" \"a\"\n",
       " [37] \"n\" \"e\" \"e\" \"i\" \"v\" \"v\" \"d\" \"i\" \"i\" \"n\" \"q\" \"q\" \"l\" \"l\" \"d\" \"v\" \"a\" \"p\"\n",
       " [55] \"k\" \"i\" \"p\" \"e\" \"l\" \"e\" \"n\" \"l\" \"k\" \"i\" \"g\" \"r\" \"i\" \"l\" \"q\" \"r\" \"d\" \"i\"\n",
       " [73] \"l\" \"l\" \"k\" \"g\" \"q\" \"k\" \"s\" \"g\" \"i\" \"l\" \"f\" \"v\" \"a\" \"a\" \"e\" \"s\" \"l\" \"i\"\n",
       " [91] \"v\" \"i\" \"d\" \"l\" \"l\" \"p\" \"t\" \"a\" \"i\" \"t\" \"t\" \"y\" \"l\" \"t\" \"k\" \"t\" \"h\" \"h\"\n",
       "[109] \"p\" \"i\" \"g\" \"e\" \"i\" \"m\" \"a\" \"a\" \"s\" \"r\" \"i\" \"e\" \"t\" \"y\" \"k\" \"e\" \"d\" \"a\"\n",
       "[127] \"q\" \"v\" \"w\" \"i\" \"g\" \"d\" \"l\" \"p\" \"c\" \"w\" \"l\" \"a\" \"d\" \"y\" \"g\" \"y\" \"w\" \"d\"\n",
       "[145] \"l\" \"p\" \"k\" \"r\" \"a\" \"v\" \"g\" \"r\" \"r\" \"y\" \"r\" \"i\" \"i\" \"a\" \"g\" \"g\" \"q\" \"p\"\n",
       "[163] \"v\" \"i\" \"i\" \"t\" \"t\" \"e\" \"y\" \"f\" \"l\" \"r\" \"s\" \"v\" \"f\" \"q\" \"d\" \"t\" \"p\" \"r\"\n",
       "[181] \"e\" \"e\" \"l\" \"d\" \"r\" \"c\" \"q\" \"y\" \"s\" \"n\" \"d\" \"i\" \"d\" \"t\" \"r\" \"s\" \"g\" \"d\"\n",
       "[199] \"r\" \"f\" \"v\" \"l\" \"h\" \"g\" \"r\" \"v\" \"f\" \"k\" \"n\" \"l\"\n",
       "attr(,\"name\")\n",
       "[1] \"sp|Q9CD83|PHBS_MYCLE\"\n",
       "attr(,\"Annot\")\n",
       "[1] \">sp|Q9CD83|PHBS_MYCLE Chorismate pyruvate-lyase OS=Mycobacterium leprae (strain TN) GN=ML0133 PE=3 SV=1\"\n",
       "attr(,\"class\")\n",
       "[1] \"SeqFastadna\"\n"
      ]
     },
     "metadata": {},
     "output_type": "display_data"
    }
   ],
   "source": [
    "%%R\n",
    "lepraeseq"
   ]
  },
  {
   "cell_type": "code",
   "execution_count": 27,
   "metadata": {
    "collapsed": false
   },
   "outputs": [
    {
     "data": {
      "image/png": "[encoded data removed]"
     },
     "metadata": {},
     "output_type": "display_data"
    }
   ],
   "source": [
    "%R dotPlot(lepraeseq, ulceransseq)"
   ]
  },
  {
   "cell_type": "markdown",
   "metadata": {},
   "source": [
    "# Multiple alignment"
   ]
  },
  {
   "cell_type": "code",
   "execution_count": 45,
   "metadata": {
    "collapsed": false
   },
   "outputs": [
    {
     "data": {
      "text/plain": [
       "[1] \"P06747\"\n",
       "[1] \"P0C569\"\n",
       "[1] \"O56773\"\n",
       "[1] \"Q5VKP1\"\n",
       "  [1] \"M\" \"S\" \"K\" \"I\" \"F\" \"V\" \"N\" \"P\" \"S\" \"A\" \"I\" \"R\" \"A\" \"G\" \"L\" \"A\" \"D\" \"L\"\n",
       " [19] \"E\" \"M\" \"A\" \"E\" \"E\" \"T\" \"V\" \"D\" \"L\" \"I\" \"N\" \"R\" \"N\" \"I\" \"E\" \"D\" \"N\" \"Q\"\n",
       " [37] \"A\" \"H\" \"L\" \"Q\" \"G\" \"E\" \"P\" \"I\" \"E\" \"V\" \"D\" \"N\" \"L\" \"P\" \"E\" \"D\" \"M\" \"G\"\n",
       " [55] \"R\" \"L\" \"H\" \"L\" \"D\" \"D\" \"G\" \"K\" \"S\" \"P\" \"N\" \"P\" \"G\" \"E\" \"M\" \"A\" \"K\" \"V\"\n",
       " [73] \"G\" \"E\" \"G\" \"K\" \"Y\" \"R\" \"E\" \"D\" \"F\" \"Q\" \"M\" \"D\" \"E\" \"G\" \"E\" \"D\" \"P\" \"S\"\n",
       " [91] \"L\" \"L\" \"F\" \"Q\" \"S\" \"Y\" \"L\" \"D\" \"N\" \"V\" \"G\" \"V\" \"Q\" \"I\" \"V\" \"R\" \"Q\" \"I\"\n",
       "[109] \"R\" \"S\" \"G\" \"E\" \"R\" \"F\" \"L\" \"K\" \"I\" \"W\" \"S\" \"Q\" \"T\" \"V\" \"E\" \"E\" \"I\" \"I\"\n",
       "[127] \"S\" \"Y\" \"V\" \"A\" \"V\" \"N\" \"F\" \"P\" \"N\" \"P\" \"P\" \"G\" \"K\" \"S\" \"S\" \"E\" \"D\" \"K\"\n",
       "[145] \"S\" \"T\" \"Q\" \"T\" \"T\" \"G\" \"R\" \"E\" \"L\" \"K\" \"K\" \"E\" \"T\" \"T\" \"P\" \"T\" \"P\" \"S\"\n",
       "[163] \"Q\" \"R\" \"E\" \"S\" \"Q\" \"S\" \"S\" \"K\" \"A\" \"R\" \"M\" \"A\" \"A\" \"Q\" \"T\" \"A\" \"S\" \"G\"\n",
       "[181] \"P\" \"P\" \"A\" \"L\" \"E\" \"W\" \"S\" \"A\" \"T\" \"N\" \"E\" \"E\" \"D\" \"D\" \"L\" \"S\" \"V\" \"E\"\n",
       "[199] \"A\" \"E\" \"I\" \"A\" \"H\" \"Q\" \"I\" \"A\" \"E\" \"S\" \"F\" \"S\" \"K\" \"K\" \"Y\" \"K\" \"F\" \"P\"\n",
       "[217] \"S\" \"R\" \"S\" \"S\" \"G\" \"I\" \"L\" \"L\" \"Y\" \"N\" \"F\" \"E\" \"Q\" \"L\" \"K\" \"M\" \"N\" \"L\"\n",
       "[235] \"D\" \"D\" \"I\" \"V\" \"K\" \"E\" \"A\" \"K\" \"N\" \"V\" \"P\" \"G\" \"V\" \"T\" \"R\" \"L\" \"A\" \"R\"\n",
       "[253] \"D\" \"G\" \"S\" \"K\" \"L\" \"P\" \"L\" \"R\" \"C\" \"V\" \"L\" \"G\" \"W\" \"V\" \"A\" \"L\" \"A\" \"N\"\n",
       "[271] \"S\" \"K\" \"K\" \"F\" \"Q\" \"L\" \"L\" \"V\" \"E\" \"S\" \"N\" \"K\" \"L\" \"S\" \"K\" \"I\" \"M\" \"Q\"\n",
       "[289] \"D\" \"D\" \"L\" \"N\" \"R\" \"Y\" \"T\" \"S\" \"C\"\n",
       "attr(,\"name\")\n",
       "[1] \"sp|P06747|PHOSP_RABVP\"\n",
       "attr(,\"Annot\")\n",
       "[1] \">sp|P06747|PHOSP_RABVP Phosphoprotein OS=Rabies virus (strain Pasteur vaccins / PV) GN=P PE=1 SV=1\"\n",
       "attr(,\"class\")\n",
       "[1] \"SeqFastadna\"\n"
      ]
     },
     "metadata": {},
     "output_type": "display_data"
    }
   ],
   "source": [
    "%%R\n",
    "seqnames <- c(\"P06747\", \"P0C569\", \"O56773\", \"Q5VKP1\")\n",
    "\n",
    "seqs <- list(length(seqnames))\n",
    "for (i in 1:length(seqnames)) {\n",
    "    print (seqnames[[i]])\n",
    "    s <-read.fasta(file = paste(seqnames[[i]],\".fasta\", sep=\"\"))\n",
    "    seqs[[i]] = toupper(s[[1]])\n",
    "}\n",
    "seqs[[1]]   "
   ]
  },
  {
   "cell_type": "code",
   "execution_count": 28,
   "metadata": {
    "collapsed": true
   },
   "outputs": [],
   "source": [
    "!cat P06747.fasta P0C569.fasta O56773.fasta Q5VKP1.fasta > my5sequences.ext"
   ]
  },
  {
   "cell_type": "code",
   "execution_count": 30,
   "metadata": {
    "collapsed": false
   },
   "outputs": [
    {
     "name": "stdout",
     "output_type": "stream",
     "text": [
      "\n",
      "\n",
      "\n",
      " CLUSTAL 2.1 Multiple Sequence Alignments\n",
      "\n",
      "\n",
      "Sequence format is Pearson\n",
      "Sequence 1: sp|P06747|PHOSP_RABVP   297 aa\n",
      "Sequence 2: sp|P0C569|PHOSP_MOKV    303 aa\n",
      "Sequence 3: sp|O56773|PHOSP_LBV     305 aa\n",
      "Sequence 4: sp|Q5VKP1|PHOSP_WCBV    297 aa\n",
      "Start of Pairwise alignments\n",
      "Aligning...\n",
      "\n",
      "Sequences (1:2) Aligned. Score:  46\n",
      "Sequences (1:3) Aligned. Score:  47\n",
      "Sequences (1:4) Aligned. Score:  42\n",
      "Sequences (2:3) Aligned. Score:  59\n",
      "Sequences (2:4) Aligned. Score:  46\n",
      "Sequences (3:4) Aligned. Score:  45\n",
      "Guide tree file created:   [my5sequences.dnd]\n",
      "\n",
      "There are 3 groups\n",
      "Start of Multiple Alignment\n",
      "\n",
      "Aligning...\n",
      "Group 1: Sequences:   2      Score:5312\n",
      "Group 2: Sequences:   3      Score:4785\n",
      "Group 3: Sequences:   4      Score:4636\n",
      "Alignment Score 5207\n",
      "\n",
      "PHYLIP-Alignment file created   [my5sequences.phy]\n",
      "\n"
     ]
    }
   ],
   "source": [
    "!clustalw2 -INFILE=my5sequences.ext -ALIGN -OUTPUT=PHYLIP"
   ]
  },
  {
   "cell_type": "code",
   "execution_count": 35,
   "metadata": {
    "collapsed": false
   },
   "outputs": [
    {
     "data": {
      "text/plain": [
       "[[1]]\n",
       "[1] \"mskdlvhpsliragivelemaeettdlinrtiesnqahlqgeplyvdslpedmsrlriedksrrtkteeeerdegsseednylsegqdplipfqnfldeigaravkrlktgegffrvwsalsddikgyvstnim-tsgerdtksiqiqteptasvssgnesrhdsesmhdpndkkdhtpdhdvvpdiesstdkgeirdiegevahqvaesfskkykfpsrssgiflwnfeqlkmnlddivkaamnvpgveriaekggklplrcilgfvaldsskrfrlladndkvarliqedinsymarleeae--\"\n",
       "\n",
       "[[2]]\n",
       "[1] \"mskglihpsairsglvdlemaeetvdlvhknladsqahlqgeplnvdslpedmrkmrltnapsereiieedeeeyssedeyylsqgqdpmvpfqnfldelgtqivrrmksgdgffkiwsaasedikgyvlstfm-kpetqatvskptqtdslsvprpsqgytsvprdkpsnsesqgggvkpkkvqksewtrdtdeisdiegevahqvaesfskkykfpsrssgiflwnfeqlkmnlddivktsmnvpgvdkiaekggklplrcilgfvsldsskrfrlladtdkvarlmqddihnymtrieeidhn\"\n",
       "\n",
       "[[3]]\n",
       "[1] \"mskifvnpsairagladlemaeetvdlinrniednqahlqgepievdnlpedmgrlhlddgkspnpgemakvgegkyredfqmdegedpsllfqsyldnvgvqivrqirsgerflkiwsqtveeiisyvavnfp-nppgkssedkstqttgrelkkettptpsqresqsskarmaaqtasgppalewsatneeddls-veaeiahqiaesfskkykfpsrssgillynfeqlkmnlddivkeaknvpgvtrlardgsklplrcvlgwvalanskkfqllvesnklskimqddlnrytsc-------\"\n",
       "\n",
       "[[4]]\n",
       "[1] \"mskslihpsdlragladiemadetvdlvyknlsegqahlqgepfdikdlpegvsklqisdnvrsdtspneysdeddeegedeyeevydpvsafqdfldetgsylisklkkgekikktwsevsrviysyvmsnfpprppkpttkdiavqadlkkpneiqkisehksksepsprepvvemhkhatle-----npeddegaleseiahqvaesyskkykfpskssgiflwnfeqlkmnlddivqvargvpgisqiverggklplrcmlgyvgletskrfrslvnqdklcklmqedlnaysvssnn----\"\n",
       "\n"
      ]
     },
     "metadata": {},
     "output_type": "display_data"
    }
   ],
   "source": [
    "%%R \n",
    "virusaln  <- read.alignment(file = \"my5sequences.phy\", format = \"phylip\");\n",
    "virusaln$seq"
   ]
  },
  {
   "cell_type": "code",
   "execution_count": 36,
   "metadata": {
    "collapsed": false
   },
   "outputs": [],
   "source": [
    "%%R\n",
    "printMultipleAlignment <- function(alignment, chunksize=60)\n",
    "  {\n",
    "     # this function requires the Biostrings package\n",
    "     require(\"Biostrings\")\n",
    "     # find the number of sequences in the alignment\n",
    "     numseqs <- alignment$nb\n",
    "     # find the length of the alignment\n",
    "     alignmentlen <- nchar(alignment$seq[[1]])\n",
    "     starts <- seq(1, alignmentlen, by=chunksize)\n",
    "     n <- length(starts)\n",
    "     # get the alignment for each of the sequences:\n",
    "     aln <- vector()\n",
    "     lettersprinted <- vector()\n",
    "     for (j in 1:numseqs)\n",
    "     {\n",
    "        alignmentj <- alignment$seq[[j]]\n",
    "        aln[j] <- alignmentj\n",
    "        lettersprinted[j] <- 0\n",
    "     }\n",
    "     # print out the alignment in blocks of 'chunksize' columns:\n",
    "     for (i in 1:n) { # for each of n chunks\n",
    "        for (j in 1:numseqs)\n",
    "        {\n",
    "           alnj <- aln[j]\n",
    "           chunkseqjaln <- substring(alnj, starts[i], starts[i]+chunksize-1)\n",
    "           chunkseqjaln <- toupper(chunkseqjaln)\n",
    "           # Find out how many gaps there are in chunkseqjaln:\n",
    "           gapsj <- countPattern(\"-\",chunkseqjaln) # countPattern() is from Biostrings package\n",
    "           # Calculate how many residues of the first sequence we have printed so far in the alignment:\n",
    "           lettersprinted[j] <- lettersprinted[j] + chunksize - gapsj\n",
    "           print(paste(chunkseqjaln,lettersprinted[j]))\n",
    "        }\n",
    "        print(paste(' '))\n",
    "     }\n",
    "  }"
   ]
  },
  {
   "cell_type": "code",
   "execution_count": 38,
   "metadata": {
    "collapsed": false
   },
   "outputs": [
    {
     "data": {
      "text/plain": [
       "[1] \"MSKDLVHPSLIRAGIVELEMAEETTDLINRTIESNQAHLQGEPLYVDSLPEDMSRLRIED 60\"\n",
       "[1] \"MSKGLIHPSAIRSGLVDLEMAEETVDLVHKNLADSQAHLQGEPLNVDSLPEDMRKMRLTN 60\"\n",
       "[1] \"MSKIFVNPSAIRAGLADLEMAEETVDLINRNIEDNQAHLQGEPIEVDNLPEDMGRLHLDD 60\"\n",
       "[1] \"MSKSLIHPSDLRAGLADIEMADETVDLVYKNLSEGQAHLQGEPFDIKDLPEGVSKLQISD 60\"\n",
       "[1] \" \"\n",
       "[1] \"KSRRTKTEEEERDEGSSEEDNYLSEGQDPLIPFQNFLDEIGARAVKRLKTGEGFFRVWSA 120\"\n",
       "[1] \"APSEREIIEEDEEEYSSEDEYYLSQGQDPMVPFQNFLDELGTQIVRRMKSGDGFFKIWSA 120\"\n",
       "[1] \"GKSPNPGEMAKVGEGKYREDFQMDEGEDPSLLFQSYLDNVGVQIVRQIRSGERFLKIWSQ 120\"\n",
       "[1] \"NVRSDTSPNEYSDEDDEEGEDEYEEVYDPVSAFQDFLDETGSYLISKLKKGEKIKKTWSE 120\"\n",
       "[1] \" \"\n",
       "[1] \"LSDDIKGYVSTNIM-TSGERDTKSIQIQTEPTASVSSGNESRHDSESMHDPNDKKDHTPD 179\"\n",
       "[1] \"ASEDIKGYVLSTFM-KPETQATVSKPTQTDSLSVPRPSQGYTSVPRDKPSNSESQGGGVK 179\"\n",
       "[1] \"TVEEIISYVAVNFP-NPPGKSSEDKSTQTTGRELKKETTPTPSQRESQSSKARMAAQTAS 179\"\n",
       "[1] \"VSRVIYSYVMSNFPPRPPKPTTKDIAVQADLKKPNEIQKISEHKSKSEPSPREPVVEMHK 180\"\n",
       "[1] \" \"\n",
       "[1] \"HDVVPDIESSTDKGEIRDIEGEVAHQVAESFSKKYKFPSRSSGIFLWNFEQLKMNLDDIV 239\"\n",
       "[1] \"PKKVQKSEWTRDTDEISDIEGEVAHQVAESFSKKYKFPSRSSGIFLWNFEQLKMNLDDIV 239\"\n",
       "[1] \"GPPALEWSATNEEDDLS-VEAEIAHQIAESFSKKYKFPSRSSGILLYNFEQLKMNLDDIV 238\"\n",
       "[1] \"HATLE-----NPEDDEGALESEIAHQVAESYSKKYKFPSKSSGIFLWNFEQLKMNLDDIV 235\"\n",
       "[1] \" \"\n",
       "[1] \"KAAMNVPGVERIAEKGGKLPLRCILGFVALDSSKRFRLLADNDKVARLIQEDINSYMARL 299\"\n",
       "[1] \"KTSMNVPGVDKIAEKGGKLPLRCILGFVSLDSSKRFRLLADTDKVARLMQDDIHNYMTRI 299\"\n",
       "[1] \"KEAKNVPGVTRLARDGSKLPLRCVLGWVALANSKKFQLLVESNKLSKIMQDDLNRYTSC- 297\"\n",
       "[1] \"QVARGVPGISQIVERGGKLPLRCMLGYVGLETSKRFRSLVNQDKLCKLMQEDLNAYSVSS 295\"\n",
       "[1] \" \"\n",
       "[1] \"EEAE-- 357\"\n",
       "[1] \"EEIDHN 359\"\n",
       "[1] \"------ 351\"\n",
       "[1] \"NN---- 351\"\n",
       "[1] \" \"\n"
      ]
     },
     "metadata": {},
     "output_type": "display_data"
    }
   ],
   "source": [
    "%%R \n",
    "printMultipleAlignment(virusaln, 60)"
   ]
  },
  {
   "cell_type": "code",
   "execution_count": 40,
   "metadata": {
    "collapsed": true
   },
   "outputs": [],
   "source": [
    "%%R\n",
    "cleanAlignment <- function(alignment, minpcnongap, minpcid)\n",
    "  {\n",
    "     # make a copy of the alignment to store the new alignment in:\n",
    "     newalignment <- alignment\n",
    "     # find the number of sequences in the alignment\n",
    "     numseqs <- alignment$nb\n",
    "     # empty the alignment in \"newalignment\")\n",
    "     for (j in 1:numseqs) { newalignment$seq[[j]] <- \"\" }\n",
    "     # find the length of the alignment\n",
    "     alignmentlen <- nchar(alignment$seq[[1]])\n",
    "     # look at each column of the alignment in turn:\n",
    "     for (i in 1:alignmentlen)\n",
    "     {\n",
    "        # see what percent of the letters in this column are non-gaps:\n",
    "        nongap <- 0\n",
    "        for (j in 1:numseqs)\n",
    "        {\n",
    "           seqj <- alignment$seq[[j]]\n",
    "           letterij <- substr(seqj,i,i)\n",
    "           if (letterij != \"-\") { nongap <- nongap + 1}\n",
    "        }\n",
    "        pcnongap <- (nongap*100)/numseqs\n",
    "        # Only consider this column if at least minpcnongap % of the letters are not gaps:\n",
    "        if (pcnongap >= minpcnongap)\n",
    "        {\n",
    "           # see what percent of the pairs of letters in this column are identical:\n",
    "           numpairs <- 0; numid <- 0\n",
    "           # find the letters in all of the sequences in this column:\n",
    "           for (j in 1:(numseqs-1))\n",
    "           {\n",
    "              seqj <- alignment$seq[[j]]\n",
    "              letterij <- substr(seqj,i,i)\n",
    "              for (k in (j+1):numseqs)\n",
    "              {\n",
    "                 seqk <- alignment$seq[[k]]\n",
    "                 letterkj <- substr(seqk,i,i)\n",
    "                 if (letterij != \"-\" && letterkj != \"-\")\n",
    "                 {\n",
    "                    numpairs <- numpairs + 1\n",
    "                    if (letterij == letterkj) { numid <- numid + 1}\n",
    "                 }\n",
    "              }\n",
    "           }\n",
    "           pcid <- (numid*100)/(numpairs)\n",
    "           # Only consider this column if at least %minpcid of the pairs of letters are identical:\n",
    "           if (pcid >= minpcid)\n",
    "           {\n",
    "               for (j in 1:numseqs)\n",
    "               {\n",
    "                  seqj <- alignment$seq[[j]]\n",
    "                  letterij <- substr(seqj,i,i)\n",
    "                  newalignmentj <- newalignment$seq[[j]]\n",
    "                  newalignmentj <- paste(newalignmentj,letterij,sep=\"\")\n",
    "                  newalignment$seq[[j]] <- newalignmentj\n",
    "               }\n",
    "           }\n",
    "        }\n",
    "     }\n",
    "     return(newalignment)\n",
    "  }"
   ]
  },
  {
   "cell_type": "code",
   "execution_count": 41,
   "metadata": {
    "collapsed": false
   },
   "outputs": [
    {
     "data": {
      "text/plain": [
       "[1] \"MSKLVHPSIRAGIVELEMAEETTDLIRTIQAHLQGEPVDLPEDMRLIDREEEDEGDPFQF 60\"\n",
       "[1] \"MSKLIHPSIRSGLVDLEMAEETVDLVKNLQAHLQGEPVDLPEDMKMLNSEEEEQGDPFQF 60\"\n",
       "[1] \"MSKFVNPSIRAGLADLEMAEETVDLIRNIQAHLQGEPVDLPEDMRLLDSAERDEGDPFQY 60\"\n",
       "[1] \"MSKLIHPSLRAGLADIEMADETVDLVKNLQAHLQGEPIKLPEGVKLIDREEEEEVDPFQF 60\"\n",
       "[1] \" \"\n",
       "[1] \"LDEGVKGEFRWSSIGYVNIMSTSIQTHSDESGEDEEVAHQVAESFSKKYKFPSRSSGIFL 120\"\n",
       "[1] \"LDEGVKGDFKWSSIGYVTFMPTSKQTSDSETDEDEEVAHQVAESFSKKYKFPSRSSGIFL 120\"\n",
       "[1] \"LDNGVRGEFKWSVISYVNFPPSDKQTSSSSTDD-EEIAHQIAESFSKKYKFPSRSSGILL 119\"\n",
       "[1] \"LDEGIKGEIKWSSISYVNFPPTDIQAHSS--DDAEEIAHQVAESYSKKYKFPSKSSGIFL 118\"\n",
       "[1] \" \"\n",
       "[1] \"WNFEQLKMNLDDIVKANVPGVIAEGGKLPLRCLGVLSKRFRLLADKVRLIQEDINYEE 180\"\n",
       "[1] \"WNFEQLKMNLDDIVKSNVPGVIAEGGKLPLRCLGVLSKRFRLLADKVRLMQDDIHYEE 180\"\n",
       "[1] \"YNFEQLKMNLDDIVKANVPGVLARGSKLPLRCLGVLSKKFQLLVNKLKIMQDDLNY-- 177\"\n",
       "[1] \"WNFEQLKMNLDDIVQAGVPGIIVEGGKLPLRCLGVLSKRFRSLVDKLKLMQEDLNYNN 178\"\n",
       "[1] \" \"\n"
      ]
     },
     "metadata": {},
     "output_type": "display_data"
    }
   ],
   "source": [
    "%%R\n",
    "cleanedvirusaln <- cleanAlignment(virusaln, 30, 30)\n",
    "printMultipleAlignment(cleanedvirusaln)"
   ]
  },
  {
   "cell_type": "code",
   "execution_count": 42,
   "metadata": {
    "collapsed": false
   },
   "outputs": [
    {
     "data": {
      "text/plain": [
       "           sp|P0C569| sp|O56773| sp|P06747|\n",
       "sp|O56773|  0.4142670                      \n",
       "sp|P06747|  0.4678196  0.4714045           \n",
       "sp|Q5VKP1|  0.4828127  0.5067117  0.5034130\n"
      ]
     },
     "metadata": {},
     "output_type": "display_data"
    }
   ],
   "source": [
    "%%R\n",
    "virusdist <- dist.alignment(virusaln) \n",
    "virusdist"
   ]
  },
  {
   "cell_type": "code",
   "execution_count": 57,
   "metadata": {
    "collapsed": false
   },
   "outputs": [
    {
     "data": {
      "text/plain": [
       "[1] \"AF049118\"\n",
       "[1] \"AF049114\"\n",
       "[1] \"AF049119\"\n",
       "[1] \"AF049115\"\n"
      ]
     },
     "metadata": {},
     "output_type": "display_data"
    }
   ],
   "source": [
    "%%R\n",
    "seqnames <- c(\"AF049118\", \"AF049114\", \"AF049119\", \"AF049115\") \n",
    "seqs <- list(length(seqnames))\n",
    "for (i in 1:length(seqnames)) {\n",
    "    print (seqnames[[i]])\n",
    "    s <-read.fasta(file = paste(seqnames[[i]],\".fasta\", sep=\"\"))\n",
    "    seqs[[i]] = toupper(s[[1]])\n",
    "}"
   ]
  },
  {
   "cell_type": "code",
   "execution_count": 58,
   "metadata": {
    "collapsed": false
   },
   "outputs": [],
   "source": [
    "%R write.fasta(seqs, seqnames, file=\"virusmRNA.fasta\")"
   ]
  },
  {
   "cell_type": "code",
   "execution_count": 59,
   "metadata": {
    "collapsed": false
   },
   "outputs": [
    {
     "name": "stdout",
     "output_type": "stream",
     "text": [
      "\n",
      "\n",
      "\n",
      " CLUSTAL 2.1 Multiple Sequence Alignments\n",
      "\n",
      "\n",
      "Sequence format is Pearson\n",
      "Sequence 1: AF049118    1083 bp\n",
      "Sequence 2: AF049114    1016 bp\n",
      "Sequence 3: AF049119    1010 bp\n",
      "Sequence 4: AF049115     990 bp\n",
      "Start of Pairwise alignments\n",
      "Aligning...\n",
      "\n",
      "Sequences (1:2) Aligned. Score:  62\n",
      "Sequences (1:3) Aligned. Score:  62\n",
      "Sequences (1:4) Aligned. Score:  53\n",
      "Sequences (2:3) Aligned. Score:  72\n",
      "Sequences (2:4) Aligned. Score:  56\n",
      "Sequences (3:4) Aligned. Score:  54\n",
      "Guide tree file created:   [virusmRNA.dnd]\n",
      "\n",
      "There are 3 groups\n",
      "Start of Multiple Alignment\n",
      "\n",
      "Aligning...\n",
      "Group 1: Sequences:   2      Score:15675\n",
      "Group 2: Sequences:   3      Score:13650\n",
      "Group 3: Sequences:   4      Score:11365\n",
      "Alignment Score 21334\n",
      "\n",
      "PHYLIP-Alignment file created   [virusmRNA.phy]\n",
      "\n"
     ]
    }
   ],
   "source": [
    "!clustalw2 -INFILE=virusmRNA.fasta -ALIGN -OUTPUT=PHYLIP"
   ]
  },
  {
   "cell_type": "code",
   "execution_count": 60,
   "metadata": {
    "collapsed": false
   },
   "outputs": [
    {
     "data": {
      "text/plain": [
       "          AF049114  AF049119  AF049118\n",
       "AF049119 0.3400576                    \n",
       "AF049118 0.5235850 0.5637372          \n",
       "AF049115 0.6854129 0.6852311 0.7656023\n"
      ]
     },
     "metadata": {},
     "output_type": "display_data"
    }
   ],
   "source": [
    "%%R \n",
    "library(\"ape\")\n",
    "virusmRNAaln  <- read.alignment(file = \"virusmRNA.phy\", format = \"phylip\")\n",
    "virusmRNAalnbin <- as.DNAbin(virusmRNAaln) # Convert the alignment to \"DNAbin\" format\n",
    "virusmRNAdist <- dist.dna(virusmRNAalnbin) # Calculate the genetic distance matrix\n",
    "virusmRNAdist \n"
   ]
  },
  {
   "cell_type": "code",
   "execution_count": 61,
   "metadata": {
    "collapsed": true
   },
   "outputs": [],
   "source": [
    "%%R\n",
    "unrootedNJtree <- function(alignment,type)\n",
    "  {\n",
    "     # this function requires the ape and seqinR packages:\n",
    "     require(\"ape\")\n",
    "     require(\"seqinr\")\n",
    "     # define a function for making a tree:\n",
    "     makemytree <- function(alignmentmat)\n",
    "     {\n",
    "        alignment <- ape::as.alignment(alignmentmat)\n",
    "        if      (type == \"protein\")\n",
    "        {\n",
    "           mydist <- dist.alignment(alignment)\n",
    "        }\n",
    "        else if (type == \"DNA\")\n",
    "        {\n",
    "           alignmentbin <- as.DNAbin(alignment)\n",
    "           mydist <- dist.dna(alignmentbin)\n",
    "        }\n",
    "        mytree <- nj(mydist)\n",
    "        mytree <- makeLabel(mytree, space=\"\") # get rid of spaces in tip names.\n",
    "        return(mytree)\n",
    "     }\n",
    "     # infer a tree\n",
    "     mymat  <- as.matrix.alignment(alignment)\n",
    "     mytree <- makemytree(mymat)\n",
    "     # bootstrap the tree\n",
    "     myboot <- boot.phylo(mytree, mymat, makemytree)\n",
    "     # plot the tree:\n",
    "     plot.phylo(mytree,type=\"u\")   # plot the unrooted phylogenetic tree\n",
    "     nodelabels(myboot,cex=0.7)    # plot the bootstrap values\n",
    "     mytree$node.label <- myboot   # make the bootstrap values be the node labels\n",
    "     return(mytree)\n",
    "  }"
   ]
  },
  {
   "cell_type": "code",
   "execution_count": 62,
   "metadata": {
    "collapsed": false
   },
   "outputs": [
    {
     "data": {
      "text/plain": [
       "\r",
       "  |                                                                            \r",
       "  |                                                                      |   0%\r",
       "  |                                                                            \r",
       "  |=                                                                     |   1%\r",
       "  |                                                                            \r",
       "  |=                                                                     |   2%\r",
       "  |                                                                            \r",
       "  |==                                                                    |   3%\r",
       "  |                                                                            \r",
       "  |===                                                                   |   4%\r",
       "  |                                                                            \r",
       "  |====                                                                  |   5%\r",
       "  |                                                                            \r",
       "  |====                                                                  |   6%\r",
       "  |                                                                            \r",
       "  |=====                                                                 |   7%\r",
       "  |                                                                            \r",
       "  |======                                                                |   8%\r",
       "  |                                                                            \r",
       "  |======                                                                |   9%\r",
       "  |                                                                            \r",
       "  |=======                                                               |  10%\r",
       "  |                                                                            \r",
       "  |========                                                              |  11%\r",
       "  |                                                                            \r",
       "  |========                                                              |  12%\r",
       "  |                                                                            \r",
       "  |=========                                                             |  13%\r",
       "  |                                                                            \r",
       "  |==========                                                            |  14%\r",
       "  |                                                                            \r",
       "  |==========                                                            |  15%\r",
       "  |                                                                            \r",
       "  |===========                                                           |  16%\r",
       "  |                                                                            \r",
       "  |============                                                          |  17%\r",
       "  |                                                                            \r",
       "  |=============                                                         |  18%\r",
       "  |                                                                            \r",
       "  |=============                                                         |  19%\r",
       "  |                                                                            \r",
       "  |==============                                                        |  20%\r",
       "  |                                                                            \r",
       "  |===============                                                       |  21%\r",
       "  |                                                                            \r",
       "  |===============                                                       |  22%\r",
       "  |                                                                            \r",
       "  |================                                                      |  23%\r",
       "  |                                                                            \r",
       "  |=================                                                     |  24%\r",
       "  |                                                                            \r",
       "  |==================                                                    |  25%\r",
       "  |                                                                            \r",
       "  |==================                                                    |  26%\r",
       "  |                                                                            \r",
       "  |===================                                                   |  27%\r",
       "  |                                                                            \r",
       "  |====================                                                  |  28%\r",
       "  |                                                                            \r",
       "  |====================                                                  |  29%\r",
       "  |                                                                            \r",
       "  |=====================                                                 |  30%\r",
       "  |                                                                            \r",
       "  |======================                                                |  31%\r",
       "  |                                                                            \r",
       "  |======================                                                |  32%\r",
       "  |                                                                            \r",
       "  |=======================                                               |  33%\r",
       "  |                                                                            \r",
       "  |========================                                              |  34%\r",
       "  |                                                                            \r",
       "  |========================                                              |  35%\r",
       "  |                                                                            \r",
       "  |=========================                                             |  36%\r",
       "  |                                                                            \r",
       "  |==========================                                            |  37%\r",
       "  |                                                                            \r",
       "  |===========================                                           |  38%\r",
       "  |                                                                            \r",
       "  |===========================                                           |  39%\r",
       "  |                                                                            \r",
       "  |============================                                          |  40%\r",
       "  |                                                                            \r",
       "  |=============================                                         |  41%\r",
       "  |                                                                            \r",
       "  |=============================                                         |  42%\r",
       "  |                                                                            \r",
       "  |==============================                                        |  43%\r",
       "  |                                                                            \r",
       "  |===============================                                       |  44%\r",
       "  |                                                                            \r",
       "  |================================                                      |  45%\r",
       "  |                                                                            \r",
       "  |================================                                      |  46%\r",
       "  |                                                                            \r",
       "  |=================================                                     |  47%\r",
       "  |                                                                            \r",
       "  |==================================                                    |  48%\r",
       "  |                                                                            \r",
       "  |==================================                                    |  49%\r",
       "  |                                                                            \r",
       "  |===================================                                   |  50%\r",
       "  |                                                                            \r",
       "  |====================================                                  |  51%\r",
       "  |                                                                            \r",
       "  |====================================                                  |  52%\r",
       "  |                                                                            \r",
       "  |=====================================                                 |  53%\r",
       "  |                                                                            \r",
       "  |======================================                                |  54%\r",
       "  |                                                                            \r",
       "  |======================================                                |  55%\r",
       "  |                                                                            \r",
       "  |=======================================                               |  56%\r",
       "  |                                                                            \r",
       "  |========================================                              |  57%\r",
       "  |                                                                            \r",
       "  |=========================================                             |  58%\r",
       "  |                                                                            \r",
       "  |=========================================                             |  59%\r",
       "  |                                                                            \r",
       "  |==========================================                            |  60%\r",
       "  |                                                                            \r",
       "  |===========================================                           |  61%\r",
       "  |                                                                            \r",
       "  |===========================================                           |  62%\r",
       "  |                                                                            \r",
       "  |============================================                          |  63%\r",
       "  |                                                                            \r",
       "  |=============================================                         |  64%\r",
       "  |                                                                            \r",
       "  |==============================================                        |  65%\r",
       "  |                                                                            \r",
       "  |==============================================                        |  66%\r",
       "  |                                                                            \r",
       "  |===============================================                       |  67%\r",
       "  |                                                                            \r",
       "  |================================================                      |  68%\r",
       "  |                                                                            \r",
       "  |================================================                      |  69%\r",
       "  |                                                                            \r",
       "  |=================================================                     |  70%\r",
       "  |                                                                            \r",
       "  |==================================================                    |  71%\r",
       "  |                                                                            \r",
       "  |==================================================                    |  72%\r",
       "  |                                                                            \r",
       "  |===================================================                   |  73%\r",
       "  |                                                                            \r",
       "  |====================================================                  |  74%\r",
       "  |                                                                            \r",
       "  |====================================================                  |  75%\r",
       "  |                                                                            \r",
       "  |=====================================================                 |  76%\r",
       "  |                                                                            \r",
       "  |======================================================                |  77%\r",
       "  |                                                                            \r",
       "  |=======================================================               |  78%\r",
       "  |                                                                            \r",
       "  |=======================================================               |  79%\r",
       "  |                                                                            \r",
       "  |========================================================              |  80%\r",
       "  |                                                                            \r",
       "  |=========================================================             |  81%\r",
       "  |                                                                            \r",
       "  |=========================================================             |  82%\r",
       "  |                                                                            \r",
       "  |==========================================================            |  83%\r",
       "  |                                                                            \r",
       "  |===========================================================           |  84%\r",
       "  |                                                                            \r",
       "  |============================================================          |  85%\r",
       "  |                                                                            \r",
       "  |============================================================          |  86%\r",
       "  |                                                                            \r",
       "  |=============================================================         |  87%\r",
       "  |                                                                            \r",
       "  |==============================================================        |  88%\r",
       "  |                                                                            \r",
       "  |==============================================================        |  89%\r",
       "  |                                                                            \r",
       "  |===============================================================       |  90%\r",
       "  |                                                                            \r",
       "  |================================================================      |  91%\r",
       "  |                                                                            \r",
       "  |================================================================      |  92%\r",
       "  |                                                                            \r",
       "  |=================================================================     |  93%\r",
       "  |                                                                            \r",
       "  |==================================================================    |  94%\r",
       "  |                                                                            \r",
       "  |==================================================================    |  95%\r",
       "  |                                                                            \r",
       "  |===================================================================   |  96%\r",
       "  |                                                                            \r",
       "  |====================================================================  |  97%\r",
       "  |                                                                            \r",
       "  |===================================================================== |  98%\r",
       "  |                                                                            \r",
       "  |===================================================================== |  99%\r",
       "  |                                                                            \r",
       "  |======================================================================| 100%\n",
       "Calculating bootstrap values... done.\n"
      ]
     },
     "metadata": {},
     "output_type": "display_data"
    },
    {
     "data": {
      "image/png": "[encoded data removed]"
     },
     "metadata": {},
     "output_type": "display_data"
    }
   ],
   "source": [
    "%R virusalntree <- unrootedNJtree(virusaln,type=\"protein\")"
   ]
  },
  {
   "cell_type": "code",
   "execution_count": 64,
   "metadata": {
    "collapsed": false
   },
   "outputs": [
    {
     "data": {
      "text/plain": [
       "\r",
       "  |                                                                            \r",
       "  |                                                                      |   0%\r",
       "  |                                                                            \r",
       "  |=                                                                     |   1%\r",
       "  |                                                                            \r",
       "  |=                                                                     |   2%\r",
       "  |                                                                            \r",
       "  |==                                                                    |   3%\r",
       "  |                                                                            \r",
       "  |===                                                                   |   4%\r",
       "  |                                                                            \r",
       "  |====                                                                  |   5%\r",
       "  |                                                                            \r",
       "  |====                                                                  |   6%\r",
       "  |                                                                            \r",
       "  |=====                                                                 |   7%\r",
       "  |                                                                            \r",
       "  |======                                                                |   8%\r",
       "  |                                                                            \r",
       "  |======                                                                |   9%\r",
       "  |                                                                            \r",
       "  |=======                                                               |  10%\r",
       "  |                                                                            \r",
       "  |========                                                              |  11%\r",
       "  |                                                                            \r",
       "  |========                                                              |  12%\r",
       "  |                                                                            \r",
       "  |=========                                                             |  13%\r",
       "  |                                                                            \r",
       "  |==========                                                            |  14%\r",
       "  |                                                                            \r",
       "  |==========                                                            |  15%\r",
       "  |                                                                            \r",
       "  |===========                                                           |  16%\r",
       "  |                                                                            \r",
       "  |============                                                          |  17%\r",
       "  |                                                                            \r",
       "  |=============                                                         |  18%\r",
       "  |                                                                            \r",
       "  |=============                                                         |  19%\r",
       "  |                                                                            \r",
       "  |==============                                                        |  20%\r",
       "  |                                                                            \r",
       "  |===============                                                       |  21%\r",
       "  |                                                                            \r",
       "  |===============                                                       |  22%\r",
       "  |                                                                            \r",
       "  |================                                                      |  23%\r",
       "  |                                                                            \r",
       "  |=================                                                     |  24%\r",
       "  |                                                                            \r",
       "  |==================                                                    |  25%\r",
       "  |                                                                            \r",
       "  |==================                                                    |  26%\r",
       "  |                                                                            \r",
       "  |===================                                                   |  27%\r",
       "  |                                                                            \r",
       "  |====================                                                  |  28%\r",
       "  |                                                                            \r",
       "  |====================                                                  |  29%\r",
       "  |                                                                            \r",
       "  |=====================                                                 |  30%\r",
       "  |                                                                            \r",
       "  |======================                                                |  31%\r",
       "  |                                                                            \r",
       "  |======================                                                |  32%\r",
       "  |                                                                            \r",
       "  |=======================                                               |  33%\r",
       "  |                                                                            \r",
       "  |========================                                              |  34%\r",
       "  |                                                                            \r",
       "  |========================                                              |  35%\r",
       "  |                                                                            \r",
       "  |=========================                                             |  36%\r",
       "  |                                                                            \r",
       "  |==========================                                            |  37%\r",
       "  |                                                                            \r",
       "  |===========================                                           |  38%\r",
       "  |                                                                            \r",
       "  |===========================                                           |  39%\r",
       "  |                                                                            \r",
       "  |============================                                          |  40%\r",
       "  |                                                                            \r",
       "  |=============================                                         |  41%\r",
       "  |                                                                            \r",
       "  |=============================                                         |  42%\r",
       "  |                                                                            \r",
       "  |==============================                                        |  43%\r",
       "  |                                                                            \r",
       "  |===============================                                       |  44%\r",
       "  |                                                                            \r",
       "  |================================                                      |  45%\r",
       "  |                                                                            \r",
       "  |================================                                      |  46%\r",
       "  |                                                                            \r",
       "  |=================================                                     |  47%\r",
       "  |                                                                            \r",
       "  |==================================                                    |  48%\r",
       "  |                                                                            \r",
       "  |==================================                                    |  49%\r",
       "  |                                                                            \r",
       "  |===================================                                   |  50%\r",
       "  |                                                                            \r",
       "  |====================================                                  |  51%\r",
       "  |                                                                            \r",
       "  |====================================                                  |  52%\r",
       "  |                                                                            \r",
       "  |=====================================                                 |  53%\r",
       "  |                                                                            \r",
       "  |======================================                                |  54%\r",
       "  |                                                                            \r",
       "  |======================================                                |  55%\r",
       "  |                                                                            \r",
       "  |=======================================                               |  56%\r",
       "  |                                                                            \r",
       "  |========================================                              |  57%\r",
       "  |                                                                            \r",
       "  |=========================================                             |  58%\r",
       "  |                                                                            \r",
       "  |=========================================                             |  59%\r",
       "  |                                                                            \r",
       "  |==========================================                            |  60%\r",
       "  |                                                                            \r",
       "  |===========================================                           |  61%\r",
       "  |                                                                            \r",
       "  |===========================================                           |  62%\r",
       "  |                                                                            \r",
       "  |============================================                          |  63%\r",
       "  |                                                                            \r",
       "  |=============================================                         |  64%\r",
       "  |                                                                            \r",
       "  |==============================================                        |  65%\r",
       "  |                                                                            \r",
       "  |==============================================                        |  66%\r",
       "  |                                                                            \r",
       "  |===============================================                       |  67%\r",
       "  |                                                                            \r",
       "  |================================================                      |  68%\r",
       "  |                                                                            \r",
       "  |================================================                      |  69%\r",
       "  |                                                                            \r",
       "  |=================================================                     |  70%\r",
       "  |                                                                            \r",
       "  |==================================================                    |  71%\r",
       "  |                                                                            \r",
       "  |==================================================                    |  72%\r",
       "  |                                                                            \r",
       "  |===================================================                   |  73%\r",
       "  |                                                                            \r",
       "  |====================================================                  |  74%\r",
       "  |                                                                            \r",
       "  |====================================================                  |  75%\r",
       "  |                                                                            \r",
       "  |=====================================================                 |  76%\r",
       "  |                                                                            \r",
       "  |======================================================                |  77%\r",
       "  |                                                                            \r",
       "  |=======================================================               |  78%\r",
       "  |                                                                            \r",
       "  |=======================================================               |  79%\r",
       "  |                                                                            \r",
       "  |========================================================              |  80%\r",
       "  |                                                                            \r",
       "  |=========================================================             |  81%\r",
       "  |                                                                            \r",
       "  |=========================================================             |  82%\r",
       "  |                                                                            \r",
       "  |==========================================================            |  83%\r",
       "  |                                                                            \r",
       "  |===========================================================           |  84%\r",
       "  |                                                                            \r",
       "  |============================================================          |  85%\r",
       "  |                                                                            \r",
       "  |============================================================          |  86%\r",
       "  |                                                                            \r",
       "  |=============================================================         |  87%\r",
       "  |                                                                            \r",
       "  |==============================================================        |  88%\r",
       "  |                                                                            \r",
       "  |==============================================================        |  89%\r",
       "  |                                                                            \r",
       "  |===============================================================       |  90%\r",
       "  |                                                                            \r",
       "  |================================================================      |  91%\r",
       "  |                                                                            \r",
       "  |================================================================      |  92%\r",
       "  |                                                                            \r",
       "  |=================================================================     |  93%\r",
       "  |                                                                            \r",
       "  |==================================================================    |  94%\r",
       "  |                                                                            \r",
       "  |==================================================================    |  95%\r",
       "  |                                                                            \r",
       "  |===================================================================   |  96%\r",
       "  |                                                                            \r",
       "  |====================================================================  |  97%\r",
       "  |                                                                            \r",
       "  |===================================================================== |  98%\r",
       "  |                                                                            \r",
       "  |===================================================================== |  99%\r",
       "  |                                                                            \r",
       "  |======================================================================| 100%\n",
       "Calculating bootstrap values... done.\n"
      ]
     },
     "metadata": {},
     "output_type": "display_data"
    },
    {
     "data": {
      "image/png": "[encoded data removed]"
     },
     "metadata": {},
     "output_type": "display_data"
    }
   ],
   "source": [
    "%R cleanedvirusalntree <- unrootedNJtree(cleanedvirusaln,type=\"protein\")"
   ]
  },
  {
   "cell_type": "code",
   "execution_count": 65,
   "metadata": {
    "collapsed": false
   },
   "outputs": [
    {
     "data": {
      "text/plain": [
       "[1] \"Q10572\"\n",
       "[1] \"E3M2K8\"\n",
       "[1] \"Q8WS01\"\n",
       "[1] \"E1FUV2\"\n",
       "[1] \"A8NSK3\"\n",
       "[1] \"Q9VT99\"\n"
      ]
     },
     "metadata": {},
     "output_type": "display_data"
    }
   ],
   "source": [
    "%%R\n",
    "seqnames <- c(\"Q10572\",\"E3M2K8\",\"Q8WS01\",\"E1FUV2\",\"A8NSK3\",\"Q9VT99\")\n",
    "seqs <- list(length(seqnames))\n",
    "for (i in 1:length(seqnames)) {\n",
    "    print (seqnames[[i]])\n",
    "    s <-read.fasta(file = paste(seqnames[[i]],\".fasta\", sep=\"\"))\n",
    "    seqs[[i]] = toupper(s[[1]])\n",
    "}"
   ]
  },
  {
   "cell_type": "code",
   "execution_count": 67,
   "metadata": {
    "collapsed": false
   },
   "outputs": [],
   "source": [
    "%R write.fasta(seqs, seqnames, file=\"fox1.fasta\")"
   ]
  },
  {
   "cell_type": "code",
   "execution_count": 68,
   "metadata": {
    "collapsed": false
   },
   "outputs": [
    {
     "name": "stdout",
     "output_type": "stream",
     "text": [
      "\n",
      "\n",
      "\n",
      " CLUSTAL 2.1 Multiple Sequence Alignments\n",
      "\n",
      "\n",
      "Sequence format is Pearson\n",
      "Sequence 1: Q10572       415 aa\n",
      "Sequence 2: E3M2K8       420 aa\n",
      "Sequence 3: Q8WS01       141 aa\n",
      "Sequence 4: E1FUV2       218 aa\n",
      "Sequence 5: A8NSK3       267 aa\n",
      "Sequence 6: Q9VT99       889 aa\n",
      "Start of Pairwise alignments\n",
      "Aligning...\n",
      "\n",
      "Sequences (1:2) Aligned. Score:  89\n",
      "Sequences (1:3) Aligned. Score:  6\n",
      "Sequences (1:4) Aligned. Score:  42\n",
      "Sequences (1:5) Aligned. Score:  34\n",
      "Sequences (1:6) Aligned. Score:  30\n",
      "Sequences (2:3) Aligned. Score:  6\n",
      "Sequences (2:4) Aligned. Score:  46\n",
      "Sequences (2:5) Aligned. Score:  37\n",
      "Sequences (2:6) Aligned. Score:  30\n",
      "Sequences (3:4) Aligned. Score:  7\n",
      "Sequences (3:5) Aligned. Score:  7\n",
      "Sequences (3:6) Aligned. Score:  7\n",
      "Sequences (4:5) Aligned. Score:  94\n",
      "Sequences (4:6) Aligned. Score:  36\n",
      "Sequences (5:6) Aligned. Score:  30\n",
      "Guide tree file created:   [fox1.dnd]\n",
      "\n",
      "There are 5 groups\n",
      "Start of Multiple Alignment\n",
      "\n",
      "Aligning...\n",
      "Group 1: Sequences:   2      Score:8520\n",
      "Group 2: Sequences:   2      Score:4571\n",
      "Group 3: Sequences:   4      Score:3455\n",
      "Group 4: Sequences:   5      Score:3500\n",
      "Group 5:                     Delayed\n",
      "Alignment Score 7008\n",
      "\n",
      "PHYLIP-Alignment file created   [fox1.phy]\n",
      "\n"
     ]
    }
   ],
   "source": [
    "!clustalw2 -INFILE=fox1.fasta -ALIGN -OUTPUT=PHYLIP"
   ]
  },
  {
   "cell_type": "code",
   "execution_count": 69,
   "metadata": {
    "collapsed": true
   },
   "outputs": [],
   "source": [
    "%%R\n",
    "fox1aln  <- read.alignment(file = \"fox1.phy\", format = \"phylip\")"
   ]
  },
  {
   "cell_type": "code",
   "execution_count": 78,
   "metadata": {
    "collapsed": true
   },
   "outputs": [],
   "source": [
    "%%R\n",
    "rootedNJtree <- function(alignment, theoutgroup, type)\n",
    "  {\n",
    "     # load the ape and seqinR packages:\n",
    "     require(\"ape\")\n",
    "     require(\"seqinr\")\n",
    "     # define a function for making a tree:\n",
    "     makemytree <- function(alignmentmat, outgroup=`theoutgroup`)\n",
    "     {\n",
    "        alignment <- ape::as.alignment(alignmentmat)\n",
    "        if      (type == \"protein\")\n",
    "        {\n",
    "           mydist <- dist.alignment(alignment)\n",
    "        }\n",
    "        else if (type == \"DNA\")\n",
    "        {\n",
    "           alignmentbin <- as.DNAbin(alignment)\n",
    "           mydist <- dist.dna(alignmentbin)\n",
    "        }\n",
    "        mytree <- nj(mydist)\n",
    "        mytree <- makeLabel(mytree, space=\"\") # get rid of spaces in tip names.\n",
    "        myrootedtree <- root(mytree, outgroup, r=TRUE)\n",
    "        return(myrootedtree)\n",
    "     }\n",
    "     # infer a tree\n",
    "     mymat  <- as.matrix.alignment(alignment)\n",
    "     myrootedtree <- makemytree(mymat, outgroup=theoutgroup)\n",
    "     # bootstrap the tree\n",
    "     myboot <- boot.phylo(myrootedtree, mymat, makemytree)\n",
    "     # plot the tree:\n",
    "     plot.phylo(myrootedtree, type=\"p\")  # plot the rooted phylogenetic tree\n",
    "     nodelabels(myboot,cex=0.7)          # plot the bootstrap values\n",
    "#     mytree$node.label <- myboot   # make the bootstrap values be the node labels\n",
    "     return(myrootedtree)\n",
    "  }"
   ]
  },
  {
   "cell_type": "code",
   "execution_count": 79,
   "metadata": {
    "collapsed": false
   },
   "outputs": [
    {
     "data": {
      "text/plain": [
       "\r",
       "  |                                                                            \r",
       "  |                                                                      |   0%\r",
       "  |                                                                            \r",
       "  |=                                                                     |   1%\r",
       "  |                                                                            \r",
       "  |=                                                                     |   2%\r",
       "  |                                                                            \r",
       "  |==                                                                    |   3%\r",
       "  |                                                                            \r",
       "  |===                                                                   |   4%\r",
       "  |                                                                            \r",
       "  |====                                                                  |   5%\r",
       "  |                                                                            \r",
       "  |====                                                                  |   6%\r",
       "  |                                                                            \r",
       "  |=====                                                                 |   7%\r",
       "  |                                                                            \r",
       "  |======                                                                |   8%\r",
       "  |                                                                            \r",
       "  |======                                                                |   9%\r",
       "  |                                                                            \r",
       "  |=======                                                               |  10%\r",
       "  |                                                                            \r",
       "  |========                                                              |  11%\r",
       "  |                                                                            \r",
       "  |========                                                              |  12%\r",
       "  |                                                                            \r",
       "  |=========                                                             |  13%\r",
       "  |                                                                            \r",
       "  |==========                                                            |  14%\r",
       "  |                                                                            \r",
       "  |==========                                                            |  15%\r",
       "  |                                                                            \r",
       "  |===========                                                           |  16%\r",
       "  |                                                                            \r",
       "  |============                                                          |  17%\r",
       "  |                                                                            \r",
       "  |=============                                                         |  18%\r",
       "  |                                                                            \r",
       "  |=============                                                         |  19%\r",
       "  |                                                                            \r",
       "  |==============                                                        |  20%\r",
       "  |                                                                            \r",
       "  |===============                                                       |  21%\r",
       "  |                                                                            \r",
       "  |===============                                                       |  22%\r",
       "  |                                                                            \r",
       "  |================                                                      |  23%\r",
       "  |                                                                            \r",
       "  |=================                                                     |  24%\r",
       "  |                                                                            \r",
       "  |==================                                                    |  25%\r",
       "  |                                                                            \r",
       "  |==================                                                    |  26%\r",
       "  |                                                                            \r",
       "  |===================                                                   |  27%\r",
       "  |                                                                            \r",
       "  |====================                                                  |  28%\r",
       "  |                                                                            \r",
       "  |====================                                                  |  29%\r",
       "  |                                                                            \r",
       "  |=====================                                                 |  30%\r",
       "  |                                                                            \r",
       "  |======================                                                |  31%\r",
       "  |                                                                            \r",
       "  |======================                                                |  32%\r",
       "  |                                                                            \r",
       "  |=======================                                               |  33%\r",
       "  |                                                                            \r",
       "  |========================                                              |  34%\r",
       "  |                                                                            \r",
       "  |========================                                              |  35%\r",
       "  |                                                                            \r",
       "  |=========================                                             |  36%\r",
       "  |                                                                            \r",
       "  |==========================                                            |  37%\r",
       "  |                                                                            \r",
       "  |===========================                                           |  38%\r",
       "  |                                                                            \r",
       "  |===========================                                           |  39%\r",
       "  |                                                                            \r",
       "  |============================                                          |  40%\r",
       "  |                                                                            \r",
       "  |=============================                                         |  41%\r",
       "  |                                                                            \r",
       "  |=============================                                         |  42%\r",
       "  |                                                                            \r",
       "  |==============================                                        |  43%\r",
       "  |                                                                            \r",
       "  |===============================                                       |  44%\r",
       "  |                                                                            \r",
       "  |================================                                      |  45%\r",
       "  |                                                                            \r",
       "  |================================                                      |  46%\r",
       "  |                                                                            \r",
       "  |=================================                                     |  47%\r",
       "  |                                                                            \r",
       "  |==================================                                    |  48%\r",
       "  |                                                                            \r",
       "  |==================================                                    |  49%\r",
       "  |                                                                            \r",
       "  |===================================                                   |  50%\r",
       "  |                                                                            \r",
       "  |====================================                                  |  51%\r",
       "  |                                                                            \r",
       "  |====================================                                  |  52%\r",
       "  |                                                                            \r",
       "  |=====================================                                 |  53%\r",
       "  |                                                                            \r",
       "  |======================================                                |  54%\r",
       "  |                                                                            \r",
       "  |======================================                                |  55%\r",
       "  |                                                                            \r",
       "  |=======================================                               |  56%\r",
       "  |                                                                            \r",
       "  |========================================                              |  57%\r",
       "  |                                                                            \r",
       "  |=========================================                             |  58%\r",
       "  |                                                                            \r",
       "  |=========================================                             |  59%\r",
       "  |                                                                            \r",
       "  |==========================================                            |  60%\r",
       "  |                                                                            \r",
       "  |===========================================                           |  61%\r",
       "  |                                                                            \r",
       "  |===========================================                           |  62%\r",
       "  |                                                                            \r",
       "  |============================================                          |  63%\r",
       "  |                                                                            \r",
       "  |=============================================                         |  64%\r",
       "  |                                                                            \r",
       "  |==============================================                        |  65%\r",
       "  |                                                                            \r",
       "  |==============================================                        |  66%\r",
       "  |                                                                            \r",
       "  |===============================================                       |  67%\r",
       "  |                                                                            \r",
       "  |================================================                      |  68%\r",
       "  |                                                                            \r",
       "  |================================================                      |  69%\r",
       "  |                                                                            \r",
       "  |=================================================                     |  70%\r",
       "  |                                                                            \r",
       "  |==================================================                    |  71%\r",
       "  |                                                                            \r",
       "  |==================================================                    |  72%\r",
       "  |                                                                            \r",
       "  |===================================================                   |  73%\r",
       "  |                                                                            \r",
       "  |====================================================                  |  74%\r",
       "  |                                                                            \r",
       "  |====================================================                  |  75%\r",
       "  |                                                                            \r",
       "  |=====================================================                 |  76%\r",
       "  |                                                                            \r",
       "  |======================================================                |  77%\r",
       "  |                                                                            \r",
       "  |=======================================================               |  78%\r",
       "  |                                                                            \r",
       "  |=======================================================               |  79%\r",
       "  |                                                                            \r",
       "  |========================================================              |  80%\r",
       "  |                                                                            \r",
       "  |=========================================================             |  81%\r",
       "  |                                                                            \r",
       "  |=========================================================             |  82%\r",
       "  |                                                                            \r",
       "  |==========================================================            |  83%\r",
       "  |                                                                            \r",
       "  |===========================================================           |  84%\r",
       "  |                                                                            \r",
       "  |============================================================          |  85%\r",
       "  |                                                                            \r",
       "  |============================================================          |  86%\r",
       "  |                                                                            \r",
       "  |=============================================================         |  87%\r",
       "  |                                                                            \r",
       "  |==============================================================        |  88%\r",
       "  |                                                                            \r",
       "  |==============================================================        |  89%\r",
       "  |                                                                            \r",
       "  |===============================================================       |  90%\r",
       "  |                                                                            \r",
       "  |================================================================      |  91%\r",
       "  |                                                                            \r",
       "  |================================================================      |  92%\r",
       "  |                                                                            \r",
       "  |=================================================================     |  93%\r",
       "  |                                                                            \r",
       "  |==================================================================    |  94%\r",
       "  |                                                                            \r",
       "  |==================================================================    |  95%\r",
       "  |                                                                            \r",
       "  |===================================================================   |  96%\r",
       "  |                                                                            \r",
       "  |====================================================================  |  97%\r",
       "  |                                                                            \r",
       "  |===================================================================== |  98%\r",
       "  |                                                                            \r",
       "  |===================================================================== |  99%\r",
       "  |                                                                            \r",
       "  |======================================================================| 100%\n",
       "Calculating bootstrap values... done.\n"
      ]
     },
     "metadata": {},
     "output_type": "display_data"
    },
    {
     "data": {
      "image/png": "[encoded data removed]"
     },
     "metadata": {},
     "output_type": "display_data"
    }
   ],
   "source": [
    "%%R\n",
    "fox1alntree <- rootedNJtree(fox1aln, \"Q9VT99\",type=\"protein\")"
   ]
  },
  {
   "cell_type": "code",
   "execution_count": 80,
   "metadata": {
    "collapsed": false
   },
   "outputs": [
    {
     "data": {
      "text/plain": [
       "\r",
       "  |                                                                            \r",
       "  |                                                                      |   0%\r",
       "  |                                                                            \r",
       "  |=                                                                     |   1%\r",
       "  |                                                                            \r",
       "  |=                                                                     |   2%\r",
       "  |                                                                            \r",
       "  |==                                                                    |   3%\r",
       "  |                                                                            \r",
       "  |===                                                                   |   4%\r",
       "  |                                                                            \r",
       "  |====                                                                  |   5%\r",
       "  |                                                                            \r",
       "  |====                                                                  |   6%\r",
       "  |                                                                            \r",
       "  |=====                                                                 |   7%\r",
       "  |                                                                            \r",
       "  |======                                                                |   8%\r",
       "  |                                                                            \r",
       "  |======                                                                |   9%\r",
       "  |                                                                            \r",
       "  |=======                                                               |  10%\r",
       "  |                                                                            \r",
       "  |========                                                              |  11%\r",
       "  |                                                                            \r",
       "  |========                                                              |  12%\r",
       "  |                                                                            \r",
       "  |=========                                                             |  13%\r",
       "  |                                                                            \r",
       "  |==========                                                            |  14%\r",
       "  |                                                                            \r",
       "  |==========                                                            |  15%\r",
       "  |                                                                            \r",
       "  |===========                                                           |  16%\r",
       "  |                                                                            \r",
       "  |============                                                          |  17%\r",
       "  |                                                                            \r",
       "  |=============                                                         |  18%\r",
       "  |                                                                            \r",
       "  |=============                                                         |  19%\r",
       "  |                                                                            \r",
       "  |==============                                                        |  20%\r",
       "  |                                                                            \r",
       "  |===============                                                       |  21%\r",
       "  |                                                                            \r",
       "  |===============                                                       |  22%\r",
       "  |                                                                            \r",
       "  |================                                                      |  23%\r",
       "  |                                                                            \r",
       "  |=================                                                     |  24%\r",
       "  |                                                                            \r",
       "  |==================                                                    |  25%\r",
       "  |                                                                            \r",
       "  |==================                                                    |  26%\r",
       "  |                                                                            \r",
       "  |===================                                                   |  27%\r",
       "  |                                                                            \r",
       "  |====================                                                  |  28%\r",
       "  |                                                                            \r",
       "  |====================                                                  |  29%\r",
       "  |                                                                            \r",
       "  |=====================                                                 |  30%\r",
       "  |                                                                            \r",
       "  |======================                                                |  31%\r",
       "  |                                                                            \r",
       "  |======================                                                |  32%\r",
       "  |                                                                            \r",
       "  |=======================                                               |  33%\r",
       "  |                                                                            \r",
       "  |========================                                              |  34%\r",
       "  |                                                                            \r",
       "  |========================                                              |  35%\r",
       "  |                                                                            \r",
       "  |=========================                                             |  36%\r",
       "  |                                                                            \r",
       "  |==========================                                            |  37%\r",
       "  |                                                                            \r",
       "  |===========================                                           |  38%\r",
       "  |                                                                            \r",
       "  |===========================                                           |  39%\r",
       "  |                                                                            \r",
       "  |============================                                          |  40%\r",
       "  |                                                                            \r",
       "  |=============================                                         |  41%\r",
       "  |                                                                            \r",
       "  |=============================                                         |  42%\r",
       "  |                                                                            \r",
       "  |==============================                                        |  43%\r",
       "  |                                                                            \r",
       "  |===============================                                       |  44%\r",
       "  |                                                                            \r",
       "  |================================                                      |  45%\r",
       "  |                                                                            \r",
       "  |================================                                      |  46%\r",
       "  |                                                                            \r",
       "  |=================================                                     |  47%\r",
       "  |                                                                            \r",
       "  |==================================                                    |  48%\r",
       "  |                                                                            \r",
       "  |==================================                                    |  49%\r",
       "  |                                                                            \r",
       "  |===================================                                   |  50%\r",
       "  |                                                                            \r",
       "  |====================================                                  |  51%\r",
       "  |                                                                            \r",
       "  |====================================                                  |  52%\r",
       "  |                                                                            \r",
       "  |=====================================                                 |  53%\r",
       "  |                                                                            \r",
       "  |======================================                                |  54%\r",
       "  |                                                                            \r",
       "  |======================================                                |  55%\r",
       "  |                                                                            \r",
       "  |=======================================                               |  56%\r",
       "  |                                                                            \r",
       "  |========================================                              |  57%\r",
       "  |                                                                            \r",
       "  |=========================================                             |  58%\r",
       "  |                                                                            \r",
       "  |=========================================                             |  59%\r",
       "  |                                                                            \r",
       "  |==========================================                            |  60%\r",
       "  |                                                                            \r",
       "  |===========================================                           |  61%\r",
       "  |                                                                            \r",
       "  |===========================================                           |  62%\r",
       "  |                                                                            \r",
       "  |============================================                          |  63%\r",
       "  |                                                                            \r",
       "  |=============================================                         |  64%\r",
       "  |                                                                            \r",
       "  |==============================================                        |  65%\r",
       "  |                                                                            \r",
       "  |==============================================                        |  66%\r",
       "  |                                                                            \r",
       "  |===============================================                       |  67%\r",
       "  |                                                                            \r",
       "  |================================================                      |  68%\r",
       "  |                                                                            \r",
       "  |================================================                      |  69%\r",
       "  |                                                                            \r",
       "  |=================================================                     |  70%\r",
       "  |                                                                            \r",
       "  |==================================================                    |  71%\r",
       "  |                                                                            \r",
       "  |==================================================                    |  72%\r",
       "  |                                                                            \r",
       "  |===================================================                   |  73%\r",
       "  |                                                                            \r",
       "  |====================================================                  |  74%\r",
       "  |                                                                            \r",
       "  |====================================================                  |  75%\r",
       "  |                                                                            \r",
       "  |=====================================================                 |  76%\r",
       "  |                                                                            \r",
       "  |======================================================                |  77%\r",
       "  |                                                                            \r",
       "  |=======================================================               |  78%\r",
       "  |                                                                            \r",
       "  |=======================================================               |  79%\r",
       "  |                                                                            \r",
       "  |========================================================              |  80%\r",
       "  |                                                                            \r",
       "  |=========================================================             |  81%\r",
       "  |                                                                            \r",
       "  |=========================================================             |  82%\r",
       "  |                                                                            \r",
       "  |==========================================================            |  83%\r",
       "  |                                                                            \r",
       "  |===========================================================           |  84%\r",
       "  |                                                                            \r",
       "  |============================================================          |  85%\r",
       "  |                                                                            \r",
       "  |============================================================          |  86%\r",
       "  |                                                                            \r",
       "  |=============================================================         |  87%\r",
       "  |                                                                            \r",
       "  |==============================================================        |  88%\r",
       "  |                                                                            \r",
       "  |==============================================================        |  89%\r",
       "  |                                                                            \r",
       "  |===============================================================       |  90%\r",
       "  |                                                                            \r",
       "  |================================================================      |  91%\r",
       "  |                                                                            \r",
       "  |================================================================      |  92%\r",
       "  |                                                                            \r",
       "  |=================================================================     |  93%\r",
       "  |                                                                            \r",
       "  |==================================================================    |  94%\r",
       "  |                                                                            \r",
       "  |==================================================================    |  95%\r",
       "  |                                                                            \r",
       "  |===================================================================   |  96%\r",
       "  |                                                                            \r",
       "  |====================================================================  |  97%\r",
       "  |                                                                            \r",
       "  |===================================================================== |  98%\r",
       "  |                                                                            \r",
       "  |===================================================================== |  99%\r",
       "  |                                                                            \r",
       "  |======================================================================| 100%\n",
       "Calculating bootstrap values... done.\n"
      ]
     },
     "metadata": {},
     "output_type": "display_data"
    },
    {
     "data": {
      "image/png": "[encoded data removed]"
     },
     "metadata": {},
     "output_type": "display_data"
    }
   ],
   "source": [
    "%%R\n",
    "virusmRNAaln  <- read.alignment(file = \"virusmRNA.phy\", format = \"phylip\")\n",
    "virusmRNAalntree <- unrootedNJtree(virusmRNAaln, type=\"DNA\")"
   ]
  },
  {
   "cell_type": "code",
   "execution_count": 81,
   "metadata": {
    "collapsed": true
   },
   "outputs": [],
   "source": [
    "%R write.tree(virusmRNAalntree, \"virusmRNA.tre\")\n"
   ]
  },
  {
   "cell_type": "code",
   "execution_count": 82,
   "metadata": {
    "collapsed": false
   },
   "outputs": [
    {
     "name": "stdout",
     "output_type": "stream",
     "text": [
      "A0PQ23.fasta\t\t\t\t       my5sequences.dnd\r\n",
      "A8NSK3.fasta\t\t\t\t       my5sequences.ext\r\n",
      "aa.aln\t\t\t\t\t       my5sequences.phy\r\n",
      "aa.dnd\t\t\t\t\t       O56773.fasta\r\n",
      "aa.ext\t\t\t\t\t       P06747.aln\r\n",
      "aa.phy\t\t\t\t\t       P06747.fasta\r\n",
      "AF049114.fasta\t\t\t\t       P0C569.aln\r\n",
      "AF049115.fasta\t\t\t\t       P0C569.fasta\r\n",
      "AF049118.fasta\t\t\t\t       Q10572.fasta\r\n",
      "AF049119.fasta\t\t\t\t       Q10572.fasta.1\r\n",
      "ape_3.3.tar.gz\t\t\t\t       Q5VKP1.fasta\r\n",
      "clustalw2\t\t\t\t       Q8WS01.fasta\r\n",
      "clustalw-2.1-linux-x86_64-libcppstatic.tar.gz  Q9CD83.fasta\r\n",
      "dengue_NC_001477.fasta\t\t\t       Q9VT99.fasta\r\n",
      "dot-ipython\t\t\t\t       README.txt\r\n",
      "E1FUV2.fasta\t\t\t\t       tmp\r\n",
      "E3M2K8.fasta\t\t\t\t       ucaldas.20152.msc\r\n",
      "expm\t\t\t\t\t       Untitled1.ipynb\r\n",
      "expm_0.99-1.1.tar.gz\t\t\t       Untitled2.ipynb\r\n",
      "fox1.dnd\t\t\t\t       Untitled3.ipynb\r\n",
      "fox1.fasta\t\t\t\t       Untitled.ipynb\r\n",
      "fox1.phy\t\t\t\t       virusmRNA.dnd\r\n",
      "gee_4.13-19.tar.gz\t\t\t       virusmRNA.fasta\r\n",
      "ls_orchid.fasta\t\t\t\t       virusmRNA.phy\r\n",
      "ls_orchid.fasta.1\t\t\t       virusmRNA.tre\r\n",
      "ls_orchid.gbk\r\n"
     ]
    }
   ],
   "source": [
    "!ls"
   ]
  },
  {
   "cell_type": "code",
   "execution_count": 85,
   "metadata": {
    "collapsed": false
   },
   "outputs": [
    {
     "name": "stdout",
     "output_type": "stream",
     "text": [
      "(AF049115:0.4536315847,AF049118:0.3119706734,(AF049114:0.1600362146,AF049119:0.1800213995)96:0.06166160344)100;\r\n"
     ]
    }
   ],
   "source": [
    "!cat virusmRNA.tre"
   ]
  },
  {
   "cell_type": "markdown",
   "metadata": {},
   "source": [
    "# Computational gene finding"
   ]
  },
  {
   "cell_type": "code",
   "execution_count": 86,
   "metadata": {
    "collapsed": false
   },
   "outputs": [
    {
     "data": {
      "image/png": "[encoded data removed]"
     },
     "metadata": {},
     "output_type": "display_data"
    }
   ],
   "source": [
    "%%R\n",
    "library(seqinr)\n",
    "tablecode()"
   ]
  },
  {
   "cell_type": "code",
   "execution_count": 87,
   "metadata": {
    "collapsed": false
   },
   "outputs": [
    {
     "data": {
      "text/plain": [
       "  Views on a 21-letter BString subject\n",
       "subject: aaaatgcagtaacccatgccc\n",
       "views:\n",
       "    start end width\n",
       "[1]     4   6     3 [atg]\n",
       "[2]    16  18     3 [atg]\n"
      ]
     },
     "metadata": {},
     "output_type": "display_data"
    }
   ],
   "source": [
    "%%R\n",
    "library(\"Biostrings\")\n",
    "s1 <- \"aaaatgcagtaacccatgccc\"\n",
    "matchPattern(\"atg\", s1) # Find all ATGs in the sequence s1"
   ]
  },
  {
   "cell_type": "code",
   "execution_count": 180,
   "metadata": {
    "collapsed": true
   },
   "outputs": [],
   "source": [
    "%%R\n",
    "findPotentialStartsAndStops <- function(sequence)\n",
    "  {\n",
    "     # Define a vector with the sequences of potential start and stop codons\n",
    "     codons            <- c(\"atg\", \"taa\", \"tag\", \"tga\")\n",
    "     # Find the number of occurrences of each type of potential start or stop codon\n",
    "     for (i in 1:4)\n",
    "     {\n",
    "        codon <- codons[i]\n",
    "        # Find all occurrences of codon \"codon\" in sequence \"sequence\"\n",
    "        occurrences <- matchPattern(codon, sequence)\n",
    "        # Find the start positions of all occurrences of \"codon\" in sequence \"sequence\"\n",
    "        codonpositions <- attr(attr(occurrences, \"ranges\"),\"start\")\n",
    "        # Find the total number of potential start and stop codons in sequence \"sequence\"\n",
    "        numoccurrences <- length(codonpositions)\n",
    "        if (i == 1)\n",
    "        {\n",
    "           # Make a copy of vector \"codonpositions\" called \"positions\"\n",
    "           positions <- codonpositions\n",
    "           # Make a vector \"types\" containing \"numoccurrences\" copies of \"codon\"\n",
    "           types <- rep(codon, numoccurrences)\n",
    "        }\n",
    "        else\n",
    "        {\n",
    "           # Add the vector \"codonpositions\" to the end of vector \"positions\":\n",
    "           positions   <- append(positions, codonpositions, after=length(positions))\n",
    "           # Add the vector \"rep(codon, numoccurrences)\" to the end of vector \"types\":\n",
    "           types       <- append(types, rep(codon, numoccurrences), after=length(types))\n",
    "        }\n",
    "     }\n",
    "     # Sort the vectors \"positions\" and \"types\" in order of position along the input sequence:\n",
    "     indices <- order(positions)\n",
    "     positions <- positions[indices]\n",
    "     types <- types[indices]\n",
    "     # Return a list variable including vectors \"positions\" and \"types\":\n",
    "     mylist <- list(positions,types)\n",
    "     return(mylist)\n",
    "  }"
   ]
  },
  {
   "cell_type": "code",
   "execution_count": 181,
   "metadata": {
    "collapsed": false
   },
   "outputs": [
    {
     "data": {
      "text/plain": [
       "[[1]]\n",
       "[1]  4 10 16\n",
       "\n",
       "[[2]]\n",
       "[1] \"atg\" \"taa\" \"atg\"\n",
       "\n"
      ]
     },
     "metadata": {},
     "output_type": "display_data"
    }
   ],
   "source": [
    "%%R\n",
    "s1 <- \"aaaatgcagtaacccatgccc\"\n",
    "findPotentialStartsAndStops(s1)"
   ]
  },
  {
   "cell_type": "code",
   "execution_count": 151,
   "metadata": {
    "collapsed": false
   },
   "outputs": [
    {
     "data": {
      "text/plain": [
       "  Views on a 21-letter BString subject\n",
       "subject: aaaatgcagtaacccatgccc\n",
       "views:\n",
       "    start end width\n",
       "[1]     4   6     3 [atg]\n",
       "[2]    16  18     3 [atg]\n",
       "NULL\n",
       "  Views on a 21-letter BString subject\n",
       "subject: aaaatgcagtaacccatgccc\n",
       "views:\n",
       "    start end width\n",
       "[1]     4   6     3 [atg]\n",
       "[2]    16  18     3 [atg]\n"
      ]
     },
     "metadata": {},
     "output_type": "display_data"
    }
   ],
   "source": [
    "%%R \n",
    "codons            <- c(\"atg\", \"taa\", \"tag\", \"tga\")\n",
    "for (i in 1:1){\n",
    "    r <- matchPattern(codons[i], s1)  \n",
    "    rp <- attr(r,\"start\")\n",
    "\n",
    "    print (r)\n",
    "    print (rp)\n",
    "}\n",
    "r"
   ]
  },
  {
   "cell_type": "code",
   "execution_count": 175,
   "metadata": {
    "collapsed": false
   },
   "outputs": [
    {
     "data": {
      "text/plain": [
       "[1]  4 16\n"
      ]
     },
     "metadata": {},
     "output_type": "display_data"
    }
   ],
   "source": [
    "%%R\n",
    "\n",
    "attr(attr(r, \"ranges\"), \"start\")\n"
   ]
  },
  {
   "cell_type": "code",
   "execution_count": 183,
   "metadata": {
    "collapsed": false
   },
   "outputs": [
    {
     "data": {
      "text/plain": [
       "[1] 500\n"
      ]
     },
     "metadata": {},
     "output_type": "display_data"
    }
   ],
   "source": [
    "%%R \n",
    "dengue <- read.fasta(file = \"dengue_NC_001477.fasta\")\n",
    "dengueseq <- dengue[[1]]\n",
    "dengueseqstart <- dengueseq[1:500] # Take the first 500 nucleotides of the DEN-1 Dengue sequence\n",
    "length(dengueseqstart)   \n"
   ]
  },
  {
   "cell_type": "code",
   "execution_count": 186,
   "metadata": {
    "collapsed": false
   },
   "outputs": [
    {
     "data": {
      "text/plain": [
       "  [1] \"a\" \"g\" \"t\" \"t\" \"g\" \"t\" \"t\" \"a\" \"g\" \"t\" \"c\" \"t\" \"a\" \"c\" \"g\" \"t\" \"g\" \"g\"\n",
       " [19] \"a\" \"c\" \"c\" \"g\" \"a\" \"c\" \"a\" \"a\" \"g\" \"a\" \"a\" \"c\" \"a\" \"g\" \"t\" \"t\" \"t\" \"c\"\n",
       " [37] \"g\" \"a\" \"a\" \"t\" \"c\" \"g\" \"g\" \"a\" \"a\" \"g\" \"c\" \"t\" \"t\" \"g\" \"c\" \"t\" \"t\" \"a\"\n",
       " [55] \"a\" \"c\" \"g\" \"t\" \"a\" \"g\" \"t\" \"t\" \"c\" \"t\" \"a\" \"a\" \"c\" \"a\" \"g\" \"t\" \"t\" \"t\"\n",
       " [73] \"t\" \"t\" \"t\" \"a\" \"t\" \"t\" \"a\" \"g\" \"a\" \"g\" \"a\" \"g\" \"c\" \"a\" \"g\" \"a\" \"t\" \"c\"\n",
       " [91] \"t\" \"c\" \"t\" \"g\" \"a\" \"t\" \"g\" \"a\" \"a\" \"c\" \"a\" \"a\" \"c\" \"c\" \"a\" \"a\" \"c\" \"g\"\n",
       "[109] \"g\" \"a\" \"a\" \"a\" \"a\" \"a\" \"g\" \"a\" \"c\" \"g\" \"g\" \"g\" \"t\" \"c\" \"g\" \"a\" \"c\" \"c\"\n",
       "[127] \"g\" \"t\" \"c\" \"t\" \"t\" \"t\" \"c\" \"a\" \"a\" \"t\" \"a\" \"t\" \"g\" \"c\" \"t\" \"g\" \"a\" \"a\"\n",
       "[145] \"a\" \"c\" \"g\" \"c\" \"g\" \"c\" \"g\" \"a\" \"g\" \"a\" \"a\" \"a\" \"c\" \"c\" \"g\" \"c\" \"g\" \"t\"\n",
       "[163] \"g\" \"t\" \"c\" \"a\" \"a\" \"c\" \"t\" \"g\" \"t\" \"t\" \"t\" \"c\" \"a\" \"c\" \"a\" \"g\" \"t\" \"t\"\n",
       "[181] \"g\" \"g\" \"c\" \"g\" \"a\" \"a\" \"g\" \"a\" \"g\" \"a\" \"t\" \"t\" \"c\" \"t\" \"c\" \"a\" \"a\" \"a\"\n",
       "[199] \"a\" \"g\" \"g\" \"a\" \"t\" \"t\" \"g\" \"c\" \"t\" \"t\" \"t\" \"c\" \"a\" \"g\" \"g\" \"c\" \"c\" \"a\"\n",
       "[217] \"a\" \"g\" \"g\" \"a\" \"c\" \"c\" \"c\" \"a\" \"t\" \"g\" \"a\" \"a\" \"a\" \"t\" \"t\" \"g\" \"g\" \"t\"\n",
       "[235] \"g\" \"a\" \"t\" \"g\" \"g\" \"c\" \"t\" \"t\" \"t\" \"t\" \"a\" \"t\" \"a\" \"g\" \"c\" \"a\" \"t\" \"t\"\n",
       "[253] \"c\" \"c\" \"t\" \"a\" \"a\" \"g\" \"a\" \"t\" \"t\" \"t\" \"c\" \"t\" \"a\" \"g\" \"c\" \"c\" \"a\" \"t\"\n",
       "[271] \"a\" \"c\" \"c\" \"t\" \"c\" \"c\" \"a\" \"a\" \"c\" \"a\" \"g\" \"c\" \"a\" \"g\" \"g\" \"a\" \"a\" \"t\"\n",
       "[289] \"t\" \"t\" \"t\" \"g\" \"g\" \"c\" \"t\" \"a\" \"g\" \"a\" \"t\" \"g\" \"g\" \"g\" \"g\" \"c\" \"t\" \"c\"\n",
       "[307] \"a\" \"t\" \"t\" \"c\" \"a\" \"a\" \"g\" \"a\" \"a\" \"g\" \"a\" \"a\" \"t\" \"g\" \"g\" \"a\" \"g\" \"c\"\n",
       "[325] \"g\" \"a\" \"t\" \"c\" \"a\" \"a\" \"a\" \"g\" \"t\" \"g\" \"t\" \"t\" \"a\" \"c\" \"g\" \"g\" \"g\" \"g\"\n",
       "[343] \"t\" \"t\" \"t\" \"c\" \"a\" \"a\" \"g\" \"a\" \"a\" \"a\" \"g\" \"a\" \"a\" \"a\" \"t\" \"c\" \"t\" \"c\"\n",
       "[361] \"a\" \"a\" \"a\" \"c\" \"a\" \"t\" \"g\" \"t\" \"t\" \"g\" \"a\" \"a\" \"c\" \"a\" \"t\" \"a\" \"a\" \"t\"\n",
       "[379] \"g\" \"a\" \"a\" \"c\" \"a\" \"g\" \"g\" \"a\" \"g\" \"g\" \"a\" \"a\" \"a\" \"a\" \"g\" \"a\" \"t\" \"c\"\n",
       "[397] \"t\" \"g\" \"t\" \"g\" \"a\" \"c\" \"c\" \"a\" \"t\" \"g\" \"c\" \"t\" \"c\" \"c\" \"t\" \"c\" \"a\" \"t\"\n",
       "[415] \"g\" \"c\" \"t\" \"g\" \"c\" \"t\" \"g\" \"c\" \"c\" \"c\" \"a\" \"c\" \"a\" \"g\" \"c\" \"c\" \"c\" \"t\"\n",
       "[433] \"g\" \"g\" \"c\" \"g\" \"t\" \"t\" \"c\" \"c\" \"a\" \"t\" \"c\" \"t\" \"g\" \"a\" \"c\" \"c\" \"a\" \"c\"\n",
       "[451] \"c\" \"c\" \"g\" \"a\" \"g\" \"g\" \"g\" \"g\" \"g\" \"a\" \"g\" \"a\" \"g\" \"c\" \"c\" \"g\" \"c\" \"a\"\n",
       "[469] \"c\" \"a\" \"t\" \"g\" \"a\" \"t\" \"a\" \"g\" \"t\" \"t\" \"a\" \"g\" \"c\" \"a\" \"a\" \"g\" \"c\" \"a\"\n",
       "[487] \"g\" \"g\" \"a\" \"a\" \"a\" \"g\" \"a\" \"g\" \"g\" \"a\" \"a\" \"a\" \"a\" \"t\"\n"
      ]
     },
     "metadata": {},
     "output_type": "display_data"
    }
   ],
   "source": [
    "%%R\n",
    "dengueseqstart"
   ]
  },
  {
   "cell_type": "code",
   "execution_count": 187,
   "metadata": {
    "collapsed": false
   },
   "outputs": [
    {
     "data": {
      "text/plain": [
       "[1] \"agttgttagtctacgtggaccgacaagaacagtttcgaatcggaagcttgcttaacgtagttctaacagttttttattagagagcagatctctgatgaacaaccaacggaaaaagacgggtcgaccgtctttcaatatgctgaaacgcgcgagaaaccgcgtgtcaactgtttcacagttggcgaagagattctcaaaaggattgctttcaggccaaggacccatgaaattggtgatggcttttatagcattcctaagatttctagccatacctccaacagcaggaattttggctagatggggctcattcaagaagaatggagcgatcaaagtgttacggggtttcaagaaagaaatctcaaacatgttgaacataatgaacaggaggaaaagatctgtgaccatgctcctcatgctgctgcccacagccctggcgttccatctgaccacccgagggggagagccgcacatgatagttagcaagcaggaaagaggaaaat\"\n"
      ]
     },
     "metadata": {},
     "output_type": "display_data"
    }
   ],
   "source": [
    "%%R\n",
    "dengueseqstartstring <- c2s(dengueseqstart) # Convert the vector \"dengueseqstart\" to a string of characters\n",
    "dengueseqstartstring                        # Print out the variable string of characters \"dengueseqstartstring\""
   ]
  },
  {
   "cell_type": "code",
   "execution_count": 189,
   "metadata": {
    "collapsed": false
   },
   "outputs": [
    {
     "data": {
      "text/plain": [
       "[[1]]\n",
       " [1]   7  53  58  64  78  93  95  96 137 141 224 225 234 236 246 255 264 295 298\n",
       "[20] 318 365 369 375 377 378 399 404 413 444 470 471 474 478\n",
       "\n",
       "[[2]]\n",
       " [1] \"tag\" \"taa\" \"tag\" \"taa\" \"tag\" \"tga\" \"atg\" \"tga\" \"atg\" \"tga\" \"atg\" \"tga\"\n",
       "[13] \"tga\" \"atg\" \"tag\" \"taa\" \"tag\" \"tag\" \"atg\" \"atg\" \"atg\" \"tga\" \"taa\" \"atg\"\n",
       "[25] \"tga\" \"tga\" \"atg\" \"atg\" \"tga\" \"atg\" \"tga\" \"tag\" \"tag\"\n",
       "\n"
      ]
     },
     "metadata": {},
     "output_type": "display_data"
    }
   ],
   "source": [
    "%%R\n",
    "findPotentialStartsAndStops(dengueseqstartstring)"
   ]
  },
  {
   "cell_type": "code",
   "execution_count": 191,
   "metadata": {
    "collapsed": false
   },
   "outputs": [
    {
     "data": {
      "text/plain": [
       "array(['atgctga'], \n",
       "      dtype='|S7')"
      ]
     },
     "execution_count": 191,
     "metadata": {},
     "output_type": "execute_result"
    }
   ],
   "source": [
    "%R substring(dengueseqstartstring,137,143)\n"
   ]
  },
  {
   "cell_type": "code",
   "execution_count": 195,
   "metadata": {
    "collapsed": true
   },
   "outputs": [],
   "source": [
    "%%R\n",
    "plotPotentialStartsAndStops <- function(sequence)\n",
    "  {\n",
    "     # Define a vector with the sequences of potential start and stop codons\n",
    "     codons <- c(\"atg\", \"taa\", \"tag\", \"tga\")\n",
    "     # Find the number of occurrences of each type of potential start or stop codon\n",
    "     for (i in 1:4)\n",
    "     {\n",
    "        codon <- codons[i]\n",
    "        # Find all occurrences of codon \"codon\" in sequence \"sequence\"\n",
    "        occurrences <- matchPattern(codon, sequence)\n",
    "        # Find the start positions of all occurrences of \"codon\" in sequence \"sequence\"\n",
    "        codonpositions <- attr(attr(occurrences, \"range\"),\"start\")\n",
    "        # Find the total number of potential start and stop codons in sequence \"sequence\"\n",
    "        numoccurrences <- length(codonpositions)\n",
    "        if (i == 1)\n",
    "        {\n",
    "           # Make a copy of vector \"codonpositions\" called \"positions\"\n",
    "           positions   <- codonpositions\n",
    "           # Make a vector \"types\" containing \"numoccurrences\" copies of \"codon\"\n",
    "           types       <- rep(codon, numoccurrences)\n",
    "        }\n",
    "        else\n",
    "        {\n",
    "           # Add the vector \"codonpositions\" to the end of vector \"positions\":\n",
    "           positions   <- append(positions, codonpositions, after=length(positions))\n",
    "           # Add the vector \"rep(codon, numoccurrences)\" to the end of vector \"types\":\n",
    "           types       <- append(types, rep(codon, numoccurrences), after=length(types))\n",
    "        }\n",
    "     }\n",
    "     # Sort the vectors \"positions\" and \"types\" in order of position along the input sequence:\n",
    "     indices <- order(positions)\n",
    "     positions <- positions[indices]\n",
    "     types <- types[indices]\n",
    "     # Make a plot showing the positions of the start and stop codons in the input sequence:\n",
    "     # Draw a line at y=0 from 1 to the length of the sequence:\n",
    "     x  <- c(1,nchar(sequence))\n",
    "     y <- c(0,0)\n",
    "     plot(x, y, ylim=c(0,3), type=\"l\", axes=FALSE, xlab=\"Nucleotide\", ylab=\"Reading frame\",\n",
    "        main=\"Predicted start (red) and stop (blue) codons\")\n",
    "     segments(1,1,nchar(sequence),1)\n",
    "     segments(1,2,nchar(sequence),2)\n",
    "     # Add the x-axis at y=0:\n",
    "     axis(1, pos=0)\n",
    "     # Add the y-axis labels:\n",
    "     text(0.9,0.5,\"+1\")\n",
    "     text(0.9,1.5,\"+2\")\n",
    "     text(0.9,2.5,\"+3\")\n",
    "     # Draw in each predicted start/stop codon:\n",
    "     numcodons <- length(positions)\n",
    "     for (i in 1:numcodons)\n",
    "     {\n",
    "        position <- positions[i]\n",
    "        type <- types[i]\n",
    "        remainder <- (position-1) %% 3\n",
    "        if    (remainder == 0) # +1 reading frame\n",
    "        {\n",
    "           if (type == \"atg\") { segments(position,0,position,1,lwd=1,col=\"red\") }\n",
    "           else               { segments(position,0,position,1,lwd=1,col=\"blue\")}\n",
    "        }\n",
    "        else if (remainder == 1)\n",
    "        {\n",
    "           if (type == \"atg\") { segments(position,1,position,2,lwd=1,col=\"red\") }\n",
    "           else               { segments(position,1,position,2,lwd=1,col=\"blue\")}\n",
    "        }\n",
    "        else if (remainder == 2)\n",
    "        {\n",
    "           if (type == \"atg\") { segments(position,2,position,3,lwd=1,col=\"red\") }\n",
    "           else               { segments(position,2,position,3,lwd=1,col=\"blue\")}\n",
    "        }\n",
    "     }\n",
    "   }"
   ]
  },
  {
   "cell_type": "code",
   "execution_count": 196,
   "metadata": {
    "collapsed": false
   },
   "outputs": [
    {
     "data": {
      "image/png": "[encoded data removed]"
     },
     "metadata": {},
     "output_type": "display_data"
    }
   ],
   "source": [
    "%%R\n",
    "plotPotentialStartsAndStops(dengueseqstartstring)\n"
   ]
  },
  {
   "cell_type": "code",
   "execution_count": 197,
   "metadata": {
    "collapsed": true
   },
   "outputs": [],
   "source": [
    "%%R\n",
    "findORFsinSeq <- function(sequence)\n",
    "  {\n",
    "     require(Biostrings)\n",
    "     # Make vectors \"positions\" and \"types\" containing information on the positions of ATGs in the sequence:\n",
    "     mylist <- findPotentialStartsAndStops(sequence)\n",
    "     positions <- mylist[[1]]\n",
    "     types <- mylist[[2]]\n",
    "     # Make vectors \"orfstarts\" and \"orfstops\" to store the predicted start and stop codons of ORFs\n",
    "     orfstarts <- numeric()\n",
    "     orfstops <- numeric()\n",
    "     # Make a vector \"orflengths\" to store the lengths of the ORFs\n",
    "     orflengths <- numeric()\n",
    "     # Print out the positions of ORFs in the sequence:\n",
    "     # Find the length of vector \"positions\"\n",
    "     numpositions <- length(positions)\n",
    "     # There must be at least one start codon and one stop codon to have an ORF.\n",
    "     if (numpositions >= 2)\n",
    "     {\n",
    "        for (i in 1:(numpositions-1))\n",
    "        {\n",
    "           posi <- positions[i]\n",
    "           typei <- types[i]\n",
    "           found <- 0\n",
    "           while (found == 0)\n",
    "           {\n",
    "              for (j in (i+1):numpositions)\n",
    "              {\n",
    "                 posj  <- positions[j]\n",
    "                 typej <- types[j]\n",
    "                 posdiff <- posj - posi\n",
    "                 posdiffmod3 <- posdiff %% 3\n",
    "                 # Add in the length of the stop codon\n",
    "                 orflength <- posj - posi + 3\n",
    "                 if (typei == \"atg\" && (typej == \"taa\" || typej == \"tag\" || typej == \"tga\") && posdiffmod3 == 0)\n",
    "                 {\n",
    "                    # Check if we have already used the stop codon at posj+2 in an ORF\n",
    "                    numorfs <- length(orfstops)\n",
    "                    usedstop <- -1\n",
    "                    if (numorfs > 0)\n",
    "                    {\n",
    "                      for (k in 1:numorfs)\n",
    "                      {\n",
    "                          orfstopk <- orfstops[k]\n",
    "                          if (orfstopk == (posj + 2)) { usedstop <- 1 }\n",
    "                      }\n",
    "                    }\n",
    "                    if (usedstop == -1)\n",
    "                    {\n",
    "                       orfstarts <- append(orfstarts, posi, after=length(orfstarts))\n",
    "                       orfstops <- append(orfstops, posj+2, after=length(orfstops)) # Including the stop codon.\n",
    "                       orflengths <- append(orflengths, orflength, after=length(orflengths))\n",
    "                    }\n",
    "                    found <- 1\n",
    "                    break\n",
    "                 }\n",
    "                 if (j == numpositions) { found <- 1 }\n",
    "              }\n",
    "           }\n",
    "        }\n",
    "     }\n",
    "     # Sort the final ORFs by start position:\n",
    "     indices <- order(orfstarts)\n",
    "     orfstarts <- orfstarts[indices]\n",
    "     orfstops <- orfstops[indices]\n",
    "     # Find the lengths of the ORFs that we have\n",
    "     orflengths <- numeric()\n",
    "     numorfs <- length(orfstarts)\n",
    "     for (i in 1:numorfs)\n",
    "     {\n",
    "        orfstart <- orfstarts[i]\n",
    "        orfstop <- orfstops[i]\n",
    "        orflength <- orfstop - orfstart + 1\n",
    "        orflengths <- append(orflengths,orflength,after=length(orflengths))\n",
    "     }\n",
    "     mylist <- list(orfstarts, orfstops, orflengths)\n",
    "     return(mylist)\n",
    "  }"
   ]
  },
  {
   "cell_type": "code",
   "execution_count": 198,
   "metadata": {
    "collapsed": false
   },
   "outputs": [
    {
     "data": {
      "text/plain": [
       "[[1]]\n",
       "[1] 4\n",
       "\n",
       "[[2]]\n",
       "[1] 12\n",
       "\n",
       "[[3]]\n",
       "[1] 9\n",
       "\n"
      ]
     },
     "metadata": {},
     "output_type": "display_data"
    }
   ],
   "source": [
    "%%R\n",
    "s1 <- \"aaaatgcagtaacccatgccc\"\n",
    "findORFsinSeq(s1)\n"
   ]
  },
  {
   "cell_type": "code",
   "execution_count": 199,
   "metadata": {
    "collapsed": false
   },
   "outputs": [
    {
     "data": {
      "text/plain": [
       "[[1]]\n",
       "[1] 298 318\n",
       "\n",
       "[[2]]\n",
       "[1] 480 371\n",
       "\n",
       "[[3]]\n",
       "[1] 183  54\n",
       "\n"
      ]
     },
     "metadata": {},
     "output_type": "display_data"
    }
   ],
   "source": [
    "%%R\n",
    "findORFsinSeq(dengueseqstartstring)"
   ]
  },
  {
   "cell_type": "code",
   "execution_count": 200,
   "metadata": {
    "collapsed": true
   },
   "outputs": [],
   "source": [
    "%%R\n",
    "plotORFsinSeq <- function(sequence)\n",
    "  {\n",
    "     # Make vectors \"positions\" and \"types\" containing information on the positions of ATGs in the sequence:\n",
    "     mylist <- findPotentialStartsAndStops(sequence)\n",
    "     positions <- mylist[[1]]\n",
    "     types <- mylist[[2]]\n",
    "     # Make vectors \"orfstarts\" and \"orfstops\" to store the predicted start and stop codons of ORFs\n",
    "     orfstarts <- numeric()\n",
    "     orfstops <- numeric()\n",
    "     # Make a vector \"orflengths\" to store the lengths of the ORFs\n",
    "     orflengths <- numeric()\n",
    "     # Print out the positions of ORFs in the sequence:\n",
    "     numpositions <- length(positions) # Find the length of vector \"positions\"\n",
    "     # There must be at least one start codon and one stop codon to have an ORF.\n",
    "     if (numpositions >= 2)\n",
    "     {\n",
    "        for (i in 1:(numpositions-1))\n",
    "        {\n",
    "           posi <- positions[i]\n",
    "           typei <- types[i]\n",
    "           found <- 0\n",
    "           while (found == 0)\n",
    "           {\n",
    "              for (j in (i+1):numpositions)\n",
    "              {\n",
    "                 posj <- positions[j]\n",
    "                 typej <- types[j]\n",
    "                 posdiff <- posj - posi\n",
    "                 posdiffmod3 <- posdiff %% 3\n",
    "                 orflength <- posj - posi + 3 # Add in the length of the stop codon\n",
    "                 if (typei == \"atg\" && (typej == \"taa\" || typej == \"tag\" || typej == \"tga\") && posdiffmod3 == 0)\n",
    "                 {\n",
    "                    # Check if we have already used the stop codon at posj+2 in an ORF\n",
    "                    numorfs <- length(orfstops)\n",
    "                    usedstop <- -1\n",
    "                    if (numorfs > 0)\n",
    "                    {\n",
    "                       for (k in 1:numorfs)\n",
    "                       {\n",
    "                          orfstopk <- orfstops[k]\n",
    "                          if (orfstopk == (posj + 2)) { usedstop <- 1 }\n",
    "                       }\n",
    "                    }\n",
    "                    if (usedstop == -1)\n",
    "                    {\n",
    "                       orfstarts <- append(orfstarts, posi, after=length(orfstarts))\n",
    "                       orfstops <- append(orfstops, posj+2, after=length(orfstops)) # Including the stop codon.\n",
    "                       orflengths <- append(orflengths, orflength, after=length(orflengths))\n",
    "                    }\n",
    "                    found <- 1\n",
    "                    break\n",
    "                 }\n",
    "                 if (j == numpositions) { found <- 1 }\n",
    "              }\n",
    "           }\n",
    "        }\n",
    "     }\n",
    "     # Sort the final ORFs by start position:\n",
    "     indices <- order(orfstarts)\n",
    "     orfstarts <- orfstarts[indices]\n",
    "     orfstops <- orfstops[indices]\n",
    "     # Make a plot showing the positions of ORFs in the input sequence:\n",
    "     # Draw a line at y=0 from 1 to the length of the sequence:\n",
    "     x <- c(1,nchar(sequence))\n",
    "     y <- c(0,0)\n",
    "     plot(x, y, ylim=c(0,3), type=\"l\", axes=FALSE, xlab=\"Nucleotide\", ylab=\"Reading frame\", main=\"Predicted ORFs\")\n",
    "     segments(1,1,nchar(sequence),1)\n",
    "     segments(1,2,nchar(sequence),2)\n",
    "     # Add the x-axis at y=0:\n",
    "     axis(1, pos=0)\n",
    "     # Add the y-axis labels:\n",
    "     text(0.9,0.5,\"+1\")\n",
    "     text(0.9,1.5,\"+2\")\n",
    "     text(0.9,2.5,\"+3\")\n",
    "     # Make a plot of the ORFs in the sequence:\n",
    "     numorfs <- length(orfstarts)\n",
    "     for (i in 1:numorfs)\n",
    "     {\n",
    "        orfstart <- orfstarts[i]\n",
    "        orfstop <- orfstops[i]\n",
    "        remainder <- (orfstart-1) %% 3\n",
    "        if    (remainder == 0) # +1 reading frame\n",
    "        {\n",
    "           rect(orfstart,0,orfstop,1,col=\"cyan\",border=\"black\")\n",
    "        }\n",
    "        else if (remainder == 1)\n",
    "        {\n",
    "           rect(orfstart,1,orfstop,2,col=\"cyan\",border=\"black\")\n",
    "        }\n",
    "        else if (remainder == 2)\n",
    "        {\n",
    "           rect(orfstart,2,orfstop,3,col=\"cyan\",border=\"black\")\n",
    "        }\n",
    "     }\n",
    "  }"
   ]
  },
  {
   "cell_type": "code",
   "execution_count": 201,
   "metadata": {
    "collapsed": false
   },
   "outputs": [
    {
     "data": {
      "image/png": "[encoded data removed]"
     },
     "metadata": {},
     "output_type": "display_data"
    }
   ],
   "source": [
    "%%R\n",
    "plotORFsinSeq(dengueseqstartstring)"
   ]
  },
  {
   "cell_type": "code",
   "execution_count": 202,
   "metadata": {
    "collapsed": false
   },
   "outputs": [
    {
     "data": {
      "text/plain": [
       "[1] \"atgcagtaa\"\n"
      ]
     },
     "metadata": {},
     "output_type": "display_data"
    }
   ],
   "source": [
    "%%R\n",
    "s1 <- \"aaaatgcagtaacccatgccc\"\n",
    "myorf <- substring(s1, 4, 12)\n",
    "myorf # Print out the sequence of \"myorf\""
   ]
  },
  {
   "cell_type": "code",
   "execution_count": 203,
   "metadata": {
    "collapsed": false
   },
   "outputs": [
    {
     "data": {
      "text/plain": [
       "[1] \"a\" \"t\" \"g\" \"c\" \"a\" \"g\" \"t\" \"a\" \"a\"\n",
       "[1] \"M\" \"Q\" \"*\"\n"
      ]
     },
     "metadata": {},
     "output_type": "display_data"
    }
   ],
   "source": [
    "%%R\n",
    " myorfvector <- s2c(myorf) # Convert the sequence of characters to a vector\n",
    "print (myorfvector)               # Print out the value of \"myorfvector\"\n",
    "seqinr::translate(myorfvector)\n"
   ]
  },
  {
   "cell_type": "code",
   "execution_count": 204,
   "metadata": {
    "collapsed": false
   },
   "outputs": [
    {
     "data": {
      "text/plain": [
       " [1] \"A\" \"A\" \"A\" \"A\" \"T\" \"G\" \"C\" \"T\" \"T\" \"A\" \"A\" \"A\" \"C\" \"C\" \"A\" \"T\" \"T\" \"G\" \"C\"\n",
       "[20] \"C\" \"C\"\n",
       " [1] \"g\" \"g\" \"g\" \"c\" \"a\" \"a\" \"t\" \"g\" \"g\" \"t\" \"t\" \"t\" \"a\" \"a\" \"g\" \"c\" \"a\" \"t\" \"t\"\n",
       "[20] \"t\" \"t\"\n",
       "[1] \"gggcaatggtttaagcatttt\"\n"
      ]
     },
     "metadata": {},
     "output_type": "display_data"
    }
   ],
   "source": [
    "%%R\n",
    "forward <- \"AAAATGCTTAAACCATTGCCC\"\n",
    "forwardvector <- s2c(forward)                # Convert the string of characters to a vector\n",
    "print (forwardvector)                                # Print out the vector containing the forward strand sequence\n",
    "reversevector <- rev(comp(forwardvector))    # Find the reverse strand sequence, by finding the reverse complement\n",
    "print(reversevector)                                # Print out the vector containing the reverse strand sequence\n",
    "reverse <- c2s(reversevector)                # Convert the vector to a string of characters\n",
    "reverse                                      # Print out the string of characters containing the reverse strand sequence"
   ]
  },
  {
   "cell_type": "code",
   "execution_count": 206,
   "metadata": {
    "collapsed": false
   },
   "outputs": [
    {
     "data": {
      "text/plain": [
       "[[1]]\n",
       "[1] 6\n",
       "\n",
       "[[2]]\n",
       "[1] 14\n",
       "\n",
       "[[3]]\n",
       "[1] 9\n",
       "\n"
      ]
     },
     "metadata": {},
     "output_type": "display_data"
    }
   ],
   "source": [
    "%%R\n",
    "complement <- comp(forwardvector)            # Find the complement of the forward strand sequence\n",
    "reversevector <- rev(complement) \n",
    "findORFsinSeq(reverse)"
   ]
  },
  {
   "cell_type": "code",
   "execution_count": 208,
   "metadata": {
    "collapsed": true
   },
   "outputs": [],
   "source": [
    "%%R\n",
    "generateSeqsWithMultinomialModel <- function(inputsequence, X)\n",
    "  {\n",
    "     # Change the input sequence into a vector of letters\n",
    "     require(\"seqinr\") # This function requires the SeqinR package.\n",
    "     inputsequencevector <- s2c(inputsequence)\n",
    "     # Find the frequencies of the letters in the input sequence \"inputsequencevector\":\n",
    "     mylength <- length(inputsequencevector)\n",
    "     mytable <- table(inputsequencevector)\n",
    "     # Find the names of the letters in the sequence\n",
    "     letters <- rownames(mytable)\n",
    "     numletters <- length(letters)\n",
    "     probabilities <- numeric() # Make a vector to store the probabilities of letters\n",
    "     for (i in 1:numletters)\n",
    "     {\n",
    "        letter <- letters[i]\n",
    "        count <- mytable[[i]]\n",
    "        probabilities[i] <- count/mylength\n",
    "     }\n",
    "     # Make X random sequences using the multinomial model with probabilities \"probabilities\"\n",
    "     seqs <- numeric(X)\n",
    "     for (j in 1:X)\n",
    "     {\n",
    "        seq <- sample(letters, mylength, rep=TRUE, prob=probabilities) # Sample with replacement\n",
    "        seq <- c2s(seq)\n",
    "        seqs[j] <- seq\n",
    "     }\n",
    "     # Return the vector of random sequences\n",
    "     return(seqs)\n",
    "  }"
   ]
  },
  {
   "cell_type": "code",
   "execution_count": 209,
   "metadata": {
    "collapsed": false
   },
   "outputs": [
    {
     "data": {
      "text/plain": [
       "[1] \"TGATTATGTCAACTTACACTC\"\n"
      ]
     },
     "metadata": {},
     "output_type": "display_data"
    }
   ],
   "source": [
    "%%R\n",
    "myseq    <- \"AAAATGCTTAAACCATTGCCC\"\n",
    "generateSeqsWithMultinomialModel(myseq, 1) \n"
   ]
  },
  {
   "cell_type": "code",
   "execution_count": 210,
   "metadata": {
    "collapsed": false
   },
   "outputs": [
    {
     "data": {
      "text/plain": [
       "[1] 1\n",
       "[1] 2\n",
       "[1] 3\n",
       "[1] 4\n",
       "[1] 5\n",
       "[1] 6\n",
       "[1] 7\n",
       "[1] 8\n",
       "[1] 9\n",
       "[1] 10\n"
      ]
     },
     "metadata": {},
     "output_type": "display_data"
    }
   ],
   "source": [
    "%%R\n",
    "dengueseqstring <- c2s(dengueseq)           # Convert the Dengue sequence to a string of characters\n",
    "mylist <- findORFsinSeq(dengueseqstring)    # Find ORFs in \"dengueseqstring\"\n",
    "orflengths <- mylist[[3]]                   # Find the lengths of ORFs in \"dengueseqstring\"\n",
    "randseqs <- generateSeqsWithMultinomialModel(dengueseqstring, 10) # Generate 10 random sequences using the multinomial model\n",
    "randseqorflengths <- numeric()              # Tell R that we want to make a new vector of numbers\n",
    "for (i in 1:10)\n",
    "  {\n",
    "     print(i)\n",
    "     randseq <- randseqs[i]                     # Get the ith random sequence\n",
    "     mylist <- findORFsinSeq(randseq)           # Find ORFs in \"randseq\"\n",
    "     lengths <- mylist[[3]]                     # Find the lengths of ORFs in \"randseq\"\n",
    "     randseqorflengths <- append(randseqorflengths, lengths, after=length(randseqorflengths))\n",
    "  }"
   ]
  },
  {
   "cell_type": "code",
   "execution_count": 211,
   "metadata": {
    "collapsed": false
   },
   "outputs": [
    {
     "data": {
      "image/png": "[encoded data removed]"
     },
     "metadata": {},
     "output_type": "display_data"
    }
   ],
   "source": [
    "%%R\n",
    "par(mfrow = c(1,2))                      # Make a picture with two plots side-by-side (one row, two columns)\n",
    "bins <- seq(0,11000,50)                  # Set the bins for the histogram\n",
    "hist(randseqorflengths, breaks=bins, col=\"red\", xlim=c(0,1000))\n",
    "hist(orflengths, breaks=bins, col=\"red\", xlim=c(0,1000))"
   ]
  },
  {
   "cell_type": "code",
   "execution_count": 213,
   "metadata": {
    "collapsed": false
   },
   "outputs": [
    {
     "data": {
      "text/plain": [
       "[1] 333\n",
       "   Mode   FALSE    TRUE    NA's \n",
       "logical     115       1       0 \n"
      ]
     },
     "metadata": {},
     "output_type": "display_data"
    }
   ],
   "source": [
    "%%R \n",
    "print (max(randseqorflengths))\n",
    "summary(orflengths > 342)\n"
   ]
  },
  {
   "cell_type": "code",
   "execution_count": 215,
   "metadata": {
    "collapsed": false
   },
   "outputs": [
    {
     "data": {
      "text/plain": [
       "99% \n",
       "240 \n"
      ]
     },
     "metadata": {},
     "output_type": "display_data"
    }
   ],
   "source": [
    "%%R\n",
    "quantile(randseqorflengths, probs=c(0.99))"
   ]
  },
  {
   "cell_type": "markdown",
   "metadata": {},
   "source": [
    "# Comparative genomics"
   ]
  },
  {
   "cell_type": "code",
   "execution_count": 217,
   "metadata": {
    "collapsed": false,
    "scrolled": false
   },
   "outputs": [
    {
     "name": "stderr",
     "output_type": "stream",
     "text": [
      "/opt/anaconda/lib/python2.7/site-packages/rpy2/robjects/functions.py:106: UserWarning: \n",
      "Attaching package: ‘biomaRt’\n",
      "\n",
      "\n",
      "  res = super(Function, self).__call__(*new_args, **new_kwargs)\n",
      "/opt/anaconda/lib/python2.7/site-packages/rpy2/robjects/functions.py:106: UserWarning: The following object is masked from ‘package:seqinr’:\n",
      "\n",
      "    getSequence\n",
      "\n",
      "\n",
      "  res = super(Function, self).__call__(*new_args, **new_kwargs)\n"
     ]
    },
    {
     "data": {
      "text/plain": [
       "                                 biomart\n",
       "1                                ensembl\n",
       "2                                    snp\n",
       "3                             regulation\n",
       "4                                   vega\n",
       "5                          fungi_mart_28\n",
       "6                    fungi_variations_28\n",
       "7                        metazoa_mart_28\n",
       "8                  metazoa_variations_28\n",
       "9                         plants_mart_28\n",
       "10                  plants_variations_28\n",
       "11                      protists_mart_28\n",
       "12                protists_variations_28\n",
       "13                                   msd\n",
       "14                            cg_mart_02\n",
       "15                                 WS220\n",
       "16                         parasite_mart\n",
       "17                               biomart\n",
       "18                               example\n",
       "19                      prod-intermart_1\n",
       "20                               unimart\n",
       "21                             biomartDB\n",
       "22                              biblioDB\n",
       "23                    Eurexpress Biomart\n",
       "24                        phytozome_mart\n",
       "25                         metazome_mart\n",
       "26                          HapMap_rel27\n",
       "27                            GermOnline\n",
       "28   Sigenae_Oligo_Annotation_Ensembl_61\n",
       "29 Sigenae Oligo Annotation (Ensembl 59)\n",
       "30 Sigenae Oligo Annotation (Ensembl 56)\n",
       "31                        Breast_mart_69\n",
       "32                          K562_Gm12878\n",
       "33                             Hsmm_Hmec\n",
       "34                              allo2012\n",
       "35                            Pancreas63\n",
       "36                    Public_OBIOMARTPUB\n",
       "37                          Public_VITIS\n",
       "38                      Public_VITIS_12x\n",
       "39                            Prod_WHEAT\n",
       "40                        Public_TAIRV10\n",
       "41                          Public_MAIZE\n",
       "42                           Prod_TOMATO\n",
       "43                           Prod_POPLAR\n",
       "44                        Prod_POPLAR_V2\n",
       "45                     Prod_BOTRYTISEDIT\n",
       "46                            Prod_BOFUB\n",
       "47                    Prod_LMACULANSEDIT\n",
       "48                     vb_gene_mart_1506\n",
       "49                      vb_snp_mart_1506\n",
       "50                            expression\n",
       "51                    ENSEMBL_MART_PLANT\n",
       "52                ENSEMBL_MART_PLANT_SNP\n",
       "                                                                                                                             version\n",
       "1                                                                                                       ENSEMBL GENES 81 (SANGER UK)\n",
       "2                                                                                                   ENSEMBL VARIATION 81 (SANGER UK)\n",
       "3                                                                                                  ENSEMBL REGULATION 81 (SANGER UK)\n",
       "4                                                                                                               VEGA 61  (SANGER UK)\n",
       "5                                                                                                          ENSEMBL FUNGI 28 (EBI UK)\n",
       "6                                                                                                ENSEMBL FUNGI VARIATION 28 (EBI UK)\n",
       "7                                                                                                        ENSEMBL METAZOA 28 (EBI UK)\n",
       "8                                                                                              ENSEMBL METAZOA VARIATION 28 (EBI UK)\n",
       "9                                                                                                         ENSEMBL PLANTS 28 (EBI UK)\n",
       "10                                                                                              ENSEMBL PLANTS VARIATION 28 (EBI UK)\n",
       "11                                                                                                      ENSEMBL PROTISTS 28 (EBI UK)\n",
       "12                                                                                            ENSEMBL PROTISTS VARIATION 28 (EBI UK)\n",
       "13                                                                                                                      MSD (EBI UK)\n",
       "14                                                                                         PROTEOMICS (UNIVERSITY OF CAMBRIDGE - UK)\n",
       "15                                                                                                            WORMBASE 220 (CSHL US)\n",
       "16                                                                                                                     ParaSite Mart\n",
       "17                                                                                                       MGI (JACKSON LABORATORY US)\n",
       "18                                                                                              FANTOM5 phase1.1 (RIKEN CSLST Japan)\n",
       "19                                                                                                                 INTERPRO (EBI UK)\n",
       "20                                                                                                                  UNIPROT (EBI UK)\n",
       "21                                                                                                   PARAMECIUM GENOME (CNRS FRANCE)\n",
       "22                                                                                             PARAMECIUM BIBLIOGRAPHY (CNRS FRANCE)\n",
       "23                                                                                                     EUREXPRESS (MRC EDINBURGH UK)\n",
       "24                                                                                                                         Phytozome\n",
       "25                                                                                                                          Metazome\n",
       "26                                                                                                               HAPMAP 27 (NCBI US)\n",
       "27                                                                                                                        GERMONLINE\n",
       "28                                                                                             SIGENAE OLIGO ANNOTATION (ENSEMBL 61)\n",
       "29                                                                                             SIGENAE OLIGO ANNOTATION (ENSEMBL 59)\n",
       "30                                                                                             SIGENAE OLIGO ANNOTATION (ENSEMBL 56)\n",
       "31                                                                                      BCCTB Bioinformatics Portal (UK and Ireland)\n",
       "32 Regulatory Genomics Group: Predictive models of gene regulation from processed high-throughput epigenomics data: K562 vs. Gm12878\n",
       "33    Regulatory Genomics Group: Predictive models of gene regulation from processed high-throughput epigenomics data: Hsmm vs. Hmec\n",
       "34                                                                                       Regulatory Genomics Group: Allo et al. 2012\n",
       "35                                                                        PANCREATIC EXPRESSION DATABASE (BARTS CANCER INSTITUTE UK)\n",
       "36                                   Multi-species: marker, QTL, SNP, gene, germplasm, phenotype, association, with Gene annotations\n",
       "37                                                          Grapevine 8x, stuctural annotation with Genetic maps (genetic markers..)\n",
       "38                                        Grapevine 12x.0, stuctural and functional annotation with Genetic maps (genetic markers..)\n",
       "39                                                                 Wheat, stuctural annotation with Genetic maps (genetic markers..)\n",
       "40                                                                         Arabidopsis Thaliana TAIRV10, genes functional annotation\n",
       "41                                                                                       Zea mays ZmB73, genes functional annotation\n",
       "42                                                                                       Tomato, stuctural and functional annotation\n",
       "43                                                                                  Populus trichocarpa, genes functional annotation\n",
       "44                                                                             Populus trichocarpa, genes functional annotation V2.0\n",
       "45                                                                                 Botrytis cinerea T4, genes functional annotation \n",
       "46                                                                              Botrytis cinerea B0510, genes functional annotation \n",
       "47                                                                               Leptosphaeria maculans, genes functional annotation\n",
       "48                                                                                                                  VectorBase Genes\n",
       "49                                                                                                              VectorBase Variation\n",
       "50                                                                                                             VectorBase Expression\n",
       "51                                                                                        GRAMENE 40 ENSEMBL GENES (CSHL/CORNELL US)\n",
       "52                                                                                            GRAMENE 40 VARIATION (CSHL/CORNELL US)\n"
      ]
     },
     "metadata": {},
     "output_type": "display_data"
    }
   ],
   "source": [
    "%%R\n",
    "library(\"biomaRt\") # Load the biomaRt package in R\n",
    "listMarts()        # List all databases that can be queried"
   ]
  },
  {
   "cell_type": "code",
   "execution_count": 221,
   "metadata": {
    "collapsed": false
   },
   "outputs": [
    {
     "data": {
      "text/plain": [
       "                   dataset\n",
       "1         pramorum_eg_gene\n",
       "2           pvivax_eg_gene\n",
       "3        piwayamai_eg_gene\n",
       "4      ddiscoideum_eg_gene\n",
       "5         glamblia_eg_gene\n",
       "6           lmajor_eg_gene\n",
       "7        pknowlesi_eg_gene\n",
       "8          tgondii_eg_gene\n",
       "9       plateralis_eg_gene\n",
       "10      alaibachii_eg_gene\n",
       "11       pchabaudi_eg_gene\n",
       "12  harabidopsidis_eg_gene\n",
       "13        pultimum_eg_gene\n",
       "14 paphanidermatum_eg_gene\n",
       "15    tthermophila_eg_gene\n",
       "16      pkernoviae_eg_gene\n",
       "17     pfalciparum_eg_gene\n",
       "18   parrhenomanes_eg_gene\n",
       "19        pberghei_eg_gene\n",
       "20    ehistolytica_eg_gene\n",
       "21         bnatans_eg_gene\n",
       "22          psojae_eg_gene\n",
       "23    ptetraurelia_eg_gene\n",
       "24     tpseudonana_eg_gene\n",
       "25     pirregulare_eg_gene\n",
       "26          gtheta_eg_gene\n",
       "27    ptricornutum_eg_gene\n",
       "28      pinfestans_eg_gene\n",
       "29         pvexans_eg_gene\n",
       "30        ehuxleyi_eg_gene\n",
       "31     pparasitica_eg_gene\n",
       "32         tbrucei_eg_gene\n",
       "                                                                                  description\n",
       "1                                      Phytophthora ramorum genes (ASM14973v1 (JGI-Phyra1_1))\n",
       "2                                            Plasmodium vivax genes (ASM241v1 (2009-12-TIGR))\n",
       "3                                     Pythium iwayamai genes (piw_scaffolds_v1 (2013-08-PGD))\n",
       "4                           Dictyostelium discoideum genes (dictybase.01 (2009-12-DictyBase))\n",
       "5                                     Giardia lamblia genes (GCA_000002435.1 (GiardiaDB_1.2))\n",
       "6                                           Leishmania major genes (ASM272v2 (2011-2-GeneDB))\n",
       "7                                            Plasmodium knowlesi genes (EPr 1 (2009-12-WTSI))\n",
       "8                                       Toxoplasma gondii genes (ToxoDB-7.1 (2008-11-toxoDB))\n",
       "9                                   Phytophthora lateralis genes (MPF4_v1.0 (2013-06-EXCEPD))\n",
       "10                                               Albugo laibachii genes (ENA 1 (2011-08-ENA))\n",
       "11                                            Plasmodium chabaudi genes (May_2010 (May_2010))\n",
       "12                        Hyaloperonospora arabidopsidis genes (HyaAraEmoy2_2.0 (Hpa-V8.3.2))\n",
       "13                                                  Pythium ultimum genes (pug (2011-04-PGD))\n",
       "14                             Pythium aphanidermatum genes (pag1_scaffolds_v1 (2013-08-PGD))\n",
       "15                                Tetrahymena thermophila genes (JCVI-TTA1-2.2 (2009-03-ENA))\n",
       "16                            Phytophthora kernoviae genes (PhyKer238/432v1 (2013-01-EXCEPD))\n",
       "17                                             Plasmodium falciparum genes (ASM276v1 (2.1.4))\n",
       "18                                Pythium arrhenomanes genes (par_scaffolds_v1 (2013-08-PGD))\n",
       "19                                             Plasmodium berghei genes (May_2010 (May_2010))\n",
       "20                                 Entamoeba histolytica genes (JCVI-ESG2-1.0 (AmoebaDB_1.6))\n",
       "21                                            Bigelowiella natans genes (Bigna1 (JGI_Bigna1))\n",
       "22                                       Phytophthora sojae genes (ASM14975v1 (JGI-Physo1_1))\n",
       "23                              Paramecium tetraurelia genes (ASM16542v1 (2006-11-Genoscope))\n",
       "24                                   Thalassiosira pseudonana genes (ASM14940v1 (JGI-Thaps3))\n",
       "25                                  Pythium irregulare genes (pir_scaffolds_v1 (2013-08-PGD))\n",
       "26                                      Guillardia theta CCMP2712 genes (Guith1 (JGI-Guith1))\n",
       "27                          Phaeodactylum tricornutum genes (ASM15095v2 (2013-07-EBI-Phatr3))\n",
       "28                                  Phytophthora infestans genes (ASM14294v1 (2010-12-BROAD))\n",
       "29                                      Pythium vexans genes (pve_scaffolds_v1 (2013-08-PGD))\n",
       "30 Emiliania huxleyi genes (Emiliana huxleyi CCMP1516 main genome assembly v1.0 (JGI_Emihu1))\n",
       "31                         Phytophthora parasitica genes (Phyt_para_P1569_V1 (2013-12-Broad))\n",
       "32                       Trypanosoma brucei genes (TryBru_Apr2005_chr11 (2011-05-ENAGenomes))\n",
       "                                                            version\n",
       "1                                         ASM14973v1 (JGI-Phyra1_1)\n",
       "2                                           ASM241v1 (2009-12-TIGR)\n",
       "3                                    piw_scaffolds_v1 (2013-08-PGD)\n",
       "4                                  dictybase.01 (2009-12-DictyBase)\n",
       "5                                   GCA_000002435.1 (GiardiaDB_1.2)\n",
       "6                                          ASM272v2 (2011-2-GeneDB)\n",
       "7                                              EPr 1 (2009-12-WTSI)\n",
       "8                                       ToxoDB-7.1 (2008-11-toxoDB)\n",
       "9                                        MPF4_v1.0 (2013-06-EXCEPD)\n",
       "10                                              ENA 1 (2011-08-ENA)\n",
       "11                                              May_2010 (May_2010)\n",
       "12                                     HyaAraEmoy2_2.0 (Hpa-V8.3.2)\n",
       "13                                                pug (2011-04-PGD)\n",
       "14                                  pag1_scaffolds_v1 (2013-08-PGD)\n",
       "15                                      JCVI-TTA1-2.2 (2009-03-ENA)\n",
       "16                                 PhyKer238/432v1 (2013-01-EXCEPD)\n",
       "17                                                 ASM276v1 (2.1.4)\n",
       "18                                   par_scaffolds_v1 (2013-08-PGD)\n",
       "19                                              May_2010 (May_2010)\n",
       "20                                     JCVI-ESG2-1.0 (AmoebaDB_1.6)\n",
       "21                                              Bigna1 (JGI_Bigna1)\n",
       "22                                        ASM14975v1 (JGI-Physo1_1)\n",
       "23                                   ASM16542v1 (2006-11-Genoscope)\n",
       "24                                          ASM14940v1 (JGI-Thaps3)\n",
       "25                                   pir_scaffolds_v1 (2013-08-PGD)\n",
       "26                                              Guith1 (JGI-Guith1)\n",
       "27                                  ASM15095v2 (2013-07-EBI-Phatr3)\n",
       "28                                       ASM14294v1 (2010-12-BROAD)\n",
       "29                                   pve_scaffolds_v1 (2013-08-PGD)\n",
       "30 Emiliana huxleyi CCMP1516 main genome assembly v1.0 (JGI_Emihu1)\n",
       "31                               Phyt_para_P1569_V1 (2013-12-Broad)\n",
       "32                        TryBru_Apr2005_chr11 (2011-05-ENAGenomes)\n"
      ]
     },
     "metadata": {},
     "output_type": "display_data"
    }
   ],
   "source": [
    "%%R\n",
    "ensemblprotists <- useMart(\"protists_mart_28\") # Specify that we want to query the Ensembl Protists database\n",
    "listDatasets(ensemblprotists)   \n"
   ]
  },
  {
   "cell_type": "code",
   "execution_count": 222,
   "metadata": {
    "collapsed": false
   },
   "outputs": [
    {
     "data": {
      "text/plain": [
       "[1] 589\n",
       " [1] \"ensembl_gene_id\"       \"ensembl_transcript_id\" \"ensembl_peptide_id\"   \n",
       " [4] \"chromosome_name\"       \"start_position\"        \"end_position\"         \n",
       " [7] \"strand\"                \"band\"                  \"transcript_start\"     \n",
       "[10] \"transcript_end\"       \n",
       " [1] \"Gene stable ID\"           \"Transcript stable ID\"    \n",
       " [3] \"Protein stable ID\"        \"Chromosome/scaffold name\"\n",
       " [5] \"Gene start (bp)\"          \"Gene end (bp)\"           \n",
       " [7] \"Strand\"                   \"Band\"                    \n",
       " [9] \"Transcript start (bp)\"    \"Transcript end (bp)\"     \n"
      ]
     },
     "metadata": {},
     "output_type": "display_data"
    }
   ],
   "source": [
    "%%R\n",
    "ensemblleishmania <- useDataset(\"lmajor_eg_gene\",mart=ensemblprotists)\n",
    "leishmaniaattributes <- listAttributes(ensemblleishmania)\n",
    "attributenames <- leishmaniaattributes[[1]]\n",
    "attributedescriptions <- leishmaniaattributes[[2]]\n",
    "print(length(attributenames))                     # Find the length of vector \"attributenames\"\n",
    "print (attributenames[1:10])                       # Print out the first 10 entries in vector \"attributenames\"\n",
    "attributedescriptions[1:10]                # Print out the first 10 entries in vector \"attributedescriptions\"\n"
   ]
  },
  {
   "cell_type": "code",
   "execution_count": 223,
   "metadata": {
    "collapsed": false
   },
   "outputs": [
    {
     "data": {
      "text/plain": [
       "[1] 9379\n",
       " [1] \"LmjF.01.0010\" \"LmjF.01.0020\" \"LmjF.01.0030\" \"LmjF.01.0040\" \"LmjF.01.0050\"\n",
       " [6] \"LmjF.01.0060\" \"LmjF.01.0070\" \"LmjF.01.0080\" \"LmjF.01.0090\" \"LmjF.01.0100\"\n"
      ]
     },
     "metadata": {},
     "output_type": "display_data"
    }
   ],
   "source": [
    "%%R\n",
    "leishmaniagenes <- getBM(attributes = c(\"ensembl_gene_id\"), mart=ensemblleishmania)\n",
    "leishmaniagenenames <- leishmaniagenes[[1]] # Get the vector of the names of all L. major genes\n",
    "print (length(leishmaniagenenames))\n",
    "leishmaniagenenames[1:10]"
   ]
  },
  {
   "cell_type": "code",
   "execution_count": 224,
   "metadata": {
    "collapsed": false
   },
   "outputs": [
    {
     "data": {
      "text/plain": [
       "leishmaniagenebiotypes2\n",
       "             ncRNA nontranslating_CDS     protein_coding         pseudogene \n",
       "                84                  4               8308                 90 \n",
       "              rRNA             snoRNA              snRNA               tRNA \n",
       "                63                741                  6                 83 \n"
      ]
     },
     "metadata": {},
     "output_type": "display_data"
    }
   ],
   "source": [
    "%%R\n",
    "leishmaniagenes2 <- getBM(attributes = c(\"ensembl_gene_id\", \"gene_biotype\"), mart=ensemblleishmania)\n",
    "leishmaniagenenames2 <- leishmaniagenes2[[1]] # Get the vector of the names of all L. major genes\n",
    "leishmaniagenebiotypes2 <- leishmaniagenes2[[2]] # Get the vector of the biotypes of all genes\n",
    "table(leishmaniagenebiotypes2)"
   ]
  },
  {
   "cell_type": "code",
   "execution_count": 225,
   "metadata": {
    "collapsed": false
   },
   "outputs": [
    {
     "data": {
      "text/plain": [
       "pfalciparumgenebiotypes\n",
       "             ncRNA nontranslating_CDS     protein_coding               rRNA \n",
       "               712                 77               5352                 24 \n",
       "             snRNA               tRNA \n",
       "                 3                 45 \n"
      ]
     },
     "metadata": {},
     "output_type": "display_data"
    }
   ],
   "source": [
    "%%R\n",
    "ensemblpfalciparum <- useDataset(\"pfalciparum_eg_gene\",mart=ensemblprotists)\n",
    "pfalciparumgenes <- getBM(attributes = c(\"ensembl_gene_id\", \"gene_biotype\"), mart=ensemblpfalciparum)\n",
    "pfalciparumgenenames <- pfalciparumgenes[[1]] # Get the names of the P. falciparum genes\n",
    "pfalciparumgenebiotypes <- pfalciparumgenes[[2]] # Get the types of the P. falciparum genes\n",
    "table(pfalciparumgenebiotypes)\n"
   ]
  },
  {
   "cell_type": "code",
   "execution_count": 226,
   "metadata": {
    "collapsed": false
   },
   "outputs": [
    {
     "data": {
      "text/plain": [
       " [1] \"LmjF.34.2510\" \"LmjF.34.2510\" \"LmjF.14.0650\" \"LmjF.14.0670\" \"LmjF.14.0680\"\n",
       " [6] \"LmjF.14.0710\" \"LmjF.36.2350\" \"LmjF.01.0010\" \"LmjF.01.0020\" \"LmjF.01.0030\"\n",
       " [1] \"PFD0505c\" \"PFL2365w\" \"PFI0980w\" \"PFI0980w\" \"PFA0455c\" \"PFA0455c\"\n",
       " [7] \"\"         \"\"         \"\"         \"\"        \n",
       " [1] \"ortholog_many2many\" \"ortholog_many2many\" \"ortholog_one2many\" \n",
       " [4] \"ortholog_one2many\"  \"ortholog_one2many\"  \"ortholog_one2many\" \n",
       " [7] \"\"                   \"\"                   \"\"                  \n",
       "[10] \"\"                  \n"
      ]
     },
     "metadata": {},
     "output_type": "display_data"
    }
   ],
   "source": [
    "%%R\n",
    "leishmaniagenes <- getBM(attributes = c(\"ensembl_gene_id\", \"pfalciparum_eg_gene\",\n",
    "   \"pfalciparum_eg_orthology_type\"), mart=ensemblleishmania)\n",
    "leishmaniagenenames <- leishmaniagenes[[1]]      # Get the names of all Leishmania major genes\n",
    "leishmaniaPforthologues <- leishmaniagenes[[2]]  # Get the P. falciparum orthologues of all L. major genes\n",
    "leishmaniaPforthologuetypes <- leishmaniagenes[[3]] # Get the orthology relationship type\n",
    "print(leishmaniagenenames[1:10])\n",
    "print(leishmaniaPforthologues[1:10])\n",
    "print(leishmaniaPforthologuetypes[1:10])"
   ]
  },
  {
   "cell_type": "code",
   "execution_count": 227,
   "metadata": {
    "collapsed": false
   },
   "outputs": [
    {
     "data": {
      "text/plain": [
       "[1] 6774\n"
      ]
     },
     "metadata": {},
     "output_type": "display_data"
    }
   ],
   "source": [
    "%%R\n",
    "myindex <- leishmaniaPforthologues==\"\"\n",
    "leishmaniagenenames2 <- leishmaniagenenames[myindex]\n",
    "leishmaniagenes2 <- getBM(attributes = c(\"ensembl_gene_id\", \"gene_biotype\"), mart=ensemblleishmania)\n",
    "leishmaniagenes3 <- merge(leishmaniagenes2, leishmaniagenes)\n",
    "leishmaniagenenames <- leishmaniagenes3[[1]]\n",
    "leishmaniagenebiotypes <- leishmaniagenes3[[2]]\n",
    "leishmaniaPforthologues <- leishmaniagenes3[[3]]\n",
    "myindex <- leishmaniaPforthologues==\"\" & leishmaniagenebiotypes==\"protein_coding\"\n",
    "leishmaniagenenames2 <- leishmaniagenenames[myindex]\n",
    "length(leishmaniagenenames2)\n"
   ]
  },
  {
   "cell_type": "code",
   "execution_count": null,
   "metadata": {
    "collapsed": true
   },
   "outputs": [],
   "source": []
  }
 ],
 "metadata": {
  "kernelspec": {
   "display_name": "Python 2",
   "language": "python",
   "name": "python2"
  },
  "language_info": {
   "codemirror_mode": {
    "name": "ipython",
    "version": 2
   },
   "file_extension": ".py",
   "mimetype": "text/x-python",
   "name": "python",
   "nbconvert_exporter": "python",
   "pygments_lexer": "ipython2",
   "version": "2.7.10"
  }
 },
 "nbformat": 4,
 "nbformat_minor": 0
}
