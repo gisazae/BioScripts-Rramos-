{
 "cells": [
  {
   "cell_type": "markdown",
   "metadata": {},
   "source": [
    "# Scripting for Bioinformatics\n",
    "\n",
    "## Lab 03 - R"
   ]
  },
  {
   "cell_type": "markdown",
   "metadata": {
    "collapsed": true
   },
   "source": [
    "### Ejercicio 1\n",
    "\n",
    "Dada una cadena _s_ completa la función siguiente para que todas las ocurrencias del primer caracter de la cadena _s_ se sustituyan por un `*`, excepto la primera ocurrencia misma. P.ej. `babble` resulta en `ba**le`\n",
    "\n",
    "Puedes usar la función `substr` para extraer uno o varios caracteres de una cadena, y la función `gsub` para reemplazar caracteres. Recuerda que la función `nchar` devuelve el número de caracteres de una cadena.\n",
    "\n",
    "Usa en una celda cualquiera\n",
    "\n",
    "    ?substr\n",
    "    \n",
    "para obtener ayuda de la función `substr` o de una función cualquiera de R.\n",
    "\n",
    "Por ejemplo, ejecuta la celda siguiente."
   ]
  },
  {
   "cell_type": "code",
   "execution_count": null,
   "metadata": {
    "collapsed": false
   },
   "outputs": [],
   "source": [
    "?substr"
   ]
  },
  {
   "cell_type": "code",
   "execution_count": null,
   "metadata": {
    "collapsed": false
   },
   "outputs": [],
   "source": [
    "fix_start <- function(s) {\n",
    "    # ---- tu codigo aqui ----\n",
    "    r <- NULL\n",
    "    # ------------------------\n",
    "    return (r)\n",
    "}\n"
   ]
  },
  {
   "cell_type": "code",
   "execution_count": null,
   "metadata": {
    "collapsed": false
   },
   "outputs": [],
   "source": [
    "fix_start(\"babble\") == \"ba**le\"\n",
    "fix_start(\"aardvark\") == \"a*rdv*rk\"\n",
    "fix_start(\"google\") == \"goo*le\"\n",
    "fix_start(\"donut\")==\"donut\""
   ]
  },
  {
   "cell_type": "markdown",
   "metadata": {
    "collapsed": false
   },
   "source": [
    "### Ejercicio 2\n",
    "\n",
    "Dada una cadena _s_ completa la función siguiente para que:\n",
    "\n",
    "1. encuentre la primera ocurrencia de la subcadena `not`  y la subcadena `bad`\n",
    "2. si `not` aparece antes que `bad` reemplace toda la subcadena `not .. bad` con `good`\n",
    "3. devuelva la cadena resultante\n",
    "\n",
    "p.ej `This dinner is not that bad!` resulta en `This dinner is good!`\n",
    "\n",
    "puedes usar la función R `gsub` de nuevo si quieres."
   ]
  },
  {
   "cell_type": "code",
   "execution_count": null,
   "metadata": {
    "collapsed": true
   },
   "outputs": [],
   "source": [
    "not_bad <- function(s) {\n",
    "    # ---- tu codigo aqui ----\n",
    "    r <- NULL\n",
    "    # ------------------------\n",
    "    return (r)\n",
    "}\n"
   ]
  },
  {
   "cell_type": "code",
   "execution_count": null,
   "metadata": {
    "collapsed": false
   },
   "outputs": [],
   "source": [
    "not_bad(\"This dinner is not that bad!\")=='This dinner is good!'\n",
    "not_bad('This tea is not hot') == 'This tea is not hot'\n",
    "not_bad(\"It's bad yet not\") == \"It's bad yet not\"\n",
    "not_bad('Make me not so bad') == 'Make me good'"
   ]
  },
  {
   "cell_type": "markdown",
   "metadata": {},
   "source": [
    "### Ejercicio 3\n",
    "\n",
    "Completa la función siguiente para que dado un entero `n` y un caracter `c` (una cadena de longitud 1) devuelva un vector con `n` caracteres en orden alfabético empezando desde `c`. Si `n` desde `c` sobrepasa el final del alfabeto ha de seguir desde el principio. Si `n` es negativo o `c` es un caracter en mayúscula o no es una letra la función ha de devolver un vector vacío.\n",
    "\n",
    "El siguiente código crea un vector vacío del tipo necesario:\n",
    "\n",
    "     r <- character()\n",
    "\n",
    "por ejemplo <br/>`lalpha (7, 'w')` resulta en `['w', 'x', 'y', 'z', 'a', 'b', 'c']`\n"
   ]
  },
  {
   "cell_type": "code",
   "execution_count": null,
   "metadata": {
    "collapsed": false
   },
   "outputs": [],
   "source": [
    "lalpha <- function(n,c) {\n",
    "    a <- \"abcdefghijklmnopqrstuvwxyz\"\n",
    "    # ---- tu codigo aqui ----\n",
    "    r <- NULL\n",
    "    # ------------------------\n",
    "    return (r)\n",
    "}"
   ]
  },
  {
   "cell_type": "code",
   "execution_count": null,
   "metadata": {
    "collapsed": false
   },
   "outputs": [],
   "source": [
    "all(lalpha (7, 'w') == c('w', 'x', 'y', 'z', 'a', 'b', 'c'))\n",
    "all(lalpha(5,'a') == c('a', 'b', 'c', 'd', 'e'))\n",
    "all(lalpha(2,'z') == c('z', 'a'))\n",
    "length(lalpha(20,'-')) == 0\n",
    "length(lalpha(-1,'x')) == 0\n"
   ]
  },
  {
   "cell_type": "markdown",
   "metadata": {},
   "source": [
    "### Ejercicio 4\n",
    "Completa la función `svm` para que devuelva una matriz de tamaño $n\\_rows \\times n\\_cols$ con todos los elementos igual a $value$ de tipo `double`. Sugerencia, usa la función `matrix` con tres argumentos (como en las Notas)\n",
    "\n",
    "_Ejemplo de ejecución_\n",
    "\n",
    "\n",
    "    svm(n_rows=3, n_cols=4, value=5)\n",
    "    \n",
    "    \n",
    "_Resultado_\n",
    "\n",
    "\n",
    "    [[ 5  5  5  5]\n",
    "     [ 5  5  5  5]\n",
    "     [ 5  5  5  5]]"
   ]
  },
  {
   "cell_type": "code",
   "execution_count": null,
   "metadata": {
    "collapsed": false
   },
   "outputs": [],
   "source": [
    "svm <- function(n_rows, n_cols, value) {\n",
    "    # ---- tu codigo aqui ----\n",
    "    r <- NULL\n",
    "    # ------------------------\n",
    "    return (r)\n",
    "}"
   ]
  },
  {
   "cell_type": "code",
   "execution_count": null,
   "metadata": {
    "collapsed": false
   },
   "outputs": [],
   "source": [
    "r = svm (2,5,3);  all(c(dim(r)==c(2,5), mean(r)==3,  sd(r)==0))\n",
    "r = svm (3,1,31); all(c(dim(r)==c(3,1), mean(r)==31, sd(r)==0))\n",
    "r = svm (1,5,2);  all(c(dim(r)==c(1,5), mean(r)==2,  sd(r)==0))\n",
    "r = svm (2,2,-3); all(c(dim(r)==c(2,2), mean(r)==-3, sd(r)==0))"
   ]
  },
  {
   "cell_type": "markdown",
   "metadata": {},
   "source": [
    "### Ejercicio 5\n",
    "\n",
    "Dadas dos matrices de igual tamaño, $A \\in \\mathbb{R}^{m\\times n}$ y $B \\in \\mathbb{R}^{m\\times n}$ en la que cada línea de cada matriz representa un vector. Cada matriz tiene por tanto $m$ vectores de $n$ elementos. \n",
    "\n",
    "Denominamos los vectores de $A$ como $a^{(0)}$, $a^{(1)}$, $... a^{(m-1)}$ y los de $B$ como $b^{(0)}$, $b^{(1)}$, $... b^{(m-1)}$ \n",
    "\n",
    "Dados dos vectores $a^{(k)}$, $b^{(k)}$ la diferencia cuadrada media entre los elementos de los dos vectores viene dada por:\n",
    "\n",
    "$$msd(a^{(k)}, b^{(k)}) = \\frac{1}{n} \\sum_{i=0}^{n} (a_{i}^{(k)} - a_{i}^{(k)})^2$$\n",
    "\n",
    "donde $a_{i}^{(k)}$ es el elemento $i$ del vector $a^{(k)}$\n",
    "\n",
    "completa la función `mmsd` para que, dadas dos matrices, devuelva una lista con la diferencia cuadrada media entre vectores correspondientes en ambas matrices. Es decir\n",
    "\n",
    "$$mmsd(A,B)=[msd(a^{(0)}, b^{(0)}), msd(a^{(1)}, b^{(1)}),..., msd(a^{(m-1)}, b^{(m-1)})]$$\n",
    "\n",
    "p.ej.\n",
    "\n",
    "    A = np.array([[1,2,5],[3,4,1]])\n",
    "    B = np.array([[0,3,0],[4,6,2]])\n",
    "    mmsd(A,B)\n",
    "    \n",
    "    > array([ 9.,  2.])"
   ]
  },
  {
   "cell_type": "code",
   "execution_count": null,
   "metadata": {
    "collapsed": false
   },
   "outputs": [],
   "source": [
    "mmsd <- function(A,B){\n",
    "    # ---- tu codigo aqui ----\n",
    "    r <- NULL\n",
    "    # ------------------------\n",
    "    return (r)\n",
    "}"
   ]
  },
  {
   "cell_type": "code",
   "execution_count": null,
   "metadata": {
    "collapsed": false
   },
   "outputs": [],
   "source": [
    "all.equal(mmsd(matrix(c(1,2,5,3,4,1), 2,3, byrow=TRUE), matrix(c(0,3,0,4,6,2),2,3,byrow=TRUE) ), c(9,2))\n",
    "all.equal(mmsd(matrix(c(1,2,5,3,4,1,6,-1,2), 3,3, byrow=TRUE), matrix(c(0,3,1,4,1,2,2.3,-3,9.2), 3,3, byrow=TRUE)),\n",
    "          c(6, 3.66666666666667, 23.1766666666667))            "
   ]
  },
  {
   "cell_type": "markdown",
   "metadata": {},
   "source": [
    "### Ejercicio 6\n",
    "\n",
    "Completa la función para que, dados dos vectores , devuelva un vector con todos los elementos de los dos vectores iniciales ordenados.\n",
    "\n",
    "\n",
    "P.ej.:\n",
    "\n",
    "    a <- c(1, 7, 8, 2, 7)\n",
    "    b <- c(5, 8, 2)\n",
    "\n",
    "    mergesort(a,b)\n",
    "    > 1, 2, 2, 5, 7, 7, 8, 8"
   ]
  },
  {
   "cell_type": "code",
   "execution_count": null,
   "metadata": {
    "collapsed": false
   },
   "outputs": [],
   "source": [
    "mergesort <- function(a,b) {\n",
    "    # ---- tu codigo aqui ----\n",
    "    r <- NULL\n",
    "    # ------------------------\n",
    "    return (r)\n",
    "}\n"
   ]
  },
  {
   "cell_type": "code",
   "execution_count": null,
   "metadata": {
    "collapsed": false
   },
   "outputs": [],
   "source": [
    "all.equal(mergesort(c(4,2,4,3,3),c(9,6,7)), c(2, 3, 3, 4, 4, 6, 7, 9) ) \n",
    "all.equal(mergesort(c(7,3), c(5,4,0,1)), c(0,1,3,4,5,7))"
   ]
  },
  {
   "cell_type": "markdown",
   "metadata": {},
   "source": [
    "### Ejercicio 7\n",
    "\n",
    "dado un vector `keys` de `n` cadenas (_strings_) y un vector `values` de `n` números, completa la función siguiente para que devuelva un vector con los $values$ en el cual los nombres de cada elemento corresponden al vector de cadenas.\n",
    "\n",
    "Si el vector `values` tiene menos elementos que el vector `keys`, las `keys` correspondientes a los valores faltantes se asociarán a `NA`.\n",
    "\n",
    "P.ej:\n",
    "\n",
    "    mdict ([\"uno\", \"dos\", \"tres\"], [10,20])\n",
    "    > {'dos': 20, 'tres': None, 'uno': 10})"
   ]
  },
  {
   "cell_type": "code",
   "execution_count": null,
   "metadata": {
    "collapsed": false
   },
   "outputs": [],
   "source": [
    "mdict <- function(keys, values) {\n",
    "    # ---- tu codigo aqui ----\n",
    "    r <- NULL\n",
    "    # ------------------------\n",
    "    return (r)\n",
    "}"
   ]
  },
  {
   "cell_type": "code",
   "execution_count": null,
   "metadata": {
    "collapsed": false
   },
   "outputs": [],
   "source": [
    "all.equal(mdict(c(\"uno\", \"dos\", \"tres\"), c(10,20,30)) , c(uno=10, dos=20, tres=30))\n",
    "all.equal(mdict(c(\"uno\", \"dos\", \"tres\"), c(10,20)) , c(uno=10, dos=20, tres=NA))\n",
    "all.equal(mdict(c(\"uno\", \"dos\", \"tres\"), c(10,20, 30, 40)) , c(uno=10, dos=20, tres=30))"
   ]
  },
  {
   "cell_type": "code",
   "execution_count": null,
   "metadata": {
    "collapsed": true
   },
   "outputs": [],
   "source": []
  },
  {
   "cell_type": "markdown",
   "metadata": {},
   "source": [
    "** LOS SIGUIENTES EJERCIOS SE REFIEREN AL SIGUIENTE `DataFrame` **"
   ]
  },
  {
   "cell_type": "code",
   "execution_count": 1,
   "metadata": {
    "collapsed": false
   },
   "outputs": [
    {
     "data": {
      "text/html": [
       "<table>\n",
       "<thead><tr><th></th><th scope=col>fecha</th><th scope=col>factura</th><th scope=col>pais</th><th scope=col>importe</th></tr></thead>\n",
       "<tbody>\n",
       "\t<tr><th scope=row>1</th><td>7/26/2015</td><td>2242</td><td>CZ</td><td>1064.63</td></tr>\n",
       "\t<tr><th scope=row>2</th><td>11/9/2014</td><td>2482</td><td>PL</td><td>1019.43</td></tr>\n",
       "\t<tr><th scope=row>3</th><td>10/7/2015</td><td>1403</td><td>MA</td><td>1943.74</td></tr>\n",
       "\t<tr><th scope=row>4</th><td>5/19/2015</td><td>2503</td><td>FR</td><td>212.74</td></tr>\n",
       "\t<tr><th scope=row>5</th><td>6/20/2015</td><td>1440</td><td>FR</td><td>515.45</td></tr>\n",
       "\t<tr><th scope=row>6</th><td>1/6/2015</td><td>1649</td><td>TN</td><td>789.68</td></tr>\n",
       "</tbody>\n",
       "</table>\n"
      ],
      "text/latex": [
       "\\begin{tabular}{r|llll}\n",
       "  & fecha & factura & pais & importe\\\\\n",
       "\\hline\n",
       "\t1 & 7/26/2015 & 2242 & CZ & 1064.63\\\\\n",
       "\t2 & 11/9/2014 & 2482 & PL & 1019.43\\\\\n",
       "\t3 & 10/7/2015 & 1403 & MA & 1943.74\\\\\n",
       "\t4 & 5/19/2015 & 2503 & FR & 212.74\\\\\n",
       "\t5 & 6/20/2015 & 1440 & FR & 515.45\\\\\n",
       "\t6 & 1/6/2015 & 1649 & TN & 789.68\\\\\n",
       "\\end{tabular}\n"
      ],
      "text/plain": [
       "      fecha factura pais importe\n",
       "1 7/26/2015    2242   CZ 1064.63\n",
       "2 11/9/2014    2482   PL 1019.43\n",
       "3 10/7/2015    1403   MA 1943.74\n",
       "4 5/19/2015    2503   FR  212.74\n",
       "5 6/20/2015    1440   FR  515.45\n",
       "6  1/6/2015    1649   TN  789.68"
      ]
     },
     "execution_count": 1,
     "metadata": {},
     "output_type": "execute_result"
    }
   ],
   "source": [
    "d <- read.csv(\"data/facturas.csv\")\n",
    "head(d)"
   ]
  },
  {
   "cell_type": "markdown",
   "metadata": {},
   "source": [
    "### Ejercicio 8\n",
    "\n",
    "Obtén un vector en el cual cada elementoes el número de veces que un país aparece en la columna `pais` y las etiquetas de la lista son los códigos del pais. \n",
    "\n",
    "Guarda el valor en la variable `cn`"
   ]
  },
  {
   "cell_type": "code",
   "execution_count": null,
   "metadata": {
    "collapsed": false
   },
   "outputs": [],
   "source": [
    "cn = numeric()\n",
    "\n",
    "# ---- tu codigo aqui ----"
   ]
  },
  {
   "cell_type": "code",
   "execution_count": null,
   "metadata": {
    "collapsed": false
   },
   "outputs": [],
   "source": [
    "cn[\"AR\"]==3\n",
    "cn[\"CN\"]==32\n",
    "cn[\"BR\"]==9\n",
    "cn[\"ID\"]==32\n",
    "cn[\"RU\"]==15\n",
    "sum(cn)==200\n",
    "length(unique(substr(names(cn), 1,1))) == 23"
   ]
  },
  {
   "cell_type": "markdown",
   "metadata": {},
   "source": [
    "### Ejercicio 9\n",
    "\n",
    "Obtén un vector con el número de veces que cada mes aparece en la columna `fecha`. Las etiquetas han de ser los números enteros del 1 al 12 (no como _strings_).\n",
    "\n",
    "Recomendaciones:\n",
    "\n",
    "- Usa `as.character(d$fecha)` para obtener la columna fecha como una lista de strings.\n",
    "\n",
    "- Usa la función `strsplit` para partir una cadena por un caracter separado.\n",
    "\n",
    "- En una lista de listas, usa `sapply(s, function(x) x[1])` para extraer el primer elemento de cada lista.\n"
   ]
  },
  {
   "cell_type": "code",
   "execution_count": null,
   "metadata": {
    "collapsed": false
   },
   "outputs": [],
   "source": [
    "r <- numeric()\n",
    "\n",
    "# ---- tu codigo aqui ----"
   ]
  },
  {
   "cell_type": "code",
   "execution_count": null,
   "metadata": {
    "collapsed": false
   },
   "outputs": [],
   "source": [
    "r[names(r)==10] == 21\n",
    "r[names(r)==11] == 15\n",
    "r[names(r)==12] == 19\n",
    "sum(r) == 200"
   ]
  },
  {
   "cell_type": "code",
   "execution_count": null,
   "metadata": {
    "collapsed": true
   },
   "outputs": [],
   "source": []
  }
 ],
 "metadata": {
  "kernelspec": {
   "display_name": "R",
   "language": "R",
   "name": "ir"
  },
  "language_info": {
   "codemirror_mode": "r",
   "file_extension": ".r",
   "mimetype": "text/x-r-source",
   "name": "R",
   "pygments_lexer": "r",
   "version": "3.2.2"
  }
 },
 "nbformat": 4,
 "nbformat_minor": 0
}
