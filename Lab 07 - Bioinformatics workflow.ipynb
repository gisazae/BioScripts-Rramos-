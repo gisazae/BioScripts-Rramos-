{
 "cells": [
  {
   "cell_type": "markdown",
   "metadata": {},
   "source": [
    "## Ejercicio 1\n",
    "\n",
    "Sigue los siguientes pasos:\n",
    "\n",
    "1. Lee las 10 primeras secuencias del archivo `ls_orchid.fasta` (obtenido en la sección 2.4 del lab 05) y almacénalas en una lista en la variable `seqs`. El siguiente print te ayudará a saber si tu código es correcto.\n",
    "\n",
    "       > print len(seqs), type(seqs), type(seqs[0])\n",
    "       10 <type 'list'> <class 'Bio.SeqRecord.SeqRecord'>\n",
    "\n",
    "- Escribe el contenido de la variable `seqs` en formato FASTA en un fichero llamado `data/myseqs.fasta`. Usa `help(SeqIO.write)` para ver cómo se usa la función para escribir archivos FASTA.\n",
    "\n"
   ]
  },
  {
   "cell_type": "code",
   "execution_count": 91,
   "metadata": {
    "collapsed": false
   },
   "outputs": [
    {
     "name": "stdout",
     "output_type": "stream",
     "text": [
      "10 <type 'list'> <class 'Bio.SeqRecord.SeqRecord'>\n"
     ]
    }
   ],
   "source": [
    "import numpy as np\n",
    "import pandas as pd\n",
    "import matplotlib.pyplot as plt\n",
    "from Bio import Phylo, AlignIO, SeqIO\n",
    "%matplotlib inline\n",
    "\n",
    "\n",
    "seqs = ## TU CODIGO AQUI\n",
    "\n",
    "print len(seqs), type(seqs), type(seqs[0])"
   ]
  },
  {
   "cell_type": "code",
   "execution_count": 92,
   "metadata": {
    "collapsed": false
   },
   "outputs": [
    {
     "name": "stdout",
     "output_type": "stream",
     "text": [
      "Help on function write in module Bio.SeqIO:\n",
      "\n",
      "write(sequences, handle, format)\n",
      "    Write complete set of sequences to a file.\n",
      "    \n",
      "        - sequences - A list (or iterator) of SeqRecord objects, or (if using\n",
      "          Biopython 1.54 or later) a single SeqRecord.\n",
      "        - handle    - File handle object to write to, or filename as string\n",
      "          (note older versions of Biopython only took a handle).\n",
      "        - format    - lower case string describing the file format to write.\n",
      "    \n",
      "    You should close the handle after calling this function.\n",
      "    \n",
      "    Returns the number of records written (as an integer).\n",
      "\n"
     ]
    }
   ],
   "source": [
    "help(SeqIO.write)"
   ]
  },
  {
   "cell_type": "code",
   "execution_count": null,
   "metadata": {
    "collapsed": false
   },
   "outputs": [],
   "source": []
  },
  {
   "cell_type": "code",
   "execution_count": 94,
   "metadata": {
    "collapsed": false
   },
   "outputs": [
    {
     "name": "stdout",
     "output_type": "stream",
     "text": [
      ">gi|2765658|emb|Z78533.1|CIZ78533 C.irapeanum 5.8S rRNA gene and ITS1 and ITS2 DNA\r\n",
      "CGTAACAAGGTTTCCGTAGGTGAACCTGCGGAAGGATCATTGATGAGACCGTGGAATAAA\r\n",
      "CGATCGAGTGAATCCGGAGGACCGGTGTACTCAGCTCACCGGGGGCATTGCTCCCGTGGT\r\n",
      "GACCCTGATTTGTTGTTGGGCCGCCTCGGGAGCGTCCATGGCGGGTTTGAACCTCTAGCC\r\n",
      "CGGCGCAGTTTGGGCGCCAAGCCATATGAAAGCATCACCGGCGAATGGCATTGTCTTCCC\r\n",
      "CAAAACCCGGAGCGGCGGCGTGCTGTCGCGTGCCCAATGAATTTTGATGACTCTCGCAAA\r\n",
      "CGGGAATCTTGGCTCTTTGCATCGGATGGAAGGACGCAGCGAAATGCGATAAGTGGTGTG\r\n",
      "AATTGCAAGATCCCGTGAACCATCGAGTCTTTTGAACGCAAGTTGCGCCCGAGGCCATCA\r\n",
      "GGCTAAGGGCACGCCTGCTTGGGCGTCGCGCTTCGTCTCTCTCCTGCCAATGCTTGCCCG\r\n",
      "GCATACAGCCAGGCCGGCGTGGTGCGGATGTGAAAGATTGGCCCCTTGTGCCTAGGTGCG\r\n"
     ]
    }
   ],
   "source": [
    "!head data/myseqs.fasta"
   ]
  },
  {
   "cell_type": "markdown",
   "metadata": {},
   "source": [
    "## Ejercicio 2\n",
    "\n",
    "Sigue los siguientes pasos:\n",
    "\n",
    "1. Llama a CLUSTALW2 con la entrada el fichero `data/myseqs.fasta` y salida `data/myseqs-clustal.phy`, con formato de salida `PHYLIP`\n",
    "\n",
    "2. Dibuja el albol filogenético del alineamiento obtenido (con `Phylo.draw_graphviz`)\n"
   ]
  },
  {
   "cell_type": "code",
   "execution_count": null,
   "metadata": {
    "collapsed": false
   },
   "outputs": [],
   "source": []
  },
  {
   "cell_type": "code",
   "execution_count": null,
   "metadata": {
    "collapsed": false,
    "scrolled": false
   },
   "outputs": [],
   "source": []
  },
  {
   "cell_type": "code",
   "execution_count": null,
   "metadata": {
    "collapsed": false,
    "scrolled": true
   },
   "outputs": [],
   "source": []
  },
  {
   "cell_type": "markdown",
   "metadata": {},
   "source": [
    "## Ejercicio 3\n",
    "\n",
    "Este ejercicio es en `R`:\n",
    "    \n",
    "1. Lee el fichero `data/myseqs.fasta` creado anteriormente en la variable `myseqs` de R\n",
    "\n",
    "2. Crea un dotplot de las secuencias primera y tercera. (Puedes ver [aquí](https://a-little-book-of-r-for-bioinformatics.readthedocs.org/en/latest/src/chapter4.html) cómo se hace)"
   ]
  },
  {
   "cell_type": "code",
   "execution_count": null,
   "metadata": {
    "collapsed": false
   },
   "outputs": [],
   "source": []
  },
  {
   "cell_type": "code",
   "execution_count": null,
   "metadata": {
    "collapsed": false
   },
   "outputs": [],
   "source": []
  },
  {
   "cell_type": "markdown",
   "metadata": {
    "collapsed": false
   },
   "source": [
    "## Ejercicio 4\n",
    "\n",
    "Realiza el mismo alineamiento anterior pero con **MUSCLE** y compara el resultado obtenido por **CLUSTALW2**  de la secuencia con GI `2765655` imprimiendo ambos alineamientos de forma análoga a lo mostrado en las Notas."
   ]
  },
  {
   "cell_type": "code",
   "execution_count": null,
   "metadata": {
    "collapsed": false
   },
   "outputs": [],
   "source": []
  },
  {
   "cell_type": "code",
   "execution_count": null,
   "metadata": {
    "collapsed": false,
    "scrolled": false
   },
   "outputs": [],
   "source": []
  },
  {
   "cell_type": "markdown",
   "metadata": {},
   "source": [
    "\n",
    "## Ejercicio 5\n",
    "\n",
    "Ejecuta de nuevo **clustalw2**  y obtén la media de los _scores_ de las secuencias alineadas. Es decir, de los mensajes tipo:\n",
    "\n",
    "    Sequences (6:10) Aligned. Score:  80\n",
    "    \n",
    "La media debería de darte 82.56\n",
    "    \n",
    "Para ello usa el magic\n",
    "\n",
    "    %%script bash --out out --err err\n",
    "\n",
    "Con la siguiente instrucción tienes una lista en Python con las líneas de la salida:\n",
    "\n",
    "    lines = out.split(\"\\n\")\n",
    "\n",
    "y, dada una línea, con la siguiente instrucción obtienes las _palabras_ de la línea:\n",
    "\n",
    "    tokens = line.split()\n",
    "\n",
    "por ejemplo, si una línea tiene el siguiente contenido:\n",
    "\n",
    "    Sequences (6:10) Aligned. Score:  80\n",
    "    \n",
    "la variable `tokens` tendría:\n",
    "\n",
    "    [\"Sequences\", \"(6:10)\", \"Aligned.\", \"Score:\",  \"80\"]\n",
    "\n"
   ]
  },
  {
   "cell_type": "code",
   "execution_count": 103,
   "metadata": {
    "collapsed": true
   },
   "outputs": [],
   "source": []
  },
  {
   "cell_type": "code",
   "execution_count": null,
   "metadata": {
    "collapsed": false
   },
   "outputs": [],
   "source": [
    "\n"
   ]
  },
  {
   "cell_type": "code",
   "execution_count": null,
   "metadata": {
    "collapsed": true
   },
   "outputs": [],
   "source": []
  }
 ],
 "metadata": {
  "kernelspec": {
   "display_name": "Python 2",
   "language": "python",
   "name": "python2"
  },
  "language_info": {
   "codemirror_mode": {
    "name": "ipython",
    "version": 2
   },
   "file_extension": ".py",
   "mimetype": "text/x-python",
   "name": "python",
   "nbconvert_exporter": "python",
   "pygments_lexer": "ipython2",
   "version": "2.7.10"
  }
 },
 "nbformat": 4,
 "nbformat_minor": 0
}
