{
 "cells": [
  {
   "cell_type": "markdown",
   "metadata": {},
   "source": [
    "## Ejercicio 1\n",
    "\n",
    "Sigue los siguientes pasos:\n",
    "\n",
    "1. Lee las 10 primeras secuencias del archivo `ls_orchid.fasta` (obtenido en la sección 2.4 del lab 05) y almacénalas en una lista en la variable `seqs`. El siguiente print te ayudará a saber si tu código es correcto.\n",
    "\n",
    "       > print len(seqs), type(seqs), type(seqs[0])\n",
    "       10 <type 'list'> <class 'Bio.SeqRecord.SeqRecord'>\n",
    "\n",
    "- Escribe el contenido de la variable `seqs` en formato FASTA en un fichero llamado `data/myseqs.fasta`. Usa `help(SeqIO.write)` para ver cómo se usa la función para escribir archivos FASTA.\n",
    "\n"
   ]
  },
  {
   "cell_type": "code",
   "execution_count": 91,
   "metadata": {
    "collapsed": false
   },
   "outputs": [
    {
     "name": "stdout",
     "output_type": "stream",
     "text": [
      "10 <type 'list'> <class 'Bio.SeqRecord.SeqRecord'>\n"
     ]
    }
   ],
   "source": [
    "import numpy as np\n",
    "import pandas as pd\n",
    "import matplotlib.pyplot as plt\n",
    "from Bio import Phylo, AlignIO, SeqIO\n",
    "%matplotlib inline\n",
    "\n",
    "\n",
    "seqs = [i for i in SeqIO.parse(\"data/ls_orchid.fasta\", \"fasta\")][:10]\n",
    "print len(seqs), type(seqs), type(seqs[0])"
   ]
  },
  {
   "cell_type": "code",
   "execution_count": 92,
   "metadata": {
    "collapsed": false
   },
   "outputs": [
    {
     "name": "stdout",
     "output_type": "stream",
     "text": [
      "Help on function write in module Bio.SeqIO:\n",
      "\n",
      "write(sequences, handle, format)\n",
      "    Write complete set of sequences to a file.\n",
      "    \n",
      "        - sequences - A list (or iterator) of SeqRecord objects, or (if using\n",
      "          Biopython 1.54 or later) a single SeqRecord.\n",
      "        - handle    - File handle object to write to, or filename as string\n",
      "          (note older versions of Biopython only took a handle).\n",
      "        - format    - lower case string describing the file format to write.\n",
      "    \n",
      "    You should close the handle after calling this function.\n",
      "    \n",
      "    Returns the number of records written (as an integer).\n",
      "\n"
     ]
    }
   ],
   "source": [
    "help(SeqIO.write)"
   ]
  },
  {
   "cell_type": "code",
   "execution_count": 93,
   "metadata": {
    "collapsed": false
   },
   "outputs": [
    {
     "data": {
      "text/plain": [
       "10"
      ]
     },
     "execution_count": 93,
     "metadata": {},
     "output_type": "execute_result"
    }
   ],
   "source": [
    "SeqIO.write(seqs, \"data/myseqs.fasta\", \"fasta\")"
   ]
  },
  {
   "cell_type": "code",
   "execution_count": 94,
   "metadata": {
    "collapsed": false
   },
   "outputs": [
    {
     "name": "stdout",
     "output_type": "stream",
     "text": [
      ">gi|2765658|emb|Z78533.1|CIZ78533 C.irapeanum 5.8S rRNA gene and ITS1 and ITS2 DNA\r\n",
      "CGTAACAAGGTTTCCGTAGGTGAACCTGCGGAAGGATCATTGATGAGACCGTGGAATAAA\r\n",
      "CGATCGAGTGAATCCGGAGGACCGGTGTACTCAGCTCACCGGGGGCATTGCTCCCGTGGT\r\n",
      "GACCCTGATTTGTTGTTGGGCCGCCTCGGGAGCGTCCATGGCGGGTTTGAACCTCTAGCC\r\n",
      "CGGCGCAGTTTGGGCGCCAAGCCATATGAAAGCATCACCGGCGAATGGCATTGTCTTCCC\r\n",
      "CAAAACCCGGAGCGGCGGCGTGCTGTCGCGTGCCCAATGAATTTTGATGACTCTCGCAAA\r\n",
      "CGGGAATCTTGGCTCTTTGCATCGGATGGAAGGACGCAGCGAAATGCGATAAGTGGTGTG\r\n",
      "AATTGCAAGATCCCGTGAACCATCGAGTCTTTTGAACGCAAGTTGCGCCCGAGGCCATCA\r\n",
      "GGCTAAGGGCACGCCTGCTTGGGCGTCGCGCTTCGTCTCTCTCCTGCCAATGCTTGCCCG\r\n",
      "GCATACAGCCAGGCCGGCGTGGTGCGGATGTGAAAGATTGGCCCCTTGTGCCTAGGTGCG\r\n"
     ]
    }
   ],
   "source": [
    "!head data/myseqs.fasta"
   ]
  },
  {
   "cell_type": "markdown",
   "metadata": {},
   "source": [
    "## Ejercicio 2\n",
    "\n",
    "Sigue los siguientes pasos:\n",
    "\n",
    "1. Llama a CLUSTALW2 con la entrada el fichero `data/myseqs.fasta` y salida `data/myseqs-clustal.phy`, con formato de salida `PHYLIP`\n",
    "\n",
    "2. Dibuja el albol filogenético del alineamiento obtenido (con `Phylo.draw_graphviz`)\n"
   ]
  },
  {
   "cell_type": "code",
   "execution_count": 95,
   "metadata": {
    "collapsed": false
   },
   "outputs": [
    {
     "name": "stdout",
     "output_type": "stream",
     "text": [
      "\n",
      "\n",
      "\n",
      " CLUSTAL 2.1 Multiple Sequence Alignments\n",
      "\n",
      "\n",
      "Sequence format is Pearson\n",
      "Sequence 1: gi|2765658|emb|Z78533.1|CIZ78533   740 bp\n",
      "Sequence 2: gi|2765657|emb|Z78532.1|CCZ78532   753 bp\n",
      "Sequence 3: gi|2765656|emb|Z78531.1|CFZ78531   748 bp\n",
      "Sequence 4: gi|2765655|emb|Z78530.1|CMZ78530   744 bp\n",
      "Sequence 5: gi|2765654|emb|Z78529.1|CLZ78529   733 bp\n",
      "Sequence 6: gi|2765652|emb|Z78527.1|CYZ78527   718 bp\n",
      "Sequence 7: gi|2765651|emb|Z78526.1|CGZ78526   730 bp\n",
      "Sequence 8: gi|2765650|emb|Z78525.1|CAZ78525   704 bp\n",
      "Sequence 9: gi|2765649|emb|Z78524.1|CFZ78524   740 bp\n",
      "Sequence 10: gi|2765648|emb|Z78523.1|CHZ78523   709 bp\n",
      "Start of Pairwise alignments\n",
      "Aligning...\n",
      "\n",
      "Sequences (1:2) Aligned. Score:  81\n",
      "Sequences (1:3) Aligned. Score:  82\n",
      "Sequences (1:4) Aligned. Score:  78\n",
      "Sequences (1:5) Aligned. Score:  76\n",
      "Sequences (1:6) Aligned. Score:  82\n",
      "Sequences (1:7) Aligned. Score:  83\n",
      "Sequences (1:8) Aligned. Score:  79\n",
      "Sequences (1:9) Aligned. Score:  79\n",
      "Sequences (1:10) Aligned. Score:  78\n",
      "Sequences (2:3) Aligned. Score:  83\n",
      "Sequences (2:4) Aligned. Score:  82\n",
      "Sequences (2:5) Aligned. Score:  81\n",
      "Sequences (2:6) Aligned. Score:  86\n",
      "Sequences (2:7) Aligned. Score:  86\n",
      "Sequences (2:8) Aligned. Score:  83\n",
      "Sequences (2:9) Aligned. Score:  85\n",
      "Sequences (2:10) Aligned. Score:  83\n",
      "Sequences (3:4) Aligned. Score:  81\n",
      "Sequences (3:5) Aligned. Score:  81\n",
      "Sequences (3:6) Aligned. Score:  84\n",
      "Sequences (3:7) Aligned. Score:  84\n",
      "Sequences (3:8) Aligned. Score:  82\n",
      "Sequences (3:9) Aligned. Score:  83\n",
      "Sequences (3:10) Aligned. Score:  80\n",
      "Sequences (4:5) Aligned. Score:  94\n",
      "Sequences (4:6) Aligned. Score:  83\n",
      "Sequences (4:7) Aligned. Score:  83\n",
      "Sequences (4:8) Aligned. Score:  82\n",
      "Sequences (4:9) Aligned. Score:  83\n",
      "Sequences (4:10) Aligned. Score:  81\n",
      "Sequences (5:6) Aligned. Score:  81\n",
      "Sequences (5:7) Aligned. Score:  82\n",
      "Sequences (5:8) Aligned. Score:  84\n",
      "Sequences (5:9) Aligned. Score:  82\n",
      "Sequences (5:10) Aligned. Score:  79\n",
      "Sequences (6:7) Aligned. Score:  98\n",
      "Sequences (6:8) Aligned. Score:  82\n",
      "Sequences (6:9) Aligned. Score:  86\n",
      "Sequences (6:10) Aligned. Score:  80\n",
      "Sequences (7:8) Aligned. Score:  83\n",
      "Sequences (7:9) Aligned. Score:  86\n",
      "Sequences (7:10) Aligned. Score:  82\n",
      "Sequences (8:9) Aligned. Score:  82\n",
      "Sequences (8:10) Aligned. Score:  77\n",
      "Sequences (9:10) Aligned. Score:  83\n",
      "Guide tree file created:   [data/myseqs.dnd]\n",
      "\n",
      "There are 9 groups\n",
      "Start of Multiple Alignment\n",
      "\n",
      "Aligning...\n",
      "Group 1: Sequences:   2      Score:13183\n",
      "Group 2: Sequences:   3      Score:11895\n",
      "Group 3: Sequences:   2      Score:11146\n",
      "Group 4: Sequences:   5      Score:11269\n",
      "Group 5: Sequences:   2      Score:13027\n",
      "Group 6: Sequences:   3      Score:11404\n",
      "Group 7: Sequences:   8      Score:11057\n",
      "Group 8: Sequences:   2      Score:11419\n",
      "Group 9: Sequences:  10      Score:11153\n",
      "Alignment Score 173101\n",
      "\n",
      "\n",
      "WARNING: Truncating sequence names to 10 characters for PHYLIP output.\n",
      "\n",
      "\n",
      "PHYLIP-Alignment file created   [data/myseqs-clustal.phy]\n",
      "\n"
     ]
    }
   ],
   "source": [
    "!clustalw2 -INFILE=data/myseqs.fasta -OUTFILE=data/myseqs-clustal.phy -OUTPUT=PHYLIP"
   ]
  },
  {
   "cell_type": "code",
   "execution_count": 96,
   "metadata": {
    "collapsed": false,
    "scrolled": false
   },
   "outputs": [],
   "source": [
    "tree = Phylo.read('data/myseqs.dnd', 'newick')"
   ]
  },
  {
   "cell_type": "code",
   "execution_count": 97,
   "metadata": {
    "collapsed": false,
    "scrolled": true
   },
   "outputs": [
    {
     "data": {
      "image/png": "[encoded data removed]",
      "text/plain": [
       "<matplotlib.figure.Figure at 0x7f1b75510b90>"
      ]
     },
     "metadata": {},
     "output_type": "display_data"
    }
   ],
   "source": [
    "Phylo.draw_graphviz(tree)"
   ]
  },
  {
   "cell_type": "markdown",
   "metadata": {},
   "source": [
    "## Ejercicio 3\n",
    "\n",
    "Este ejercicio es en `R`:\n",
    "    \n",
    "1. Lee el fichero `data/myseqs.fasta` creado anteriormente en la variable `myseqs` de R\n",
    "\n",
    "2. Crea un dotplot de las secuencias primera y tercera. (Puedes ver [aquí](https://a-little-book-of-r-for-bioinformatics.readthedocs.org/en/latest/src/chapter4.html) cómo se hace)"
   ]
  },
  {
   "cell_type": "code",
   "execution_count": 98,
   "metadata": {
    "collapsed": false
   },
   "outputs": [
    {
     "data": {
      "text/plain": [
       "[1] 10\n"
      ]
     },
     "metadata": {},
     "output_type": "display_data"
    }
   ],
   "source": [
    "%%R\n",
    "myseqs <- read.fasta(file = \"data/myseqs.fasta\")\n",
    "length(myseqs)"
   ]
  },
  {
   "cell_type": "code",
   "execution_count": 99,
   "metadata": {
    "collapsed": false
   },
   "outputs": [
    {
     "data": {
      "image/png": "[encoded data removed]"
     },
     "metadata": {},
     "output_type": "display_data"
    }
   ],
   "source": [
    "%%R\n",
    "dotPlot(myseqs[[1]], myseqs[[3]])"
   ]
  },
  {
   "cell_type": "markdown",
   "metadata": {
    "collapsed": false
   },
   "source": [
    "## Ejercicio 4\n",
    "\n",
    "Realiza el mismo alineamiento anterior pero con **MUSCLE** y compara el resultado obtenido por **CLUSTALW2**  de la secuencia con GI `2765655` imprimiendo ambos alineamientos de forma análoga a lo mostrado en las Notas."
   ]
  },
  {
   "cell_type": "code",
   "execution_count": 101,
   "metadata": {
    "collapsed": false
   },
   "outputs": [
    {
     "name": "stdout",
     "output_type": "stream",
     "text": [
      "\n",
      "MUSCLE v3.8.31 by Robert C. Edgar\n",
      "\n",
      "http://www.drive5.com/muscle\n",
      "This software is donated to the public domain.\n",
      "Please cite: Edgar, R.C. Nucleic Acids Res 32(5), 1792-97.\n",
      "\n",
      "myseqs 10 seqs, max length 753, avg  length 731\n",
      "00:00:00     10 MB(1%)  Iter   1  100.00%  K-mer dist pass 1\n",
      "00:00:00     10 MB(1%)  Iter   1  100.00%  K-mer dist pass 2\n",
      "00:00:00     17 MB(2%)  Iter   1  100.00%  Align node\n",
      "00:00:00     17 MB(2%)  Iter   1  100.00%  Root alignment\n",
      "00:00:00     17 MB(2%)  Iter   2  100.00%  Refine tree\n",
      "00:00:00     17 MB(2%)  Iter   2  100.00%  Root alignment\n",
      "00:00:00     17 MB(2%)  Iter   2  100.00%  Root alignment\n",
      "00:00:00     17 MB(2%)  Iter   3  100.00%  Refine biparts\n",
      "00:00:00     17 MB(2%)  Iter   4  100.00%  Refine biparts\n"
     ]
    }
   ],
   "source": [
    " !muscle -in data/myseqs.fasta -phyiout data/myseqs-muscle.phy "
   ]
  },
  {
   "cell_type": "code",
   "execution_count": 102,
   "metadata": {
    "collapsed": false,
    "scrolled": false
   },
   "outputs": [
    {
     "name": "stdout",
     "output_type": "stream",
     "text": [
      "m:  CGTAACAAGGTTTCCGTAGGTGAACCTGCGGAAGGATCATTGTTGAAACAACATAATAAACGATTGAGTGAATCTGGAGGACTTGTGGTAATTTGGCTCGCTA-GGGATATCCTTTTGTGGTGACCATGATTTGTCATTGGGCCTCATTGAGAGCTTTCATGGCGGGTTTGAACCTCTAGCACGGTCCAGTTT--GCACCAAGGTATATA-AAGAATCACCGATGAATGACATTATTGCCCC-ACACAACGTCGGAGGTGTGGTGTGTTAATG--TTCATTC-CAATGAA--TTTTGATGACTCTCGGCAGACGGATATCTTGACTC-TTGCAT-CGATGAA-GAACGCACCGAAATGTGATAAGTGGTGTGAATTGCAGAATCCCGTGAACCATCGAGTC-TTTGAACGCAAGTTGCGCCCGAGGCCATCAGGCTAAGGGCACGCCTGCCTGGGCGTCGTATGTTTTATCTCTCCTTCCAATGCTTGTCCAGCATATAGCTAGGCCATCATTGTGTGGATGTGAAAGATTGGCCCCTTGTGCTTAGGTGCGGTGGGTCTAAGGATATGTGTTTTGATGGTCTGAAACTTGGCAAGAGGTGGA-GGATGCTGGCAGCCGCAAGGCTATTGTTTGAATCCCCCATGTTGTCATG-TTTGTTGGGCCTATAGAACAACTTGTTTGGA-CCCTAATTAA-GGCAAAACAATCCTTGGGTGGTTGATTTCCAATCAGA-TGCGACCCCA-GTCAGG--GGGCCACCCCAT----------\n",
      "c:  CGTAACAAGGTTTCCGTAGGTGAACCTGCGGAAGGATCATTGTTGAAACAACATAATAAACGATTGAGTGAATCTGGAGGACTTGTGGTAATTTGGCTCGCT-AGGGATATCCTTTTGTGGTGACCATGATTTGTCATTGGGCCTCATTGAGAGCTTTCATGGCGGGTTTGAACCTCTAGCACGGTCCAGTTT--GCACCAAGGTATATAAA-GAATCACCGATGAATGACATTATTGCCCCACACAACGTCGGAGGTGTGGTGTGTTAATGTTCATTCC-AATGAATT-TT-GATGACTCTCGGCAGACGGATATCTTGACTCTTGCATCG-ATGAAGAA-CGCACCGAAATGTGATAAGTGGTGTGAATTGCAGAATCCCGTGAACCATCGAGTCTTT-GAACGCAAGTTGCGCCCGAGGCCATCAGGCTAAGGGCACGCCTGCCTGGGCGTCGTATGTTTTATCTCTCCTTCCAATGCTTGTCCAGCATATAGCTAGGCCATCATTGTGTGGATGTGAAAGATTGGCCCCTTGTGCTTAGGTGCGGTGGGTCTAAGGATATGTGTTTTGATGGTCTGAAACTTGGCAAGAGGTGGA-GGATGCTGGCAGCCGCAAGGCTATTGTTTGAATCCCCCATGTTGTCATGTTTGT-TGGGCCTATAGAACAACTTGTTTGGACCCT-AATTAAG-GCAAAACAATCCTTGGGTGGTTGATTTCCAATCAGATGCGACCCCAG-TCAG-GGGG-CCACCCCAT----------\n"
     ]
    }
   ],
   "source": [
    "align_m = AlignIO.read(open(\"data/myseqs-muscle.phy\", \"rU\"), \"phylip\")\n",
    "align_c = AlignIO.read(open(\"data/myseqs-clustal.phy\", \"rU\"), \"phylip\")\n",
    "\n",
    "for rm in align_m:\n",
    "    if rm.id==\"gi|2765655\":\n",
    "        print \"m: \", rm.seq\n",
    "\n",
    "for rm in align_c:\n",
    "    if rm.id==\"gi|2765655\":\n",
    "        print \"c: \", rm.seq\n"
   ]
  },
  {
   "cell_type": "markdown",
   "metadata": {},
   "source": [
    "\n",
    "## Ejercicio 5\n",
    "\n",
    "Ejecuta de nuevo **clustalw2**  y obtén la media de los _scores_ de las secuencias alineadas. Es decir, de los mensajes tipo:\n",
    "\n",
    "    Sequences (6:10) Aligned. Score:  80\n",
    "    \n",
    "La media debería de darte 82.56\n",
    "    \n",
    "Para ello usa el magic\n",
    "\n",
    "    %%script bash --out out --err err\n",
    "\n",
    "Con la siguiente instrucción tienes una lista en Python con las líneas de la salida:\n",
    "\n",
    "    lines = out.split(\"\\n\")\n",
    "\n",
    "y, dada una línea, con la siguiente instrucción obtienes las _palabras_ de la línea:\n",
    "\n",
    "    tokens = line.split()\n",
    "\n",
    "por ejemplo, si una línea tiene el siguiente contenido:\n",
    "\n",
    "    Sequences (6:10) Aligned. Score:  80\n",
    "    \n",
    "la variable `tokens` tendría:\n",
    "\n",
    "    [\"Sequences\", \"(6:10)\", \"Aligned.\", \"Score:\",  \"80\"]\n",
    "\n"
   ]
  },
  {
   "cell_type": "code",
   "execution_count": 103,
   "metadata": {
    "collapsed": true
   },
   "outputs": [],
   "source": [
    "%%script bash --out out --err err\n",
    "clustalw2 -INFILE=data/myseqs.fasta -OUTFILE=data/myseqs-clustal.phy -OUTPUT=PHYLIP"
   ]
  },
  {
   "cell_type": "code",
   "execution_count": 104,
   "metadata": {
    "collapsed": false
   },
   "outputs": [
    {
     "name": "stdout",
     "output_type": "stream",
     "text": [
      "82.5555555556\n"
     ]
    }
   ],
   "source": [
    "scores = []\n",
    "for line in out.split(\"\\n\"):\n",
    "    t = line.split()\n",
    "    if len(t)>4 and t[0]==\"Sequences\":\n",
    "        scores.append(int(t[4]))\n",
    "print np.mean(scores)\n"
   ]
  },
  {
   "cell_type": "code",
   "execution_count": null,
   "metadata": {
    "collapsed": true
   },
   "outputs": [],
   "source": []
  }
 ],
 "metadata": {
  "kernelspec": {
   "display_name": "Python 2",
   "language": "python",
   "name": "python2"
  },
  "language_info": {
   "codemirror_mode": {
    "name": "ipython",
    "version": 2
   },
   "file_extension": ".py",
   "mimetype": "text/x-python",
   "name": "python",
   "nbconvert_exporter": "python",
   "pygments_lexer": "ipython2",
   "version": "2.7.10"
  }
 },
 "nbformat": 4,
 "nbformat_minor": 0
}
